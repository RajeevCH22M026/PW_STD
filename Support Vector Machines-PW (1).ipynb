{
 "cells": [
  {
   "cell_type": "markdown",
   "id": "cf3123a5",
   "metadata": {},
   "source": [
    "# Support Vector Classifier Implementation"
   ]
  },
  {
   "cell_type": "code",
   "execution_count": 11,
   "id": "21a44f2f",
   "metadata": {},
   "outputs": [],
   "source": [
    "import pandas as pd\n",
    "import numpy as np\n",
    "import seaborn as sns\n",
    "import matplotlib.pyplot as plt\n",
    "import warnings\n",
    "warnings.filterwarnings('ignore')\n",
    "%matplotlib inline"
   ]
  },
  {
   "cell_type": "code",
   "execution_count": 2,
   "id": "f57b2126",
   "metadata": {},
   "outputs": [],
   "source": [
    "# Lets create synthetic data points\n",
    "from sklearn.datasets import make_classification\n",
    "# define dataset\n",
    "X, y = make_classification(n_samples=1000, n_features=2, n_clusters_per_class=2, n_classes=2, n_redundant=0)"
   ]
  },
  {
   "cell_type": "code",
   "execution_count": 3,
   "id": "f3efd9be",
   "metadata": {},
   "outputs": [
    {
     "data": {
      "text/plain": [
       "array([[-0.86244547, -1.41076265],\n",
       "       [ 0.3543014 ,  1.01177164],\n",
       "       [-0.83221868, -1.47308693],\n",
       "       ...,\n",
       "       [ 0.36369118,  1.01406986],\n",
       "       [-3.36930447,  1.85780754],\n",
       "       [ 1.77517103,  0.86401484]])"
      ]
     },
     "execution_count": 3,
     "metadata": {},
     "output_type": "execute_result"
    }
   ],
   "source": [
    "X"
   ]
  },
  {
   "cell_type": "code",
   "execution_count": 4,
   "id": "261a6051",
   "metadata": {},
   "outputs": [
    {
     "data": {
      "text/plain": [
       "array([0, 1, 0, 0, 0, 0, 0, 0, 0, 1, 1, 1, 1, 1, 0, 0, 1, 1, 1, 1, 0, 1,\n",
       "       0, 1, 0, 1, 0, 1, 1, 1, 0, 1, 1, 1, 1, 1, 0, 1, 0, 0, 0, 0, 1, 0,\n",
       "       1, 1, 0, 1, 0, 0, 0, 0, 1, 1, 0, 1, 1, 1, 1, 0, 1, 0, 0, 1, 0, 0,\n",
       "       0, 1, 0, 0, 0, 1, 1, 1, 1, 0, 0, 0, 1, 1, 0, 0, 1, 1, 0, 0, 1, 0,\n",
       "       0, 1, 1, 1, 0, 1, 0, 1, 0, 1, 1, 1, 1, 1, 1, 1, 0, 1, 0, 0, 1, 1,\n",
       "       1, 0, 0, 1, 1, 0, 1, 1, 0, 0, 1, 1, 0, 0, 0, 1, 0, 0, 0, 1, 0, 0,\n",
       "       1, 1, 1, 1, 1, 0, 1, 0, 0, 0, 1, 1, 1, 0, 1, 1, 1, 0, 1, 0, 1, 1,\n",
       "       1, 0, 0, 1, 0, 1, 1, 1, 1, 1, 0, 0, 0, 0, 0, 1, 1, 1, 0, 0, 1, 1,\n",
       "       0, 1, 0, 0, 0, 1, 0, 0, 0, 1, 1, 0, 0, 0, 0, 0, 0, 0, 0, 1, 0, 0,\n",
       "       0, 1, 1, 0, 1, 0, 0, 1, 0, 1, 1, 1, 0, 1, 1, 1, 0, 0, 1, 1, 0, 0,\n",
       "       1, 1, 1, 0, 1, 1, 0, 1, 0, 1, 0, 1, 0, 1, 1, 0, 0, 0, 0, 0, 0, 0,\n",
       "       0, 1, 0, 0, 1, 1, 1, 0, 1, 0, 1, 1, 0, 0, 1, 0, 0, 1, 1, 0, 1, 1,\n",
       "       1, 1, 1, 0, 0, 0, 1, 1, 1, 0, 0, 1, 0, 1, 1, 0, 1, 0, 1, 1, 1, 0,\n",
       "       0, 1, 0, 1, 1, 1, 1, 0, 1, 1, 0, 1, 1, 0, 0, 1, 1, 1, 1, 1, 0, 0,\n",
       "       0, 0, 1, 0, 1, 1, 0, 1, 1, 1, 0, 0, 1, 1, 1, 1, 0, 0, 0, 0, 1, 0,\n",
       "       0, 0, 1, 1, 1, 1, 1, 1, 1, 0, 0, 1, 1, 1, 1, 0, 1, 0, 0, 1, 1, 1,\n",
       "       1, 0, 1, 0, 0, 1, 0, 1, 1, 0, 1, 0, 0, 1, 0, 1, 0, 1, 0, 1, 0, 1,\n",
       "       1, 0, 0, 0, 0, 0, 0, 0, 1, 1, 1, 1, 1, 1, 0, 1, 0, 0, 1, 0, 0, 1,\n",
       "       1, 1, 0, 0, 0, 1, 1, 0, 0, 1, 0, 0, 1, 0, 0, 1, 1, 0, 0, 1, 0, 0,\n",
       "       0, 0, 1, 0, 0, 1, 0, 1, 1, 1, 1, 0, 0, 1, 1, 1, 0, 1, 0, 0, 0, 1,\n",
       "       1, 1, 1, 1, 1, 0, 1, 0, 0, 0, 1, 0, 0, 1, 0, 0, 1, 0, 1, 1, 1, 0,\n",
       "       1, 1, 1, 0, 0, 1, 0, 0, 0, 0, 0, 1, 0, 0, 0, 1, 1, 0, 1, 1, 1, 0,\n",
       "       0, 0, 1, 0, 0, 1, 1, 0, 0, 1, 1, 0, 1, 0, 0, 0, 0, 1, 0, 0, 0, 1,\n",
       "       0, 1, 0, 1, 1, 0, 1, 0, 1, 1, 0, 0, 0, 0, 0, 0, 0, 1, 1, 1, 0, 1,\n",
       "       1, 1, 0, 1, 1, 1, 0, 0, 0, 1, 0, 0, 0, 0, 1, 0, 1, 1, 0, 1, 1, 0,\n",
       "       1, 0, 1, 0, 0, 0, 1, 1, 0, 0, 1, 1, 1, 0, 0, 1, 1, 1, 0, 0, 0, 0,\n",
       "       0, 0, 0, 0, 0, 1, 1, 0, 1, 1, 1, 1, 0, 1, 1, 1, 0, 1, 1, 0, 1, 0,\n",
       "       0, 1, 1, 0, 1, 0, 0, 0, 1, 1, 1, 1, 1, 0, 1, 1, 1, 0, 0, 0, 1, 1,\n",
       "       1, 1, 1, 1, 0, 1, 0, 1, 1, 0, 1, 1, 1, 0, 1, 0, 1, 1, 0, 1, 0, 0,\n",
       "       1, 0, 1, 1, 1, 0, 0, 0, 1, 0, 0, 0, 0, 1, 1, 0, 1, 0, 1, 1, 1, 0,\n",
       "       0, 0, 1, 1, 1, 0, 0, 0, 1, 0, 1, 0, 0, 0, 0, 0, 0, 0, 1, 0, 1, 1,\n",
       "       0, 1, 1, 0, 0, 0, 1, 0, 0, 0, 0, 1, 1, 1, 0, 0, 1, 0, 0, 1, 0, 1,\n",
       "       1, 1, 0, 0, 1, 0, 1, 1, 1, 1, 0, 1, 0, 0, 0, 0, 0, 0, 1, 1, 1, 1,\n",
       "       0, 0, 0, 0, 1, 1, 1, 0, 1, 1, 0, 0, 0, 0, 0, 0, 0, 1, 0, 0, 0, 0,\n",
       "       1, 0, 0, 1, 1, 1, 1, 1, 1, 1, 0, 0, 0, 0, 1, 1, 0, 0, 0, 1, 0, 1,\n",
       "       1, 1, 1, 1, 0, 0, 1, 1, 0, 1, 1, 0, 0, 0, 1, 1, 0, 0, 0, 0, 0, 0,\n",
       "       0, 1, 1, 0, 0, 0, 1, 1, 0, 1, 1, 1, 1, 1, 1, 0, 1, 0, 1, 0, 1, 1,\n",
       "       1, 1, 1, 0, 1, 1, 0, 1, 1, 1, 1, 0, 0, 0, 0, 1, 0, 1, 1, 0, 1, 1,\n",
       "       1, 0, 0, 0, 0, 1, 0, 1, 1, 1, 0, 1, 0, 1, 1, 1, 1, 0, 0, 1, 1, 1,\n",
       "       0, 1, 0, 0, 0, 0, 0, 0, 0, 0, 0, 0, 1, 1, 1, 1, 1, 0, 1, 1, 1, 1,\n",
       "       0, 1, 1, 1, 0, 1, 0, 0, 0, 1, 0, 1, 1, 1, 0, 0, 0, 1, 0, 1, 0, 1,\n",
       "       0, 1, 1, 1, 1, 0, 1, 0, 0, 0, 1, 0, 0, 0, 1, 0, 0, 1, 0, 0, 0, 0,\n",
       "       1, 1, 0, 0, 0, 0, 0, 1, 1, 0, 0, 0, 1, 1, 0, 1, 0, 1, 0, 0, 0, 0,\n",
       "       0, 1, 0, 0, 0, 0, 1, 1, 1, 0, 1, 1, 0, 0, 0, 1, 0, 0, 0, 0, 1, 0,\n",
       "       0, 1, 0, 1, 1, 1, 0, 1, 0, 0, 1, 1, 1, 0, 0, 1, 1, 1, 1, 1, 1, 0,\n",
       "       0, 1, 1, 0, 0, 0, 1, 1, 0, 1])"
      ]
     },
     "execution_count": 4,
     "metadata": {},
     "output_type": "execute_result"
    }
   ],
   "source": [
    "y"
   ]
  },
  {
   "cell_type": "code",
   "execution_count": 21,
   "id": "1d7aee40",
   "metadata": {},
   "outputs": [],
   "source": [
    "#pd.DatatFrame(X)[0]"
   ]
  },
  {
   "cell_type": "code",
   "execution_count": 13,
   "id": "35a65159",
   "metadata": {},
   "outputs": [
    {
     "data": {
      "text/plain": [
       "<AxesSubplot:xlabel='0', ylabel='1'>"
      ]
     },
     "execution_count": 13,
     "metadata": {},
     "output_type": "execute_result"
    },
    {
     "data": {
      "image/png": "[encoded data removed]",
      "text/plain": [
       "<Figure size 640x480 with 1 Axes>"
      ]
     },
     "metadata": {},
     "output_type": "display_data"
    }
   ],
   "source": [
    "sns.scatterplot(x=pd.DataFrame(X)[0],y=pd.DataFrame(X)[1],hue=y)"
   ]
  },
  {
   "cell_type": "code",
   "execution_count": 14,
   "id": "f130588d",
   "metadata": {},
   "outputs": [],
   "source": [
    "# Train Test split\n",
    "from sklearn.model_selection import train_test_split\n",
    "X_train,X_test,y_train,y_test=train_test_split(X,y,test_size=0.25,random_state=42)"
   ]
  },
  {
   "cell_type": "code",
   "execution_count": 15,
   "id": "b921cf20",
   "metadata": {},
   "outputs": [],
   "source": [
    "from sklearn.svm import SVC"
   ]
  },
  {
   "cell_type": "code",
   "execution_count": 16,
   "id": "eeffeefd",
   "metadata": {},
   "outputs": [],
   "source": [
    "svc=SVC(kernel='linear')"
   ]
  },
  {
   "cell_type": "code",
   "execution_count": 17,
   "id": "8df5b860",
   "metadata": {},
   "outputs": [
    {
     "data": {
      "text/plain": [
       "SVC(kernel='linear')"
      ]
     },
     "execution_count": 17,
     "metadata": {},
     "output_type": "execute_result"
    }
   ],
   "source": [
    "svc.fit(X_train,y_train)"
   ]
  },
  {
   "cell_type": "code",
   "execution_count": 18,
   "id": "1eeb9520",
   "metadata": {},
   "outputs": [
    {
     "data": {
      "text/plain": [
       "array([[1.6956669 , 0.11687884]])"
      ]
     },
     "execution_count": 18,
     "metadata": {},
     "output_type": "execute_result"
    }
   ],
   "source": [
    "svc.coef_"
   ]
  },
  {
   "cell_type": "code",
   "execution_count": 19,
   "id": "8a1d6e85",
   "metadata": {},
   "outputs": [
    {
     "data": {
      "text/plain": [
       "array([0, 0, 0, 0, 1, 1, 0, 0, 1, 1, 0, 0, 0, 1, 0, 1, 1, 1, 0, 0, 0, 1,\n",
       "       1, 1, 0, 0, 1, 1, 0, 1, 1, 0, 1, 1, 0, 0, 1, 0, 1, 0, 1, 0, 1, 0,\n",
       "       0, 1, 1, 0, 1, 0, 0, 1, 0, 1, 1, 0, 1, 1, 1, 1, 0, 0, 1, 1, 1, 0,\n",
       "       1, 0, 0, 0, 0, 1, 1, 0, 1, 1, 1, 0, 1, 0, 0, 0, 1, 1, 0, 1, 0, 0,\n",
       "       1, 0, 1, 0, 0, 0, 0, 1, 0, 1, 0, 0, 0, 1, 1, 1, 1, 0, 0, 0, 1, 0,\n",
       "       0, 1, 0, 1, 1, 1, 0, 1, 1, 1, 0, 1, 1, 1, 0, 1, 1, 0, 0, 0, 0, 1,\n",
       "       1, 0, 1, 1, 1, 0, 1, 1, 1, 1, 0, 0, 1, 1, 1, 0, 1, 1, 0, 0, 1, 0,\n",
       "       1, 1, 0, 1, 1, 0, 1, 1, 0, 0, 1, 1, 1, 0, 0, 1, 0, 0, 1, 0, 1, 0,\n",
       "       0, 1, 1, 0, 1, 1, 0, 0, 1, 0, 0, 1, 0, 0, 0, 1, 1, 1, 1, 1, 1, 1,\n",
       "       0, 1, 1, 0, 1, 1, 0, 1, 0, 0, 0, 0, 0, 0, 1, 0, 0, 0, 1, 0, 0, 0,\n",
       "       1, 1, 1, 0, 0, 0, 0, 1, 1, 0, 1, 1, 1, 0, 0, 1, 1, 0, 0, 1, 0, 0,\n",
       "       1, 1, 0, 1, 0, 0, 0, 0])"
      ]
     },
     "execution_count": 19,
     "metadata": {},
     "output_type": "execute_result"
    }
   ],
   "source": [
    "# Prediction\n",
    "y_pred=svc.predict(X_test)\n",
    "y_pred"
   ]
  },
  {
   "cell_type": "code",
   "execution_count": 20,
   "id": "26c95c6e",
   "metadata": {},
   "outputs": [
    {
     "name": "stdout",
     "output_type": "stream",
     "text": [
      "0.908\n",
      "              precision    recall  f1-score   support\n",
      "\n",
      "           0       0.90      0.92      0.91       124\n",
      "           1       0.92      0.90      0.91       126\n",
      "\n",
      "    accuracy                           0.91       250\n",
      "   macro avg       0.91      0.91      0.91       250\n",
      "weighted avg       0.91      0.91      0.91       250\n",
      "\n"
     ]
    }
   ],
   "source": [
    "from sklearn.metrics import confusion_matrix,accuracy_score,classification_report\n",
    "score=accuracy_score(y_pred,y_test)\n",
    "print(score)\n",
    "print(classification_report(y_pred,y_test))"
   ]
  },
  {
   "cell_type": "markdown",
   "id": "45f1324a",
   "metadata": {},
   "source": [
    "# Hyperparameter Tuning with SVC"
   ]
  },
  {
   "cell_type": "code",
   "execution_count": 39,
   "id": "30d6ac28",
   "metadata": {},
   "outputs": [],
   "source": [
    "from sklearn.model_selection import GridSearchCV\n",
    "\n",
    "# defining parameter range\n",
    "param_grid = {'C': [0.1, 1, 10, 100, 1000],\n",
    "              'gamma' : [1, 0.1, 0.01, 0.001, 0.0001],\n",
    "              'kernel': ['linear']\n",
    "            }"
   ]
  },
  {
   "cell_type": "code",
   "execution_count": 43,
   "id": "10d1f635",
   "metadata": {},
   "outputs": [],
   "source": [
    "grid=GridSearchCV((SVC),param_grid=param_grid,refit=True,cv=5,verbose=3)"
   ]
  },
  {
   "cell_type": "code",
   "execution_count": 58,
   "id": "07f77de3",
   "metadata": {},
   "outputs": [
    {
     "name": "stdout",
     "output_type": "stream",
     "text": [
      "Fitting 5 folds for each of 25 candidates, totalling 125 fits\n",
      "[CV 1/5] END .....C=0.1, gamma=1, kernel=linear;, score=0.887 total time=   0.0s\n",
      "[CV 2/5] END .....C=0.1, gamma=1, kernel=linear;, score=0.900 total time=   0.0s\n",
      "[CV 3/5] END .....C=0.1, gamma=1, kernel=linear;, score=0.913 total time=   0.0s\n",
      "[CV 4/5] END .....C=0.1, gamma=1, kernel=linear;, score=0.927 total time=   0.0s\n",
      "[CV 5/5] END .....C=0.1, gamma=1, kernel=linear;, score=0.887 total time=   0.0s\n",
      "[CV 1/5] END ...C=0.1, gamma=0.1, kernel=linear;, score=0.887 total time=   0.0s\n",
      "[CV 2/5] END ...C=0.1, gamma=0.1, kernel=linear;, score=0.900 total time=   0.0s\n",
      "[CV 3/5] END ...C=0.1, gamma=0.1, kernel=linear;, score=0.913 total time=   0.0s\n",
      "[CV 4/5] END ...C=0.1, gamma=0.1, kernel=linear;, score=0.927 total time=   0.0s\n",
      "[CV 5/5] END ...C=0.1, gamma=0.1, kernel=linear;, score=0.887 total time=   0.0s\n",
      "[CV 1/5] END ..C=0.1, gamma=0.01, kernel=linear;, score=0.887 total time=   0.0s\n",
      "[CV 2/5] END ..C=0.1, gamma=0.01, kernel=linear;, score=0.900 total time=   0.0s\n",
      "[CV 3/5] END ..C=0.1, gamma=0.01, kernel=linear;, score=0.913 total time=   0.0s\n",
      "[CV 4/5] END ..C=0.1, gamma=0.01, kernel=linear;, score=0.927 total time=   0.0s\n",
      "[CV 5/5] END ..C=0.1, gamma=0.01, kernel=linear;, score=0.887 total time=   0.0s\n",
      "[CV 1/5] END .C=0.1, gamma=0.001, kernel=linear;, score=0.887 total time=   0.0s\n",
      "[CV 2/5] END .C=0.1, gamma=0.001, kernel=linear;, score=0.900 total time=   0.0s\n",
      "[CV 3/5] END .C=0.1, gamma=0.001, kernel=linear;, score=0.913 total time=   0.0s\n",
      "[CV 4/5] END .C=0.1, gamma=0.001, kernel=linear;, score=0.927 total time=   0.0s\n",
      "[CV 5/5] END .C=0.1, gamma=0.001, kernel=linear;, score=0.887 total time=   0.0s\n",
      "[CV 1/5] END C=0.1, gamma=0.0001, kernel=linear;, score=0.887 total time=   0.0s\n",
      "[CV 2/5] END C=0.1, gamma=0.0001, kernel=linear;, score=0.900 total time=   0.0s\n",
      "[CV 3/5] END C=0.1, gamma=0.0001, kernel=linear;, score=0.913 total time=   0.0s\n",
      "[CV 4/5] END C=0.1, gamma=0.0001, kernel=linear;, score=0.927 total time=   0.0s\n",
      "[CV 5/5] END C=0.1, gamma=0.0001, kernel=linear;, score=0.887 total time=   0.0s\n",
      "[CV 1/5] END .......C=1, gamma=1, kernel=linear;, score=0.887 total time=   0.0s\n",
      "[CV 2/5] END .......C=1, gamma=1, kernel=linear;, score=0.887 total time=   0.0s\n",
      "[CV 3/5] END .......C=1, gamma=1, kernel=linear;, score=0.913 total time=   0.0s\n",
      "[CV 4/5] END .......C=1, gamma=1, kernel=linear;, score=0.927 total time=   0.0s\n",
      "[CV 5/5] END .......C=1, gamma=1, kernel=linear;, score=0.887 total time=   0.0s\n",
      "[CV 1/5] END .....C=1, gamma=0.1, kernel=linear;, score=0.887 total time=   0.0s\n",
      "[CV 2/5] END .....C=1, gamma=0.1, kernel=linear;, score=0.887 total time=   0.0s\n",
      "[CV 3/5] END .....C=1, gamma=0.1, kernel=linear;, score=0.913 total time=   0.0s\n",
      "[CV 4/5] END .....C=1, gamma=0.1, kernel=linear;, score=0.927 total time=   0.0s\n",
      "[CV 5/5] END .....C=1, gamma=0.1, kernel=linear;, score=0.887 total time=   0.0s\n",
      "[CV 1/5] END ....C=1, gamma=0.01, kernel=linear;, score=0.887 total time=   0.0s\n",
      "[CV 2/5] END ....C=1, gamma=0.01, kernel=linear;, score=0.887 total time=   0.0s\n",
      "[CV 3/5] END ....C=1, gamma=0.01, kernel=linear;, score=0.913 total time=   0.0s\n",
      "[CV 4/5] END ....C=1, gamma=0.01, kernel=linear;, score=0.927 total time=   0.0s\n",
      "[CV 5/5] END ....C=1, gamma=0.01, kernel=linear;, score=0.887 total time=   0.0s\n",
      "[CV 1/5] END ...C=1, gamma=0.001, kernel=linear;, score=0.887 total time=   0.0s\n",
      "[CV 2/5] END ...C=1, gamma=0.001, kernel=linear;, score=0.887 total time=   0.0s\n",
      "[CV 3/5] END ...C=1, gamma=0.001, kernel=linear;, score=0.913 total time=   0.0s\n",
      "[CV 4/5] END ...C=1, gamma=0.001, kernel=linear;, score=0.927 total time=   0.0s\n",
      "[CV 5/5] END ...C=1, gamma=0.001, kernel=linear;, score=0.887 total time=   0.0s\n",
      "[CV 1/5] END ..C=1, gamma=0.0001, kernel=linear;, score=0.887 total time=   0.0s\n",
      "[CV 2/5] END ..C=1, gamma=0.0001, kernel=linear;, score=0.887 total time=   0.0s\n",
      "[CV 3/5] END ..C=1, gamma=0.0001, kernel=linear;, score=0.913 total time=   0.0s\n",
      "[CV 4/5] END ..C=1, gamma=0.0001, kernel=linear;, score=0.927 total time=   0.0s\n",
      "[CV 5/5] END ..C=1, gamma=0.0001, kernel=linear;, score=0.887 total time=   0.0s\n",
      "[CV 1/5] END ......C=10, gamma=1, kernel=linear;, score=0.880 total time=   0.0s\n",
      "[CV 2/5] END ......C=10, gamma=1, kernel=linear;, score=0.887 total time=   0.0s\n",
      "[CV 3/5] END ......C=10, gamma=1, kernel=linear;, score=0.913 total time=   0.0s\n",
      "[CV 4/5] END ......C=10, gamma=1, kernel=linear;, score=0.927 total time=   0.0s\n",
      "[CV 5/5] END ......C=10, gamma=1, kernel=linear;, score=0.887 total time=   0.0s\n",
      "[CV 1/5] END ....C=10, gamma=0.1, kernel=linear;, score=0.880 total time=   0.0s\n",
      "[CV 2/5] END ....C=10, gamma=0.1, kernel=linear;, score=0.887 total time=   0.0s\n",
      "[CV 3/5] END ....C=10, gamma=0.1, kernel=linear;, score=0.913 total time=   0.0s\n",
      "[CV 4/5] END ....C=10, gamma=0.1, kernel=linear;, score=0.927 total time=   0.0s\n",
      "[CV 5/5] END ....C=10, gamma=0.1, kernel=linear;, score=0.887 total time=   0.0s\n",
      "[CV 1/5] END ...C=10, gamma=0.01, kernel=linear;, score=0.880 total time=   0.0s\n",
      "[CV 2/5] END ...C=10, gamma=0.01, kernel=linear;, score=0.887 total time=   0.0s\n",
      "[CV 3/5] END ...C=10, gamma=0.01, kernel=linear;, score=0.913 total time=   0.0s\n",
      "[CV 4/5] END ...C=10, gamma=0.01, kernel=linear;, score=0.927 total time=   0.0s\n",
      "[CV 5/5] END ...C=10, gamma=0.01, kernel=linear;, score=0.887 total time=   0.0s\n",
      "[CV 1/5] END ..C=10, gamma=0.001, kernel=linear;, score=0.880 total time=   0.0s\n",
      "[CV 2/5] END ..C=10, gamma=0.001, kernel=linear;, score=0.887 total time=   0.0s\n",
      "[CV 3/5] END ..C=10, gamma=0.001, kernel=linear;, score=0.913 total time=   0.0s\n",
      "[CV 4/5] END ..C=10, gamma=0.001, kernel=linear;, score=0.927 total time=   0.0s\n",
      "[CV 5/5] END ..C=10, gamma=0.001, kernel=linear;, score=0.887 total time=   0.0s\n",
      "[CV 1/5] END .C=10, gamma=0.0001, kernel=linear;, score=0.880 total time=   0.0s\n",
      "[CV 2/5] END .C=10, gamma=0.0001, kernel=linear;, score=0.887 total time=   0.0s\n",
      "[CV 3/5] END .C=10, gamma=0.0001, kernel=linear;, score=0.913 total time=   0.0s\n",
      "[CV 4/5] END .C=10, gamma=0.0001, kernel=linear;, score=0.927 total time=   0.0s\n",
      "[CV 5/5] END .C=10, gamma=0.0001, kernel=linear;, score=0.887 total time=   0.0s\n",
      "[CV 1/5] END .....C=100, gamma=1, kernel=linear;, score=0.880 total time=   0.0s\n",
      "[CV 2/5] END .....C=100, gamma=1, kernel=linear;, score=0.887 total time=   0.0s\n",
      "[CV 3/5] END .....C=100, gamma=1, kernel=linear;, score=0.913 total time=   0.0s\n",
      "[CV 4/5] END .....C=100, gamma=1, kernel=linear;, score=0.927 total time=   0.0s\n",
      "[CV 5/5] END .....C=100, gamma=1, kernel=linear;, score=0.887 total time=   0.0s\n",
      "[CV 1/5] END ...C=100, gamma=0.1, kernel=linear;, score=0.880 total time=   0.0s\n",
      "[CV 2/5] END ...C=100, gamma=0.1, kernel=linear;, score=0.887 total time=   0.0s\n",
      "[CV 3/5] END ...C=100, gamma=0.1, kernel=linear;, score=0.913 total time=   0.0s\n",
      "[CV 4/5] END ...C=100, gamma=0.1, kernel=linear;, score=0.927 total time=   0.0s\n",
      "[CV 5/5] END ...C=100, gamma=0.1, kernel=linear;, score=0.887 total time=   0.0s\n",
      "[CV 1/5] END ..C=100, gamma=0.01, kernel=linear;, score=0.880 total time=   0.0s\n",
      "[CV 2/5] END ..C=100, gamma=0.01, kernel=linear;, score=0.887 total time=   0.0s\n",
      "[CV 3/5] END ..C=100, gamma=0.01, kernel=linear;, score=0.913 total time=   0.0s\n",
      "[CV 4/5] END ..C=100, gamma=0.01, kernel=linear;, score=0.927 total time=   0.0s\n",
      "[CV 5/5] END ..C=100, gamma=0.01, kernel=linear;, score=0.887 total time=   0.0s\n",
      "[CV 1/5] END .C=100, gamma=0.001, kernel=linear;, score=0.880 total time=   0.0s\n",
      "[CV 2/5] END .C=100, gamma=0.001, kernel=linear;, score=0.887 total time=   0.0s\n",
      "[CV 3/5] END .C=100, gamma=0.001, kernel=linear;, score=0.913 total time=   0.0s\n",
      "[CV 4/5] END .C=100, gamma=0.001, kernel=linear;, score=0.927 total time=   0.0s\n",
      "[CV 5/5] END .C=100, gamma=0.001, kernel=linear;, score=0.887 total time=   0.0s\n",
      "[CV 1/5] END C=100, gamma=0.0001, kernel=linear;, score=0.880 total time=   0.0s\n",
      "[CV 2/5] END C=100, gamma=0.0001, kernel=linear;, score=0.887 total time=   0.0s\n",
      "[CV 3/5] END C=100, gamma=0.0001, kernel=linear;, score=0.913 total time=   0.0s\n",
      "[CV 4/5] END C=100, gamma=0.0001, kernel=linear;, score=0.927 total time=   0.0s\n",
      "[CV 5/5] END C=100, gamma=0.0001, kernel=linear;, score=0.887 total time=   0.0s\n",
      "[CV 1/5] END ....C=1000, gamma=1, kernel=linear;, score=0.880 total time=   0.3s\n",
      "[CV 2/5] END ....C=1000, gamma=1, kernel=linear;, score=0.887 total time=   0.3s\n",
      "[CV 3/5] END ....C=1000, gamma=1, kernel=linear;, score=0.913 total time=   0.5s\n",
      "[CV 4/5] END ....C=1000, gamma=1, kernel=linear;, score=0.927 total time=   0.5s\n",
      "[CV 5/5] END ....C=1000, gamma=1, kernel=linear;, score=0.887 total time=   0.4s\n",
      "[CV 1/5] END ..C=1000, gamma=0.1, kernel=linear;, score=0.880 total time=   0.3s\n",
      "[CV 2/5] END ..C=1000, gamma=0.1, kernel=linear;, score=0.887 total time=   0.3s\n",
      "[CV 3/5] END ..C=1000, gamma=0.1, kernel=linear;, score=0.913 total time=   0.5s\n",
      "[CV 4/5] END ..C=1000, gamma=0.1, kernel=linear;, score=0.927 total time=   0.5s\n",
      "[CV 5/5] END ..C=1000, gamma=0.1, kernel=linear;, score=0.887 total time=   0.4s\n",
      "[CV 1/5] END .C=1000, gamma=0.01, kernel=linear;, score=0.880 total time=   0.3s\n",
      "[CV 2/5] END .C=1000, gamma=0.01, kernel=linear;, score=0.887 total time=   0.3s\n",
      "[CV 3/5] END .C=1000, gamma=0.01, kernel=linear;, score=0.913 total time=   0.5s\n",
      "[CV 4/5] END .C=1000, gamma=0.01, kernel=linear;, score=0.927 total time=   0.5s\n",
      "[CV 5/5] END .C=1000, gamma=0.01, kernel=linear;, score=0.887 total time=   0.4s\n",
      "[CV 1/5] END C=1000, gamma=0.001, kernel=linear;, score=0.880 total time=   0.3s\n",
      "[CV 2/5] END C=1000, gamma=0.001, kernel=linear;, score=0.887 total time=   0.3s\n",
      "[CV 3/5] END C=1000, gamma=0.001, kernel=linear;, score=0.913 total time=   0.5s\n",
      "[CV 4/5] END C=1000, gamma=0.001, kernel=linear;, score=0.927 total time=   0.5s\n",
      "[CV 5/5] END C=1000, gamma=0.001, kernel=linear;, score=0.887 total time=   0.4s\n",
      "[CV 1/5] END C=1000, gamma=0.0001, kernel=linear;, score=0.880 total time=   0.3s\n",
      "[CV 2/5] END C=1000, gamma=0.0001, kernel=linear;, score=0.887 total time=   0.3s\n",
      "[CV 3/5] END C=1000, gamma=0.0001, kernel=linear;, score=0.913 total time=   0.5s\n",
      "[CV 4/5] END C=1000, gamma=0.0001, kernel=linear;, score=0.927 total time=   0.5s\n",
      "[CV 5/5] END C=1000, gamma=0.0001, kernel=linear;, score=0.887 total time=   0.4s\n"
     ]
    },
    {
     "data": {
      "text/plain": [
       "GridSearchCV(cv=5, estimator=SVC(),\n",
       "             param_grid={'C': [0.1, 1, 10, 100, 1000],\n",
       "                         'gamma': [1, 0.1, 0.01, 0.001, 0.0001],\n",
       "                         'kernel': ['linear']},\n",
       "             verbose=3)"
      ]
     },
     "execution_count": 58,
     "metadata": {},
     "output_type": "execute_result"
    }
   ],
   "source": [
    "grid.fit(X_train, y_train)"
   ]
  },
  {
   "cell_type": "code",
   "execution_count": 59,
   "id": "effa3bd0",
   "metadata": {},
   "outputs": [
    {
     "data": {
      "text/plain": [
       "{'C': 0.1, 'gamma': 1, 'kernel': 'linear'}"
      ]
     },
     "execution_count": 59,
     "metadata": {},
     "output_type": "execute_result"
    }
   ],
   "source": [
    "grid.best_params_"
   ]
  },
  {
   "cell_type": "code",
   "execution_count": 60,
   "id": "9eeabea5",
   "metadata": {},
   "outputs": [
    {
     "data": {
      "text/plain": [
       "array([0, 0, 0, 0, 0, 1, 0, 0, 1, 1, 0, 0, 0, 1, 0, 1, 1, 1, 0, 0, 0, 1,\n",
       "       1, 1, 0, 0, 1, 1, 0, 1, 1, 0, 1, 1, 0, 0, 1, 0, 1, 0, 1, 0, 1, 0,\n",
       "       0, 1, 1, 0, 1, 0, 0, 1, 0, 1, 1, 0, 1, 1, 1, 1, 0, 0, 1, 1, 1, 0,\n",
       "       1, 0, 0, 0, 0, 1, 1, 0, 1, 1, 1, 0, 1, 0, 0, 0, 1, 1, 0, 1, 0, 0,\n",
       "       1, 0, 1, 0, 0, 0, 0, 1, 0, 1, 0, 0, 0, 1, 1, 1, 1, 0, 0, 0, 1, 0,\n",
       "       0, 1, 0, 1, 1, 1, 0, 1, 1, 1, 0, 1, 1, 1, 0, 1, 1, 0, 0, 0, 0, 1,\n",
       "       1, 0, 1, 1, 1, 0, 1, 1, 1, 1, 0, 0, 1, 1, 1, 0, 1, 1, 0, 0, 1, 0,\n",
       "       1, 1, 0, 1, 1, 0, 1, 1, 0, 0, 1, 1, 1, 0, 0, 1, 0, 0, 1, 0, 1, 0,\n",
       "       0, 1, 1, 0, 1, 1, 0, 0, 1, 0, 0, 1, 0, 0, 0, 1, 1, 1, 1, 1, 1, 1,\n",
       "       0, 1, 1, 0, 1, 1, 0, 1, 0, 0, 0, 0, 0, 0, 1, 0, 0, 0, 1, 0, 0, 0,\n",
       "       1, 1, 1, 0, 0, 0, 0, 1, 1, 0, 1, 1, 1, 0, 0, 1, 1, 0, 0, 1, 0, 0,\n",
       "       1, 1, 0, 1, 0, 0, 0, 0])"
      ]
     },
     "execution_count": 60,
     "metadata": {},
     "output_type": "execute_result"
    }
   ],
   "source": [
    "# Prediction\n",
    "y_pred=grid.predict(X_test)\n",
    "y_pred"
   ]
  },
  {
   "cell_type": "code",
   "execution_count": 61,
   "id": "8a1494fe",
   "metadata": {},
   "outputs": [
    {
     "name": "stdout",
     "output_type": "stream",
     "text": [
      "0.904\n",
      "              precision    recall  f1-score   support\n",
      "\n",
      "           0       0.90      0.91      0.90       125\n",
      "           1       0.91      0.90      0.90       125\n",
      "\n",
      "    accuracy                           0.90       250\n",
      "   macro avg       0.90      0.90      0.90       250\n",
      "weighted avg       0.90      0.90      0.90       250\n",
      "\n"
     ]
    }
   ],
   "source": [
    "from sklearn.metrics import confusion_matrix,accuracy_score,classification_report\n",
    "score=accuracy_score(y_pred,y_test)\n",
    "print(score)\n",
    "print(classification_report(y_pred,y_test))"
   ]
  },
  {
   "cell_type": "markdown",
   "id": "c158dd8f",
   "metadata": {},
   "source": [
    "## Support Vector Regressor Implementation"
   ]
  },
  {
   "cell_type": "code",
   "execution_count": 63,
   "id": "dec2731d",
   "metadata": {},
   "outputs": [],
   "source": [
    "# Lets create synthetic data points\n",
    "from sklearn.datasets import make_regression\n",
    "# define dataset\n",
    "X, y = make_regression(n_samples=1000, n_features=2, n_targets=1, noise=3.0)"
   ]
  },
  {
   "cell_type": "code",
   "execution_count": 64,
   "id": "ebe1efc2",
   "metadata": {},
   "outputs": [
    {
     "data": {
      "text/plain": [
       "array([[ 0.91724229, -0.36994617],\n",
       "       [-0.09666323, -0.42079772],\n",
       "       [-1.37984622,  0.14000789],\n",
       "       ...,\n",
       "       [-0.22816221,  0.32441188],\n",
       "       [-1.01398382, -0.24414555],\n",
       "       [ 0.62350554,  0.67006467]])"
      ]
     },
     "execution_count": 64,
     "metadata": {},
     "output_type": "execute_result"
    }
   ],
   "source": [
    "X"
   ]
  },
  {
   "cell_type": "code",
   "execution_count": 65,
   "id": "b5065771",
   "metadata": {},
   "outputs": [
    {
     "data": {
      "text/plain": [
       "array([ 6.96433286e+01, -3.11244069e+01, -1.30006313e+02, -1.29544982e+02,\n",
       "       -4.39059711e+01, -1.11986661e+01,  7.65928087e+01,  2.48006658e+02,\n",
       "       -6.73106764e+01, -1.47629923e+02,  1.40169571e+02, -5.08036675e+01,\n",
       "       -9.48123933e+01, -1.34226049e+02,  1.05386649e+02, -6.71642517e+01,\n",
       "       -2.77089245e+01, -8.00055630e+01,  7.16648723e+01, -1.62878740e+02,\n",
       "        6.59377864e+01,  2.48382029e+01,  2.67105290e+01,  9.05871677e+01,\n",
       "        7.79124717e+01,  8.39793398e+01,  3.79310488e+01,  1.02656478e+02,\n",
       "       -2.92632127e+00, -1.36654003e+02,  3.53198251e+01,  1.84442567e+02,\n",
       "        8.94787592e+01,  1.49771404e+02, -3.34479693e+01, -1.21476949e+01,\n",
       "        1.59720316e+02, -4.44565707e+01, -1.13835312e+02,  8.52168754e+01,\n",
       "        2.95232176e+01, -4.54356534e+01, -1.39384582e+02,  1.24735871e+02,\n",
       "        1.54861236e-01, -9.82202750e+01,  1.45429475e+01,  6.92480957e+01,\n",
       "       -1.06827998e+02,  6.95827248e+01, -2.42235505e+02,  2.40549091e+01,\n",
       "        1.73609065e+02,  1.52948693e+02, -2.49165224e+01, -1.03742090e+02,\n",
       "       -1.20750690e+02, -5.61619990e+01,  2.90245829e+01, -1.65892621e+02,\n",
       "       -2.52775148e+01, -8.72177990e+01, -1.47097063e+02, -2.59334168e+02,\n",
       "        6.33976771e+01, -6.91543757e+01,  1.97420265e+02,  1.63853406e+02,\n",
       "        1.12491564e+02,  2.14526022e+02,  3.90054220e+01, -1.14870844e+01,\n",
       "       -1.59324767e+02, -9.43538033e+01, -1.07594316e+02, -8.21480010e+01,\n",
       "        2.10040629e+02,  2.06053890e+02, -9.70406130e+01, -1.16091880e+02,\n",
       "        2.70772353e+01,  6.42274432e+01,  2.35154096e+02,  1.21378727e+02,\n",
       "        1.67539490e+02, -1.25247690e+01, -1.94575237e+01, -6.27008378e+01,\n",
       "       -1.63759051e+02,  1.94083566e+01,  9.97243100e+01,  2.07715936e+02,\n",
       "        8.81526017e+01, -2.90318616e+00, -7.15901437e+01,  9.85750154e+01,\n",
       "       -9.35132991e+01,  1.39393716e+02, -1.41924093e+02,  1.35233645e+02,\n",
       "        2.30435936e+02, -9.52535512e+01, -3.41860109e+01,  9.97147540e+01,\n",
       "        9.90184901e+01, -8.38768029e+01,  5.14642314e+01, -5.80128017e+01,\n",
       "       -9.47588140e+00, -8.12679025e+01,  2.53483862e+01, -1.23889387e+02,\n",
       "       -6.27860465e+00, -9.38326001e+00,  7.11737338e+01,  3.81024634e+01,\n",
       "        1.69287843e+02,  3.47394052e+01,  2.97440038e+01,  1.50258124e+01,\n",
       "       -1.02280319e+02, -2.10477920e+02, -8.21400370e+00,  2.07927239e+02,\n",
       "       -1.67247405e+02,  1.06868634e+01, -7.84083708e+01,  1.22403997e+02,\n",
       "        2.51347244e+01, -9.45821670e+01, -4.17861772e+01, -1.56909817e+01,\n",
       "        1.24786815e+02,  4.05237504e+01,  9.71970487e+01,  1.35457509e+01,\n",
       "        1.63438327e+02,  5.62902579e+01,  1.57667868e+02, -7.90523582e+01,\n",
       "       -3.01393023e+02,  1.29727869e+02, -1.58921974e+02,  7.01476802e+01,\n",
       "       -2.50665901e+02,  3.71707213e+02, -9.05835486e+01, -4.53689440e+01,\n",
       "        1.62908342e+01, -8.83125084e+01, -2.26220155e+02,  1.44738194e+02,\n",
       "        1.47186047e+02,  3.67787864e+01,  7.12812606e+01,  2.17005399e+02,\n",
       "       -5.92580136e+01,  1.05200637e+02,  1.31218046e+01,  2.38783331e+01,\n",
       "       -7.93632677e+01,  8.22438686e+01, -1.37272190e+01,  7.81717149e+01,\n",
       "       -3.82586084e+01,  6.58215144e+01, -2.00841428e+02,  1.84674570e+02,\n",
       "       -1.39075737e+02, -1.12785649e+02,  2.79566758e+01,  1.85593006e+02,\n",
       "       -2.29277247e+02, -5.32273048e+01,  1.26591957e+00, -1.03860600e+02,\n",
       "       -1.35512088e+02, -1.04896861e+02, -6.11014938e+01, -4.17292809e+01,\n",
       "        2.94607049e+01,  4.13564441e+01, -4.78048540e+01, -9.83189172e+01,\n",
       "       -8.60410045e+00, -1.04035185e+02, -5.72260899e+00,  2.03712916e+01,\n",
       "        1.19459488e+01, -9.69686434e+01, -1.07215960e+02,  1.13292134e+01,\n",
       "        8.50749381e+01, -1.21023243e+02, -1.54201282e+02, -1.06129866e+02,\n",
       "        5.67219479e+01,  1.03920742e+02, -1.22289540e+02,  5.10721094e+01,\n",
       "       -2.21306806e+02,  1.76076861e+01, -1.98920808e+01, -7.99736793e+00,\n",
       "        9.77878278e+01,  3.01065656e+02,  1.47399347e+02,  1.05748684e+01,\n",
       "        9.30673055e+01,  1.72146537e+02,  4.77771612e+01, -1.62024443e+02,\n",
       "       -1.49215253e+02,  1.47504812e+02,  1.89732571e+02, -1.23519857e+02,\n",
       "        1.18276373e+01,  2.09169890e+02, -9.79343848e+01,  9.80415240e+01,\n",
       "        6.50318695e+00,  8.85743300e+01, -5.22412268e+01,  9.65416102e+01,\n",
       "        1.11598672e+02, -1.12627050e+01, -2.22546529e+02,  1.37958173e+02,\n",
       "       -6.39866804e+00,  1.33896902e+02, -9.53077474e+01,  1.44593003e+02,\n",
       "       -1.35436940e+02,  7.85333685e+01, -3.97028836e+01,  1.03886194e+02,\n",
       "       -1.03690062e+02,  3.95069148e+01, -1.00069450e+02,  8.11792224e+01,\n",
       "        3.31798428e+02,  5.37940182e+01,  1.09888705e+02, -1.41582550e+02,\n",
       "        2.62961693e+02, -2.05045439e+01,  7.26715898e+01, -1.09301883e+02,\n",
       "       -1.83573440e+01,  1.46501663e+02,  3.98273748e+01,  1.25836627e+01,\n",
       "       -1.06276656e+02, -5.25661156e+01, -7.53028155e+01, -2.20589648e+01,\n",
       "       -1.81741918e+01,  8.29438189e+01,  2.04195896e+02, -6.42857132e+01,\n",
       "        1.50472778e+02, -5.70152173e+01,  1.12425741e+02,  3.68328761e+01,\n",
       "        2.38017750e+01, -1.53171988e+02, -1.17460626e+02, -9.17469465e+01,\n",
       "        3.77260882e+01,  6.21429857e+01,  1.41946991e+02, -3.96444670e+00,\n",
       "        2.32141045e+02,  1.20840188e+02,  6.81327568e+01, -1.55332474e+02,\n",
       "        1.34387316e+02,  9.08669043e+01, -1.37519541e+02,  1.42632645e+02,\n",
       "       -1.31129491e+02,  9.00629471e+01, -1.54148469e+02, -6.99702384e+01,\n",
       "       -2.50637593e+01,  1.15739248e+02,  9.07053260e+01, -5.71184678e+01,\n",
       "       -1.12514257e+02,  4.70671772e+00,  1.44431423e+02, -5.95911707e+01,\n",
       "        1.28390710e+01,  1.14113552e+02,  1.52279149e+02,  1.53441076e+02,\n",
       "        1.57241259e+01, -4.64317587e+01,  3.21715875e+01,  9.94123070e+01,\n",
       "       -2.95275876e+01, -7.13797397e+01, -9.63662223e+01,  1.56593654e+01,\n",
       "       -1.16541341e+01,  4.04584326e+01, -6.79957891e+01,  9.42438915e+01,\n",
       "       -3.00587384e+01,  5.81968932e+01, -1.90765431e+02, -3.22674795e+01,\n",
       "        8.15835538e+01,  3.56269724e+01,  1.21538146e+02, -6.47192699e+01,\n",
       "       -4.55707429e+00,  9.63916189e+01, -1.54982836e+02,  1.70579289e+02,\n",
       "       -5.86346659e+01,  8.95512818e+01,  3.70440604e+01,  1.27800630e+02,\n",
       "        1.09464516e+02,  9.27649979e+01,  3.97829172e+01, -1.14597011e+02,\n",
       "       -1.88504789e+01, -2.40428131e+01,  3.34583467e+01, -3.51444655e+01,\n",
       "       -3.58948560e+01, -1.31362245e+02, -3.21812171e+01, -1.85384664e+02,\n",
       "        2.49683308e+00,  9.46769349e+01,  4.67532156e+01, -6.68937894e+01,\n",
       "       -7.03485644e+00, -2.74028452e+00,  3.25051706e+00, -2.85673108e+01,\n",
       "        1.04654716e+02,  1.96446781e+01, -9.29735078e+01,  9.78502717e+01,\n",
       "       -6.47323141e+01,  1.45517582e+02, -3.87591864e+01,  9.12144505e+01,\n",
       "        7.01262930e+01,  2.10068175e+00, -2.25316763e+02, -8.53732672e+01,\n",
       "       -2.31430521e+01,  6.05197004e+01, -3.34488927e+02, -2.95569893e+02,\n",
       "        5.15618666e+01, -1.66548247e+02, -2.96344976e+00, -2.10177232e+01,\n",
       "        1.83139693e+02,  1.01528862e+02,  1.01869199e+02, -1.50081403e+02,\n",
       "        2.84349650e+02,  7.07733474e+01,  1.50018649e+01, -1.23159519e+02,\n",
       "       -2.39239807e+02,  5.45991656e+00, -1.58962871e+02, -3.09281510e+01,\n",
       "        1.56607913e+01,  2.66359927e+02,  1.16412411e+02, -1.21686692e+02,\n",
       "       -4.16686629e+01,  3.17344386e+01, -1.22523276e+02, -1.85590259e+02,\n",
       "       -1.57093357e+02, -2.14422454e+02, -1.33203335e+01,  4.11947996e-01,\n",
       "        1.33104573e+02,  2.36804815e+02,  4.55240213e+01, -9.65114070e+01,\n",
       "       -2.31638866e+02, -3.48586537e+01,  9.34000092e+01, -1.27829973e+02,\n",
       "        2.61015715e+01,  1.12934440e+01, -1.55613851e+02,  3.08430090e+01,\n",
       "       -6.43365053e+01, -8.24317634e+01, -8.31297412e+01,  5.92044001e+01,\n",
       "        1.96862352e+02,  1.52701269e+02, -1.95048544e+02, -1.65377010e+02,\n",
       "        1.69487712e+02, -6.82059676e+01,  1.55222283e+02, -2.64586635e+02,\n",
       "        4.16972271e+01, -5.03657154e+01, -1.06112728e+02, -1.14782656e+00,\n",
       "       -8.11294681e-01,  2.77166251e+01, -1.14976954e+02, -1.07100823e+02,\n",
       "       -1.57906543e+02,  3.89383408e+01, -4.58182160e+01, -1.00723832e+01,\n",
       "        1.69237993e+02, -1.13347952e+02, -1.00961480e+02, -1.19904598e+02,\n",
       "        4.12192991e+01, -1.96114087e+02,  3.77010590e+01,  1.41215015e+02,\n",
       "       -1.87353790e+02,  3.99930135e+01, -5.83603298e+01, -7.54231241e-01,\n",
       "       -7.75818896e+01,  1.76851993e+01,  6.17523745e+01, -1.10655943e+02,\n",
       "       -6.40461089e+01,  4.39170506e+00,  7.11004452e+01,  9.58929772e+01,\n",
       "       -6.06377470e+00,  7.21495272e+01, -6.87909162e+01,  1.66210706e+01,\n",
       "        4.24199686e+01, -9.13484469e+01, -1.21707867e+02, -1.89817516e+01,\n",
       "        7.05205052e+01,  6.51527056e+01, -9.60608442e+01,  3.68336939e+00,\n",
       "       -1.26472458e+02,  1.09542536e+02, -1.55389252e+02,  1.11348231e+02,\n",
       "        1.08535631e+02, -1.62886654e+02, -6.79938347e+01,  8.84815460e+01,\n",
       "        3.35591320e+01, -2.95980581e+02,  1.51772705e+02, -1.27202447e+02,\n",
       "       -8.59794358e+00, -1.33784773e+02, -2.36980188e+01, -1.50272729e+02,\n",
       "        1.57807089e+02,  4.27792504e+01, -1.80003769e+02,  3.51524829e+01,\n",
       "       -2.15816628e+01,  2.05704467e+02, -1.96051115e+02,  3.80484074e+00,\n",
       "        2.93035673e+01, -1.65366382e+01, -8.43737504e+00, -1.07535186e+02,\n",
       "        2.99097968e+01, -6.23107424e+01,  1.88483367e+01,  9.57238318e+01,\n",
       "        3.49815531e+01, -1.06987199e+01, -2.16705740e+01,  2.20732708e+02,\n",
       "       -1.53422035e+02, -1.21883329e+02, -1.04602348e+02, -5.72136696e+01,\n",
       "        2.08741762e+02,  4.70827169e+01, -6.15096280e+01, -6.72829796e+01,\n",
       "        1.06067579e+01,  1.29427991e+01, -6.67654218e+01,  1.42637344e+02,\n",
       "       -1.41623258e+02,  2.35115507e+01, -3.21767734e+01,  3.10543350e+01,\n",
       "        4.99034567e+01, -1.70854057e+02,  2.53764898e+02, -1.70462453e+02,\n",
       "       -1.59292965e+00,  4.32134431e+01,  5.07175099e+01, -8.14126126e+01,\n",
       "       -5.56620296e+01, -8.12470178e+00, -9.01245882e+01, -3.76749909e+00,\n",
       "       -2.71606883e+01, -2.23150486e+02, -1.83230392e+02,  2.81729754e+01,\n",
       "       -2.48515872e+02,  4.02523504e+01,  1.44082243e+02, -6.44730118e+01,\n",
       "       -1.42216088e+02, -3.92187186e+01,  1.55838625e+02, -2.28466968e+02,\n",
       "       -8.95005398e+01,  1.42698723e+01, -7.29608842e+01,  2.11587085e+02,\n",
       "        7.01051946e+01,  2.06047927e+01,  1.47956654e+02,  1.97179784e+02,\n",
       "        2.07904390e+02, -2.85817271e+01,  7.57921090e+01,  1.47124410e+02,\n",
       "       -1.10433942e+02, -8.35042658e+01, -6.88744953e+01,  9.92129082e+01,\n",
       "       -1.86010341e+02, -9.26573435e+01, -5.38282764e+01,  6.34653271e+01,\n",
       "        9.65640226e+00,  6.50373951e+01, -1.31417339e+02, -8.48663461e+01,\n",
       "       -1.70287996e+02,  7.58488763e+01, -1.16717278e+02, -1.24894047e+02,\n",
       "       -5.92134343e+01, -4.05140613e+01, -1.00362267e+01,  8.87903566e+01,\n",
       "       -2.11387073e+01, -1.61272016e+01, -2.03616939e+01, -5.72619654e+01,\n",
       "        1.84097722e+02, -1.43167525e+02,  1.47523787e+02, -8.34716411e+01,\n",
       "        9.19343128e+00, -7.97901193e+01,  9.12081963e+01,  2.00258696e+01,\n",
       "       -3.68535070e+00, -2.34275319e+02, -1.35398963e+02, -5.57502214e+01,\n",
       "       -4.16266526e+01, -6.80726363e+01,  4.69523021e+01, -5.13099250e+01,\n",
       "        7.05333940e+01, -1.00736167e+02,  1.46747924e+02, -9.10203711e-01,\n",
       "        1.37763861e+02, -2.51595063e+02, -1.33297824e+02, -2.04067029e+01,\n",
       "       -8.74634497e+00,  1.05868627e+02, -8.40266111e+01,  4.08013579e+01,\n",
       "       -1.67188649e+01, -4.02330154e+01,  8.55628619e+01, -9.14348889e+01,\n",
       "        4.92759337e+01, -4.15722375e+01, -3.49172816e+01, -7.01890681e+01,\n",
       "       -1.82134293e+02, -2.44671206e+02,  1.20012806e+01, -3.97766647e+00,\n",
       "       -1.25863821e+02, -2.50520903e+02, -1.25557887e+02, -3.49730940e+01,\n",
       "        9.69981428e+00,  6.52072888e+01,  1.03124098e+02,  4.21080468e+01,\n",
       "       -2.44781078e+01,  4.45259313e+01,  8.88529838e+01, -2.07868267e+02,\n",
       "       -2.16078011e+02,  8.86054344e+01, -4.06384554e+01,  2.53947150e+02,\n",
       "       -1.49166649e+02,  1.15035659e+01,  1.43303923e+01, -1.62225745e+02,\n",
       "       -5.41958701e+00,  7.71594048e+00,  6.03440432e+01, -2.08507259e+01,\n",
       "       -7.98222119e+01, -1.25931928e+01, -1.58557004e+02, -1.18131949e+02,\n",
       "       -1.74509623e+02, -2.47625058e+01,  1.83655767e+02,  4.91091986e+01,\n",
       "        6.50289114e+01,  5.87350622e+00, -7.20842141e+01, -2.01122597e+02,\n",
       "        9.56196664e+01,  1.36888822e+01, -1.38686870e+02,  4.17734782e+01,\n",
       "       -1.24332994e+02,  2.58797936e+01,  1.67383052e+02,  2.33885717e+01,\n",
       "        2.08703002e+01,  1.30207739e+02,  2.04956992e+02,  2.75458677e+02,\n",
       "       -1.20229036e+02, -3.05297456e+00, -7.23828386e+00, -8.92403072e+01,\n",
       "       -8.36325751e+01, -2.73372856e+01,  3.53898339e+01,  6.13176889e+01,\n",
       "        7.25574228e+01,  1.66844356e+01, -2.10784042e+02, -2.30384366e+01,\n",
       "        1.47016418e+02, -8.67451787e+00,  5.58900115e+01,  4.87352929e+01,\n",
       "       -1.65044379e+00, -3.84251241e+01, -4.91916644e+01, -9.70645387e+00,\n",
       "       -2.26314751e+00, -5.49944290e+01,  9.21691630e+01,  5.80099020e+01,\n",
       "        9.64430120e+00,  1.71174313e+02, -2.05685602e+02,  1.64085042e+02,\n",
       "        1.25917192e+02,  1.53334535e+02,  1.30060888e+02, -1.91027749e+02,\n",
       "        5.64605074e+01, -2.00388255e+02,  1.56600305e+02,  8.98525998e+01,\n",
       "        1.63958104e+02,  2.71543575e+02, -9.66931578e+01, -9.10133364e+01,\n",
       "       -4.75895336e+01, -1.43452876e+02, -3.44552330e+01,  1.01525163e+02,\n",
       "       -5.57655655e+01, -1.35079497e+02, -7.90736225e+01,  8.60120753e+01,\n",
       "       -3.57794314e+01, -5.05634048e+01, -3.91689701e+01, -3.21436840e+01,\n",
       "       -6.09439637e+01,  6.63187274e+01,  6.33588658e+01,  1.66010407e+02,\n",
       "        6.46811637e+01, -1.12360203e+01, -2.00078552e+02, -1.52892420e+02,\n",
       "        1.67147661e+02,  7.16098268e+01, -1.36700291e+02, -1.37175823e+02,\n",
       "        1.65804727e+02, -6.25261670e+01, -1.08711110e+02, -7.27045838e+01,\n",
       "        1.20417586e+02,  6.30042880e+01, -3.81442064e+00,  1.28404435e+02,\n",
       "        1.14252455e+02,  1.57495647e+02, -1.58690163e+02,  3.59968032e+01,\n",
       "       -1.48005875e+01,  1.47359060e+01, -1.62617527e+02, -3.11221403e+01,\n",
       "       -7.08120167e+01,  2.94286822e+01, -4.95952692e+00,  1.00729676e+02,\n",
       "        1.84033683e+02,  9.94110304e+01,  5.92277123e+00,  1.88683689e+01,\n",
       "        1.24357445e+02, -1.39487026e+02,  4.77271438e+01,  5.84631422e+01,\n",
       "       -4.86853913e+01, -9.76607643e+01,  1.09575763e+01, -3.36121040e-01,\n",
       "       -1.34238565e+02, -1.19968175e+02, -4.05537205e+01, -2.85714747e+01,\n",
       "        4.11159124e+01, -8.26866076e+01, -9.99420657e+01, -4.11977669e+01,\n",
       "       -1.48883793e+02,  9.38959415e+01, -8.31771051e+01, -1.62716419e+02,\n",
       "        1.24492515e+02,  6.81959014e+01,  2.30558554e+00, -5.59852628e+01,\n",
       "       -2.80034388e+01,  1.31915810e+02,  7.02035691e+01,  8.04890664e+01,\n",
       "       -1.79305272e+01,  1.36626460e+02, -7.56566058e+01,  9.89373111e+00,\n",
       "       -3.53583416e+01,  1.06938634e+02,  1.62988439e+02, -7.07064911e+00,\n",
       "       -1.80564036e+02,  1.42257276e+01,  3.90153117e+01,  1.08116535e+02,\n",
       "       -1.41205851e+02,  9.26071096e+01,  2.11605449e+02,  3.20564546e+01,\n",
       "       -9.30949407e+01, -2.43018860e+01, -1.11293156e+01,  6.27675900e+01,\n",
       "       -1.08160646e+01, -1.20633665e+02,  2.20700265e+01, -1.06112090e+02,\n",
       "       -7.93730759e+01, -7.70883946e+01, -6.83293368e+01,  1.18589663e+02,\n",
       "        9.36211700e+01, -9.06882921e+01, -2.07265059e+02,  7.74319603e+01,\n",
       "        1.69734180e+02,  8.11278884e+01,  1.96351864e+01, -1.59455234e+02,\n",
       "       -3.28686013e+00,  2.56488505e+01, -3.75410820e+00, -1.69733318e+02,\n",
       "       -1.17522734e+02, -1.70520229e+02, -1.57980867e+02, -1.68604141e+01,\n",
       "        6.93546300e+00,  1.01918586e+02,  3.28485466e+01, -2.24829178e+02,\n",
       "       -1.83355604e+02, -5.20725595e+00,  1.04156315e+02,  1.44158015e+01,\n",
       "        1.19400085e+02, -1.55625344e+02, -5.38760742e+01,  1.07211684e+02,\n",
       "       -4.11741102e+01,  2.32924680e+02, -4.33615496e+01,  1.16954864e+02,\n",
       "       -7.55092140e+00,  1.58654067e+02, -8.37087256e+01, -4.73380168e+01,\n",
       "       -9.21616133e+01, -8.67395861e+01, -7.17513568e+01, -2.41949577e+01,\n",
       "        5.38477755e+01,  6.81669234e+01,  3.19474731e+01,  1.00997861e+01,\n",
       "        9.24548525e+01,  1.04531097e+02,  2.30876957e+01,  5.63945313e+01,\n",
       "        7.88115458e+01,  4.15684483e+01,  1.97269908e+02,  3.39642051e+00,\n",
       "        1.37402246e+02, -3.32795918e+01,  5.88633446e+01, -8.72220406e+00,\n",
       "       -2.19969787e+02,  5.28670771e+00,  1.50564250e+02,  7.52207831e+01,\n",
       "        4.40348351e+01,  1.11764326e+02, -1.56249633e+02,  1.77658850e+01,\n",
       "       -1.32583762e+02, -3.49898088e+01,  1.63315955e+01, -4.03521079e+01,\n",
       "        5.74862438e+01,  1.01359078e+02, -3.04320693e+01, -1.87625810e+02,\n",
       "        1.54780307e+02, -1.96572946e+01,  1.10068504e+02, -1.00049705e+02,\n",
       "       -2.12488191e+01, -2.03358320e+01,  7.13733686e+01,  7.32389996e+01,\n",
       "        8.17593895e+01,  1.84839476e+01, -1.31865365e+02, -1.83670422e+01,\n",
       "        4.44268916e+00,  1.09265703e+02, -1.45086196e+02, -4.34593769e+01,\n",
       "        6.12333176e+01, -5.01817343e+01, -4.87920043e+01, -1.77432153e+02,\n",
       "       -1.04614164e+02,  9.98646701e+01, -1.35621583e+02,  1.42353145e+02,\n",
       "       -1.11842236e+02, -1.04509259e+02,  5.20773866e+01,  1.05052989e+01,\n",
       "        7.16157027e+01,  2.73045686e+01,  1.79359003e+02, -1.24118687e+02,\n",
       "        2.66731004e+01,  6.00851863e+01,  4.08911434e+01,  1.53067730e+02,\n",
       "       -5.89653287e+01, -1.40395933e+01, -9.16384695e+01,  1.11545578e+02,\n",
       "        7.41894081e+01,  6.48018344e+01, -1.51768585e+02, -3.77637586e+01,\n",
       "        2.62006162e+01, -1.63058970e+02,  1.10168895e+01, -2.97718963e+02,\n",
       "        7.39080322e+00,  1.18844285e+02, -1.54544869e+02,  1.24892535e+02,\n",
       "        1.51741262e+02,  1.46340390e+02, -5.79683970e+00, -1.11712774e+02,\n",
       "       -2.73641349e+01,  5.30718261e+01,  1.98407189e+01,  1.46640337e+01,\n",
       "        2.46581803e+01,  2.13022241e+01, -1.22058379e+02, -1.12437337e+01,\n",
       "        7.68104886e-01, -2.69660590e+01, -1.02049708e+01, -1.28382688e+02,\n",
       "        2.83986243e+02,  1.35376025e+02,  6.52838403e+01, -8.49234735e+01,\n",
       "        3.15724197e+01, -1.15263839e+02,  1.43449163e+01, -5.63569489e+00,\n",
       "        7.79841694e+01, -1.98727089e+02, -6.10052917e+01, -2.57135704e+01,\n",
       "       -1.34647480e+02, -1.37781172e+02,  1.04299002e+01,  1.01662567e+01,\n",
       "        9.30906189e+01, -2.66862783e+01, -1.84761265e+02, -4.84480612e+01,\n",
       "       -8.63302472e+01, -9.44396645e+01, -1.29993026e+01,  1.42823701e+02,\n",
       "        1.17167208e+02,  2.53160160e+01,  7.03722878e+01,  1.56201883e+02,\n",
       "       -1.98633637e+02,  1.43706457e+02,  1.44530719e+02,  1.48303370e+02,\n",
       "        4.29909718e+01, -9.82680200e+01,  1.75903895e+02,  7.34924480e+01,\n",
       "        1.22450253e+02,  5.15038115e+01,  8.00609993e+01, -1.21810718e+02,\n",
       "       -2.11935067e+02,  7.05652198e+01, -4.70480173e+01, -4.37200627e+01,\n",
       "       -5.33332993e+00,  1.30111504e+02, -2.31335507e+02,  6.87721580e+00,\n",
       "       -1.13844305e+01, -1.49771099e+01,  1.33849881e+02,  1.98145841e+01,\n",
       "        7.98232930e+01,  6.35736197e+01,  9.40747822e+01, -2.19310423e+01,\n",
       "       -1.33560978e+02, -4.79668538e-01, -1.13446247e+02,  9.47343163e+01])"
      ]
     },
     "execution_count": 65,
     "metadata": {},
     "output_type": "execute_result"
    }
   ],
   "source": [
    "y"
   ]
  },
  {
   "cell_type": "code",
   "execution_count": null,
   "id": "ca221af4",
   "metadata": {},
   "outputs": [],
   "source": [
    "#pd.DatatFrame(X)[0]"
   ]
  },
  {
   "cell_type": "code",
   "execution_count": 66,
   "id": "18ae384c",
   "metadata": {},
   "outputs": [
    {
     "data": {
      "text/plain": [
       "<AxesSubplot:xlabel='0', ylabel='1'>"
      ]
     },
     "execution_count": 66,
     "metadata": {},
     "output_type": "execute_result"
    },
    {
     "data": {
      "image/png": "[encoded data removed]",
      "text/plain": [
       "<Figure size 640x480 with 1 Axes>"
      ]
     },
     "metadata": {},
     "output_type": "display_data"
    }
   ],
   "source": [
    "sns.scatterplot(x=pd.DataFrame(X)[0],y=pd.DataFrame(X)[1],hue=y)"
   ]
  },
  {
   "cell_type": "code",
   "execution_count": 67,
   "id": "f5188072",
   "metadata": {},
   "outputs": [],
   "source": [
    "# Train Test split\n",
    "from sklearn.model_selection import train_test_split\n",
    "X_train,X_test,y_train,y_test=train_test_split(X,y,test_size=0.25,random_state=42)"
   ]
  },
  {
   "cell_type": "code",
   "execution_count": 69,
   "id": "67c24926",
   "metadata": {},
   "outputs": [],
   "source": [
    "from sklearn.svm import SVR"
   ]
  },
  {
   "cell_type": "code",
   "execution_count": 72,
   "id": "e2921746",
   "metadata": {},
   "outputs": [],
   "source": [
    "svr=SVR(kernel='linear')"
   ]
  },
  {
   "cell_type": "code",
   "execution_count": 73,
   "id": "24c9fd77",
   "metadata": {},
   "outputs": [
    {
     "data": {
      "text/plain": [
       "SVR(kernel='linear')"
      ]
     },
     "execution_count": 73,
     "metadata": {},
     "output_type": "execute_result"
    }
   ],
   "source": [
    "svr.fit(X_train,y_train)"
   ]
  },
  {
   "cell_type": "code",
   "execution_count": 74,
   "id": "cedd0f3a",
   "metadata": {},
   "outputs": [
    {
     "data": {
      "text/plain": [
       "array([[97.14039001, 51.15071475]])"
      ]
     },
     "execution_count": 74,
     "metadata": {},
     "output_type": "execute_result"
    }
   ],
   "source": [
    "svr.coef_"
   ]
  },
  {
   "cell_type": "code",
   "execution_count": 76,
   "id": "c17af9a0",
   "metadata": {},
   "outputs": [
    {
     "data": {
      "text/plain": [
       "array([-224.30512698,   31.15265215,  180.94995941,  -76.68991255,\n",
       "       -262.65799926,   92.48245304,   13.44227458,   47.70753233,\n",
       "         74.26962838,  159.60444459, -174.22404996,  207.88474437,\n",
       "       -176.57229317, -100.9858106 ,   -7.59705506,   16.21234333,\n",
       "       -131.05418555,  -25.97560986,   91.54628912,  165.54111652,\n",
       "        -88.90565006,    4.93303087, -121.7061594 ,  -63.29398849,\n",
       "         47.28294716,  105.26588969,  -96.0788371 , -231.6754077 ,\n",
       "        179.88669216,   -9.52434918,  -91.14915471,  -79.87362915,\n",
       "         88.78617637,  -64.04385625,   14.22278014, -125.27615737,\n",
       "       -190.08156168,   67.63659474,   25.76277956, -162.25230259,\n",
       "        -21.1195348 ,  -92.81029844,   81.25964164,  175.390052  ,\n",
       "         98.09465426,   89.73146994,  147.4932861 ,  -41.22300813,\n",
       "       -107.36821843,  -89.34459694,  145.6282503 ,   76.4913511 ,\n",
       "        -58.68226056, -133.90941282,   88.98553487,   32.88035435,\n",
       "         43.0432219 ,  142.20590529,   94.23513451, -185.7942571 ,\n",
       "         14.40937062,  -22.74590348,   71.56886213,  168.39270283,\n",
       "       -180.63010492,  159.6833404 ,   32.84231827,   13.68161061,\n",
       "         33.86808331,  147.88238056,  -50.91456262, -122.95922761,\n",
       "       -135.62025826,   98.58148966,   17.82726749,    5.10419779,\n",
       "         15.78204337,   90.00751833, -250.29652145,   95.1997234 ,\n",
       "         57.07568159,  195.58627613, -153.44753914,  163.59862653,\n",
       "       -156.03299063, -179.42841686, -111.16012316, -199.07771225,\n",
       "       -124.28332469, -114.02617014, -120.11593306,  -20.49696835,\n",
       "       -184.53920133,  -98.16526726,   30.16575542,  -81.85598036,\n",
       "        120.10213813, -163.50993435, -261.37278311,  -53.3686621 ,\n",
       "        162.99674059,   91.01926254,   -1.22284845,  -18.24071059,\n",
       "       -114.95132227,   96.83426806, -132.64701347,  -49.44698543,\n",
       "       -138.06275571, -164.8587579 , -144.54326453,   15.11919596,\n",
       "        126.74302346,    9.26998081,  -17.61106344, -185.54763319,\n",
       "         -6.32867869,   78.45895713,  -76.74078179,  151.03652001,\n",
       "       -100.89513949, -111.99808112,   -9.23464079,  146.85707228,\n",
       "         35.89710834, -122.78044719,  -52.26110597,   70.19507421,\n",
       "        -40.88488128,   97.21694749,  -89.33156598,   38.38812696,\n",
       "       -157.59193953,  -21.15709603,  -40.04746094, -103.91268781,\n",
       "       -105.522664  , -133.63057735,   84.3177474 , -156.26339534,\n",
       "          3.56150533, -108.24387025,  -59.13827038,   86.27360137,\n",
       "        102.72958047, -152.03920839,   -2.59897023,  256.80969145,\n",
       "        102.83093248,   89.72748354, -199.10337672,   13.32262786,\n",
       "         50.80881409, -201.33331537,  132.37751491,  -59.60298896,\n",
       "         55.79195269, -144.61695615,  -29.94478936,    6.57167096,\n",
       "         43.71756847,  -50.88451968,   20.68075918,  165.35176327,\n",
       "        -32.08775855,  143.23471576,   30.83742449, -196.04118259,\n",
       "        124.71440028, -189.34644677, -160.97746505,    2.33819232,\n",
       "         24.02802966,  -20.10659441,   22.70583282,  -22.74133663,\n",
       "        -72.40479581,  -70.28230381, -204.20812999,  -56.08406595,\n",
       "       -102.24941444,   56.32239271,  262.72787237,  144.56962268,\n",
       "        103.08304584,   57.14854046,  -82.26788886,   99.81631967,\n",
       "         67.42396923,  -97.15504556,   78.57557682,  234.5284385 ,\n",
       "       -120.16821779,   45.90028756,  147.64758802,  167.87106017,\n",
       "        -37.80341489,   86.80439898,   65.31577152,  -95.08020342,\n",
       "       -133.38293363,  210.07887551,  -92.48723735,   76.4143048 ,\n",
       "        -90.06343162,  -20.37469694,   64.92177432,    8.28827899,\n",
       "        -55.95684074,  114.53069155,  -69.46525711,  125.38000711,\n",
       "        146.02713332,  103.39803664,  274.10036734,  -38.44159131,\n",
       "         71.57638616,  143.45756555,  156.15911502,  -59.87831815,\n",
       "         36.81322697, -166.87525953,   74.69894319,   68.53769688,\n",
       "       -113.29480024, -127.05041588, -109.57278076,  -35.15388185,\n",
       "         18.81426143,   71.19577522,  103.9444022 ,   90.38579271,\n",
       "        -17.9450204 ,   21.24080125,  150.58394678,  180.42351614,\n",
       "        140.28409722,  144.84002093,   81.2768422 , -129.4879657 ,\n",
       "       -132.85277929,   95.05519991,   52.31322248,  123.52113855,\n",
       "        -67.98701227,  -78.7255975 ,   44.13804831,  205.54957427,\n",
       "        166.22009535,   88.13595196])"
      ]
     },
     "execution_count": 76,
     "metadata": {},
     "output_type": "execute_result"
    }
   ],
   "source": [
    "# Prediction\n",
    "y_pred=svr.predict(X_test)\n",
    "y_pred"
   ]
  },
  {
   "cell_type": "code",
   "execution_count": 77,
   "id": "647bfc2c",
   "metadata": {},
   "outputs": [],
   "source": [
    "from sklearn.metrics import r2_score"
   ]
  },
  {
   "cell_type": "code",
   "execution_count": 78,
   "id": "db93be8c",
   "metadata": {},
   "outputs": [
    {
     "name": "stdout",
     "output_type": "stream",
     "text": [
      "0.9993508690839566\n"
     ]
    }
   ],
   "source": [
    "print(r2_score(y_test,y_pred))"
   ]
  },
  {
   "cell_type": "markdown",
   "id": "5b374183",
   "metadata": {},
   "source": [
    "# Hyperparameter Tuning with SVR"
   ]
  },
  {
   "cell_type": "code",
   "execution_count": 80,
   "id": "e5ad2705",
   "metadata": {},
   "outputs": [],
   "source": [
    "from sklearn.model_selection import GridSearchCV\n",
    "\n",
    "# defining parameter range\n",
    "param_grid = {'C': [0.1, 1, 10, 100, 1000],\n",
    "              'gamma' : [1, 0.1, 0.01, 0.001, 0.0001],\n",
    "              'kernel': ['linear'],\n",
    "              'epsilon':[0.1,0.2,0.3]\n",
    "            }"
   ]
  },
  {
   "cell_type": "code",
   "execution_count": 91,
   "id": "c56de414",
   "metadata": {},
   "outputs": [],
   "source": [
    "grid=GridSearchCV(estimator=svr,param_grid=param_grid,scoring='neg_mean_squared_error',refit=True,cv=5,verbose=3)"
   ]
  },
  {
   "cell_type": "code",
   "execution_count": 92,
   "id": "7fad3395",
   "metadata": {},
   "outputs": [
    {
     "name": "stdout",
     "output_type": "stream",
     "text": [
      "Fitting 5 folds for each of 75 candidates, totalling 375 fits\n",
      "[CV 1/5] END C=0.1, epsilon=0.1, gamma=1, kernel=linear;, score=-4322.547 total time=   0.0s\n",
      "[CV 2/5] END C=0.1, epsilon=0.1, gamma=1, kernel=linear;, score=-3333.407 total time=   0.0s\n",
      "[CV 3/5] END C=0.1, epsilon=0.1, gamma=1, kernel=linear;, score=-3823.102 total time=   0.0s\n",
      "[CV 4/5] END C=0.1, epsilon=0.1, gamma=1, kernel=linear;, score=-4479.444 total time=   0.0s\n",
      "[CV 5/5] END C=0.1, epsilon=0.1, gamma=1, kernel=linear;, score=-3979.299 total time=   0.0s\n",
      "[CV 1/5] END C=0.1, epsilon=0.1, gamma=0.1, kernel=linear;, score=-4322.547 total time=   0.0s\n",
      "[CV 2/5] END C=0.1, epsilon=0.1, gamma=0.1, kernel=linear;, score=-3333.407 total time=   0.0s\n",
      "[CV 3/5] END C=0.1, epsilon=0.1, gamma=0.1, kernel=linear;, score=-3823.102 total time=   0.0s\n",
      "[CV 4/5] END C=0.1, epsilon=0.1, gamma=0.1, kernel=linear;, score=-4479.444 total time=   0.0s\n",
      "[CV 5/5] END C=0.1, epsilon=0.1, gamma=0.1, kernel=linear;, score=-3979.299 total time=   0.0s\n",
      "[CV 1/5] END C=0.1, epsilon=0.1, gamma=0.01, kernel=linear;, score=-4322.547 total time=   0.0s\n",
      "[CV 2/5] END C=0.1, epsilon=0.1, gamma=0.01, kernel=linear;, score=-3333.407 total time=   0.0s\n",
      "[CV 3/5] END C=0.1, epsilon=0.1, gamma=0.01, kernel=linear;, score=-3823.102 total time=   0.0s\n",
      "[CV 4/5] END C=0.1, epsilon=0.1, gamma=0.01, kernel=linear;, score=-4479.444 total time=   0.0s\n",
      "[CV 5/5] END C=0.1, epsilon=0.1, gamma=0.01, kernel=linear;, score=-3979.299 total time=   0.0s\n",
      "[CV 1/5] END C=0.1, epsilon=0.1, gamma=0.001, kernel=linear;, score=-4322.547 total time=   0.0s\n",
      "[CV 2/5] END C=0.1, epsilon=0.1, gamma=0.001, kernel=linear;, score=-3333.407 total time=   0.0s\n",
      "[CV 3/5] END C=0.1, epsilon=0.1, gamma=0.001, kernel=linear;, score=-3823.102 total time=   0.0s\n",
      "[CV 4/5] END C=0.1, epsilon=0.1, gamma=0.001, kernel=linear;, score=-4479.444 total time=   0.0s\n",
      "[CV 5/5] END C=0.1, epsilon=0.1, gamma=0.001, kernel=linear;, score=-3979.299 total time=   0.0s\n",
      "[CV 1/5] END C=0.1, epsilon=0.1, gamma=0.0001, kernel=linear;, score=-4322.547 total time=   0.0s\n",
      "[CV 2/5] END C=0.1, epsilon=0.1, gamma=0.0001, kernel=linear;, score=-3333.407 total time=   0.0s\n",
      "[CV 3/5] END C=0.1, epsilon=0.1, gamma=0.0001, kernel=linear;, score=-3823.102 total time=   0.0s\n",
      "[CV 4/5] END C=0.1, epsilon=0.1, gamma=0.0001, kernel=linear;, score=-4479.444 total time=   0.0s\n",
      "[CV 5/5] END C=0.1, epsilon=0.1, gamma=0.0001, kernel=linear;, score=-3979.299 total time=   0.0s\n",
      "[CV 1/5] END C=0.1, epsilon=0.2, gamma=1, kernel=linear;, score=-4322.987 total time=   0.0s\n",
      "[CV 2/5] END C=0.1, epsilon=0.2, gamma=1, kernel=linear;, score=-3333.363 total time=   0.0s\n",
      "[CV 3/5] END C=0.1, epsilon=0.2, gamma=1, kernel=linear;, score=-3824.053 total time=   0.0s\n",
      "[CV 4/5] END C=0.1, epsilon=0.2, gamma=1, kernel=linear;, score=-4479.217 total time=   0.0s\n",
      "[CV 5/5] END C=0.1, epsilon=0.2, gamma=1, kernel=linear;, score=-3979.453 total time=   0.0s\n",
      "[CV 1/5] END C=0.1, epsilon=0.2, gamma=0.1, kernel=linear;, score=-4322.987 total time=   0.0s\n",
      "[CV 2/5] END C=0.1, epsilon=0.2, gamma=0.1, kernel=linear;, score=-3333.363 total time=   0.0s\n",
      "[CV 3/5] END C=0.1, epsilon=0.2, gamma=0.1, kernel=linear;, score=-3824.053 total time=   0.0s\n",
      "[CV 4/5] END C=0.1, epsilon=0.2, gamma=0.1, kernel=linear;, score=-4479.217 total time=   0.0s\n",
      "[CV 5/5] END C=0.1, epsilon=0.2, gamma=0.1, kernel=linear;, score=-3979.453 total time=   0.0s\n",
      "[CV 1/5] END C=0.1, epsilon=0.2, gamma=0.01, kernel=linear;, score=-4322.987 total time=   0.0s\n",
      "[CV 2/5] END C=0.1, epsilon=0.2, gamma=0.01, kernel=linear;, score=-3333.363 total time=   0.0s\n",
      "[CV 3/5] END C=0.1, epsilon=0.2, gamma=0.01, kernel=linear;, score=-3824.053 total time=   0.0s\n",
      "[CV 4/5] END C=0.1, epsilon=0.2, gamma=0.01, kernel=linear;, score=-4479.217 total time=   0.0s\n",
      "[CV 5/5] END C=0.1, epsilon=0.2, gamma=0.01, kernel=linear;, score=-3979.453 total time=   0.0s\n",
      "[CV 1/5] END C=0.1, epsilon=0.2, gamma=0.001, kernel=linear;, score=-4322.987 total time=   0.0s\n",
      "[CV 2/5] END C=0.1, epsilon=0.2, gamma=0.001, kernel=linear;, score=-3333.363 total time=   0.0s\n",
      "[CV 3/5] END C=0.1, epsilon=0.2, gamma=0.001, kernel=linear;, score=-3824.053 total time=   0.0s\n",
      "[CV 4/5] END C=0.1, epsilon=0.2, gamma=0.001, kernel=linear;, score=-4479.217 total time=   0.0s\n",
      "[CV 5/5] END C=0.1, epsilon=0.2, gamma=0.001, kernel=linear;, score=-3979.453 total time=   0.0s\n",
      "[CV 1/5] END C=0.1, epsilon=0.2, gamma=0.0001, kernel=linear;, score=-4322.987 total time=   0.0s\n",
      "[CV 2/5] END C=0.1, epsilon=0.2, gamma=0.0001, kernel=linear;, score=-3333.363 total time=   0.0s\n",
      "[CV 3/5] END C=0.1, epsilon=0.2, gamma=0.0001, kernel=linear;, score=-3824.053 total time=   0.0s\n",
      "[CV 4/5] END C=0.1, epsilon=0.2, gamma=0.0001, kernel=linear;, score=-4479.217 total time=   0.0s\n",
      "[CV 5/5] END C=0.1, epsilon=0.2, gamma=0.0001, kernel=linear;, score=-3979.453 total time=   0.0s\n",
      "[CV 1/5] END C=0.1, epsilon=0.3, gamma=1, kernel=linear;, score=-4323.011 total time=   0.0s\n",
      "[CV 2/5] END C=0.1, epsilon=0.3, gamma=1, kernel=linear;, score=-3333.061 total time=   0.0s\n",
      "[CV 3/5] END C=0.1, epsilon=0.3, gamma=1, kernel=linear;, score=-3824.332 total time=   0.0s\n",
      "[CV 4/5] END C=0.1, epsilon=0.3, gamma=1, kernel=linear;, score=-4479.217 total time=   0.0s\n",
      "[CV 5/5] END C=0.1, epsilon=0.3, gamma=1, kernel=linear;, score=-3979.656 total time=   0.0s\n",
      "[CV 1/5] END C=0.1, epsilon=0.3, gamma=0.1, kernel=linear;, score=-4323.011 total time=   0.0s\n",
      "[CV 2/5] END C=0.1, epsilon=0.3, gamma=0.1, kernel=linear;, score=-3333.061 total time=   0.0s\n",
      "[CV 3/5] END C=0.1, epsilon=0.3, gamma=0.1, kernel=linear;, score=-3824.332 total time=   0.0s\n",
      "[CV 4/5] END C=0.1, epsilon=0.3, gamma=0.1, kernel=linear;, score=-4479.217 total time=   0.0s\n",
      "[CV 5/5] END C=0.1, epsilon=0.3, gamma=0.1, kernel=linear;, score=-3979.656 total time=   0.0s\n",
      "[CV 1/5] END C=0.1, epsilon=0.3, gamma=0.01, kernel=linear;, score=-4323.011 total time=   0.0s\n",
      "[CV 2/5] END C=0.1, epsilon=0.3, gamma=0.01, kernel=linear;, score=-3333.061 total time=   0.0s\n",
      "[CV 3/5] END C=0.1, epsilon=0.3, gamma=0.01, kernel=linear;, score=-3824.332 total time=   0.0s\n",
      "[CV 4/5] END C=0.1, epsilon=0.3, gamma=0.01, kernel=linear;, score=-4479.217 total time=   0.0s\n",
      "[CV 5/5] END C=0.1, epsilon=0.3, gamma=0.01, kernel=linear;, score=-3979.656 total time=   0.0s\n",
      "[CV 1/5] END C=0.1, epsilon=0.3, gamma=0.001, kernel=linear;, score=-4323.011 total time=   0.0s\n",
      "[CV 2/5] END C=0.1, epsilon=0.3, gamma=0.001, kernel=linear;, score=-3333.061 total time=   0.0s\n",
      "[CV 3/5] END C=0.1, epsilon=0.3, gamma=0.001, kernel=linear;, score=-3824.332 total time=   0.0s\n",
      "[CV 4/5] END C=0.1, epsilon=0.3, gamma=0.001, kernel=linear;, score=-4479.217 total time=   0.0s\n",
      "[CV 5/5] END C=0.1, epsilon=0.3, gamma=0.001, kernel=linear;, score=-3979.656 total time=   0.0s\n",
      "[CV 1/5] END C=0.1, epsilon=0.3, gamma=0.0001, kernel=linear;, score=-4323.011 total time=   0.0s\n",
      "[CV 2/5] END C=0.1, epsilon=0.3, gamma=0.0001, kernel=linear;, score=-3333.061 total time=   0.0s\n",
      "[CV 3/5] END C=0.1, epsilon=0.3, gamma=0.0001, kernel=linear;, score=-3824.332 total time=   0.0s\n",
      "[CV 4/5] END C=0.1, epsilon=0.3, gamma=0.0001, kernel=linear;, score=-4479.217 total time=   0.0s\n",
      "[CV 5/5] END C=0.1, epsilon=0.3, gamma=0.0001, kernel=linear;, score=-3979.656 total time=   0.0s\n",
      "[CV 1/5] END C=1, epsilon=0.1, gamma=1, kernel=linear;, score=-10.242 total time=   0.0s\n",
      "[CV 2/5] END C=1, epsilon=0.1, gamma=1, kernel=linear;, score=-10.842 total time=   0.0s\n",
      "[CV 3/5] END C=1, epsilon=0.1, gamma=1, kernel=linear;, score=-10.458 total time=   0.0s\n",
      "[CV 4/5] END C=1, epsilon=0.1, gamma=1, kernel=linear;, score=-7.836 total time=   0.0s\n",
      "[CV 5/5] END C=1, epsilon=0.1, gamma=1, kernel=linear;, score=-11.246 total time=   0.0s\n",
      "[CV 1/5] END C=1, epsilon=0.1, gamma=0.1, kernel=linear;, score=-10.242 total time=   0.0s\n",
      "[CV 2/5] END C=1, epsilon=0.1, gamma=0.1, kernel=linear;, score=-10.842 total time=   0.0s\n",
      "[CV 3/5] END C=1, epsilon=0.1, gamma=0.1, kernel=linear;, score=-10.458 total time=   0.0s\n",
      "[CV 4/5] END C=1, epsilon=0.1, gamma=0.1, kernel=linear;, score=-7.836 total time=   0.0s\n",
      "[CV 5/5] END C=1, epsilon=0.1, gamma=0.1, kernel=linear;, score=-11.246 total time=   0.0s\n",
      "[CV 1/5] END C=1, epsilon=0.1, gamma=0.01, kernel=linear;, score=-10.242 total time=   0.0s\n",
      "[CV 2/5] END C=1, epsilon=0.1, gamma=0.01, kernel=linear;, score=-10.842 total time=   0.0s\n",
      "[CV 3/5] END C=1, epsilon=0.1, gamma=0.01, kernel=linear;, score=-10.458 total time=   0.0s\n",
      "[CV 4/5] END C=1, epsilon=0.1, gamma=0.01, kernel=linear;, score=-7.836 total time=   0.0s\n",
      "[CV 5/5] END C=1, epsilon=0.1, gamma=0.01, kernel=linear;, score=-11.246 total time=   0.0s\n",
      "[CV 1/5] END C=1, epsilon=0.1, gamma=0.001, kernel=linear;, score=-10.242 total time=   0.0s\n",
      "[CV 2/5] END C=1, epsilon=0.1, gamma=0.001, kernel=linear;, score=-10.842 total time=   0.0s\n",
      "[CV 3/5] END C=1, epsilon=0.1, gamma=0.001, kernel=linear;, score=-10.458 total time=   0.0s\n",
      "[CV 4/5] END C=1, epsilon=0.1, gamma=0.001, kernel=linear;, score=-7.836 total time=   0.0s\n",
      "[CV 5/5] END C=1, epsilon=0.1, gamma=0.001, kernel=linear;, score=-11.246 total time=   0.0s\n",
      "[CV 1/5] END C=1, epsilon=0.1, gamma=0.0001, kernel=linear;, score=-10.242 total time=   0.0s\n",
      "[CV 2/5] END C=1, epsilon=0.1, gamma=0.0001, kernel=linear;, score=-10.842 total time=   0.0s\n",
      "[CV 3/5] END C=1, epsilon=0.1, gamma=0.0001, kernel=linear;, score=-10.458 total time=   0.0s\n",
      "[CV 4/5] END C=1, epsilon=0.1, gamma=0.0001, kernel=linear;, score=-7.836 total time=   0.0s\n",
      "[CV 5/5] END C=1, epsilon=0.1, gamma=0.0001, kernel=linear;, score=-11.246 total time=   0.0s\n",
      "[CV 1/5] END C=1, epsilon=0.2, gamma=1, kernel=linear;, score=-10.213 total time=   0.0s\n",
      "[CV 2/5] END C=1, epsilon=0.2, gamma=1, kernel=linear;, score=-10.841 total time=   0.0s\n",
      "[CV 3/5] END C=1, epsilon=0.2, gamma=1, kernel=linear;, score=-10.433 total time=   0.0s\n",
      "[CV 4/5] END C=1, epsilon=0.2, gamma=1, kernel=linear;, score=-7.858 total time=   0.0s\n",
      "[CV 5/5] END C=1, epsilon=0.2, gamma=1, kernel=linear;, score=-11.229 total time=   0.0s\n",
      "[CV 1/5] END C=1, epsilon=0.2, gamma=0.1, kernel=linear;, score=-10.213 total time=   0.0s\n",
      "[CV 2/5] END C=1, epsilon=0.2, gamma=0.1, kernel=linear;, score=-10.841 total time=   0.0s\n",
      "[CV 3/5] END C=1, epsilon=0.2, gamma=0.1, kernel=linear;, score=-10.433 total time=   0.0s\n",
      "[CV 4/5] END C=1, epsilon=0.2, gamma=0.1, kernel=linear;, score=-7.858 total time=   0.0s\n",
      "[CV 5/5] END C=1, epsilon=0.2, gamma=0.1, kernel=linear;, score=-11.229 total time=   0.0s\n",
      "[CV 1/5] END C=1, epsilon=0.2, gamma=0.01, kernel=linear;, score=-10.213 total time=   0.0s\n",
      "[CV 2/5] END C=1, epsilon=0.2, gamma=0.01, kernel=linear;, score=-10.841 total time=   0.0s\n",
      "[CV 3/5] END C=1, epsilon=0.2, gamma=0.01, kernel=linear;, score=-10.433 total time=   0.0s\n",
      "[CV 4/5] END C=1, epsilon=0.2, gamma=0.01, kernel=linear;, score=-7.858 total time=   0.0s\n",
      "[CV 5/5] END C=1, epsilon=0.2, gamma=0.01, kernel=linear;, score=-11.229 total time=   0.0s\n",
      "[CV 1/5] END C=1, epsilon=0.2, gamma=0.001, kernel=linear;, score=-10.213 total time=   0.0s\n",
      "[CV 2/5] END C=1, epsilon=0.2, gamma=0.001, kernel=linear;, score=-10.841 total time=   0.0s\n",
      "[CV 3/5] END C=1, epsilon=0.2, gamma=0.001, kernel=linear;, score=-10.433 total time=   0.0s\n",
      "[CV 4/5] END C=1, epsilon=0.2, gamma=0.001, kernel=linear;, score=-7.858 total time=   0.0s\n",
      "[CV 5/5] END C=1, epsilon=0.2, gamma=0.001, kernel=linear;, score=-11.229 total time=   0.0s\n",
      "[CV 1/5] END C=1, epsilon=0.2, gamma=0.0001, kernel=linear;, score=-10.213 total time=   0.0s\n",
      "[CV 2/5] END C=1, epsilon=0.2, gamma=0.0001, kernel=linear;, score=-10.841 total time=   0.0s\n",
      "[CV 3/5] END C=1, epsilon=0.2, gamma=0.0001, kernel=linear;, score=-10.433 total time=   0.0s\n",
      "[CV 4/5] END C=1, epsilon=0.2, gamma=0.0001, kernel=linear;, score=-7.858 total time=   0.0s\n",
      "[CV 5/5] END C=1, epsilon=0.2, gamma=0.0001, kernel=linear;, score=-11.229 total time=   0.0s\n",
      "[CV 1/5] END C=1, epsilon=0.3, gamma=1, kernel=linear;, score=-10.215 total time=   0.0s\n",
      "[CV 2/5] END C=1, epsilon=0.3, gamma=1, kernel=linear;, score=-10.838 total time=   0.0s\n",
      "[CV 3/5] END C=1, epsilon=0.3, gamma=1, kernel=linear;, score=-10.395 total time=   0.0s\n",
      "[CV 4/5] END C=1, epsilon=0.3, gamma=1, kernel=linear;, score=-7.865 total time=   0.0s\n",
      "[CV 5/5] END C=1, epsilon=0.3, gamma=1, kernel=linear;, score=-11.170 total time=   0.0s\n",
      "[CV 1/5] END C=1, epsilon=0.3, gamma=0.1, kernel=linear;, score=-10.215 total time=   0.0s\n",
      "[CV 2/5] END C=1, epsilon=0.3, gamma=0.1, kernel=linear;, score=-10.838 total time=   0.0s\n",
      "[CV 3/5] END C=1, epsilon=0.3, gamma=0.1, kernel=linear;, score=-10.395 total time=   0.0s\n",
      "[CV 4/5] END C=1, epsilon=0.3, gamma=0.1, kernel=linear;, score=-7.865 total time=   0.0s\n",
      "[CV 5/5] END C=1, epsilon=0.3, gamma=0.1, kernel=linear;, score=-11.170 total time=   0.0s\n",
      "[CV 1/5] END C=1, epsilon=0.3, gamma=0.01, kernel=linear;, score=-10.215 total time=   0.0s\n",
      "[CV 2/5] END C=1, epsilon=0.3, gamma=0.01, kernel=linear;, score=-10.838 total time=   0.0s\n",
      "[CV 3/5] END C=1, epsilon=0.3, gamma=0.01, kernel=linear;, score=-10.395 total time=   0.0s\n",
      "[CV 4/5] END C=1, epsilon=0.3, gamma=0.01, kernel=linear;, score=-7.865 total time=   0.0s\n",
      "[CV 5/5] END C=1, epsilon=0.3, gamma=0.01, kernel=linear;, score=-11.170 total time=   0.0s\n",
      "[CV 1/5] END C=1, epsilon=0.3, gamma=0.001, kernel=linear;, score=-10.215 total time=   0.0s\n",
      "[CV 2/5] END C=1, epsilon=0.3, gamma=0.001, kernel=linear;, score=-10.838 total time=   0.0s\n",
      "[CV 3/5] END C=1, epsilon=0.3, gamma=0.001, kernel=linear;, score=-10.395 total time=   0.0s\n",
      "[CV 4/5] END C=1, epsilon=0.3, gamma=0.001, kernel=linear;, score=-7.865 total time=   0.0s\n",
      "[CV 5/5] END C=1, epsilon=0.3, gamma=0.001, kernel=linear;, score=-11.170 total time=   0.0s\n",
      "[CV 1/5] END C=1, epsilon=0.3, gamma=0.0001, kernel=linear;, score=-10.215 total time=   0.0s\n",
      "[CV 2/5] END C=1, epsilon=0.3, gamma=0.0001, kernel=linear;, score=-10.838 total time=   0.0s\n",
      "[CV 3/5] END C=1, epsilon=0.3, gamma=0.0001, kernel=linear;, score=-10.395 total time=   0.0s\n",
      "[CV 4/5] END C=1, epsilon=0.3, gamma=0.0001, kernel=linear;, score=-7.865 total time=   0.0s\n",
      "[CV 5/5] END C=1, epsilon=0.3, gamma=0.0001, kernel=linear;, score=-11.170 total time=   0.0s\n",
      "[CV 1/5] END C=10, epsilon=0.1, gamma=1, kernel=linear;, score=-9.503 total time=   0.0s\n",
      "[CV 2/5] END C=10, epsilon=0.1, gamma=1, kernel=linear;, score=-11.075 total time=   0.0s\n",
      "[CV 3/5] END C=10, epsilon=0.1, gamma=1, kernel=linear;, score=-10.002 total time=   0.0s\n",
      "[CV 4/5] END C=10, epsilon=0.1, gamma=1, kernel=linear;, score=-7.329 total time=   0.0s\n",
      "[CV 5/5] END C=10, epsilon=0.1, gamma=1, kernel=linear;, score=-10.325 total time=   0.0s\n",
      "[CV 1/5] END C=10, epsilon=0.1, gamma=0.1, kernel=linear;, score=-9.503 total time=   0.0s\n",
      "[CV 2/5] END C=10, epsilon=0.1, gamma=0.1, kernel=linear;, score=-11.075 total time=   0.0s\n",
      "[CV 3/5] END C=10, epsilon=0.1, gamma=0.1, kernel=linear;, score=-10.002 total time=   0.0s\n",
      "[CV 4/5] END C=10, epsilon=0.1, gamma=0.1, kernel=linear;, score=-7.329 total time=   0.0s\n",
      "[CV 5/5] END C=10, epsilon=0.1, gamma=0.1, kernel=linear;, score=-10.325 total time=   0.0s\n",
      "[CV 1/5] END C=10, epsilon=0.1, gamma=0.01, kernel=linear;, score=-9.503 total time=   0.0s\n",
      "[CV 2/5] END C=10, epsilon=0.1, gamma=0.01, kernel=linear;, score=-11.075 total time=   0.0s\n",
      "[CV 3/5] END C=10, epsilon=0.1, gamma=0.01, kernel=linear;, score=-10.002 total time=   0.0s\n",
      "[CV 4/5] END C=10, epsilon=0.1, gamma=0.01, kernel=linear;, score=-7.329 total time=   0.0s\n",
      "[CV 5/5] END C=10, epsilon=0.1, gamma=0.01, kernel=linear;, score=-10.325 total time=   0.0s\n",
      "[CV 1/5] END C=10, epsilon=0.1, gamma=0.001, kernel=linear;, score=-9.503 total time=   0.0s\n",
      "[CV 2/5] END C=10, epsilon=0.1, gamma=0.001, kernel=linear;, score=-11.075 total time=   0.0s\n",
      "[CV 3/5] END C=10, epsilon=0.1, gamma=0.001, kernel=linear;, score=-10.002 total time=   0.0s\n",
      "[CV 4/5] END C=10, epsilon=0.1, gamma=0.001, kernel=linear;, score=-7.329 total time=   0.0s\n",
      "[CV 5/5] END C=10, epsilon=0.1, gamma=0.001, kernel=linear;, score=-10.325 total time=   0.0s\n",
      "[CV 1/5] END C=10, epsilon=0.1, gamma=0.0001, kernel=linear;, score=-9.503 total time=   0.0s\n",
      "[CV 2/5] END C=10, epsilon=0.1, gamma=0.0001, kernel=linear;, score=-11.075 total time=   0.0s\n",
      "[CV 3/5] END C=10, epsilon=0.1, gamma=0.0001, kernel=linear;, score=-10.002 total time=   0.0s\n",
      "[CV 4/5] END C=10, epsilon=0.1, gamma=0.0001, kernel=linear;, score=-7.329 total time=   0.0s\n",
      "[CV 5/5] END C=10, epsilon=0.1, gamma=0.0001, kernel=linear;, score=-10.325 total time=   0.0s\n",
      "[CV 1/5] END C=10, epsilon=0.2, gamma=1, kernel=linear;, score=-9.514 total time=   0.0s\n",
      "[CV 2/5] END C=10, epsilon=0.2, gamma=1, kernel=linear;, score=-11.078 total time=   0.0s\n",
      "[CV 3/5] END C=10, epsilon=0.2, gamma=1, kernel=linear;, score=-10.020 total time=   0.0s\n",
      "[CV 4/5] END C=10, epsilon=0.2, gamma=1, kernel=linear;, score=-7.347 total time=   0.0s\n",
      "[CV 5/5] END C=10, epsilon=0.2, gamma=1, kernel=linear;, score=-10.330 total time=   0.0s\n",
      "[CV 1/5] END C=10, epsilon=0.2, gamma=0.1, kernel=linear;, score=-9.514 total time=   0.0s\n",
      "[CV 2/5] END C=10, epsilon=0.2, gamma=0.1, kernel=linear;, score=-11.078 total time=   0.0s\n",
      "[CV 3/5] END C=10, epsilon=0.2, gamma=0.1, kernel=linear;, score=-10.020 total time=   0.0s\n",
      "[CV 4/5] END C=10, epsilon=0.2, gamma=0.1, kernel=linear;, score=-7.347 total time=   0.0s\n",
      "[CV 5/5] END C=10, epsilon=0.2, gamma=0.1, kernel=linear;, score=-10.330 total time=   0.0s\n",
      "[CV 1/5] END C=10, epsilon=0.2, gamma=0.01, kernel=linear;, score=-9.514 total time=   0.0s\n",
      "[CV 2/5] END C=10, epsilon=0.2, gamma=0.01, kernel=linear;, score=-11.078 total time=   0.0s\n",
      "[CV 3/5] END C=10, epsilon=0.2, gamma=0.01, kernel=linear;, score=-10.020 total time=   0.0s\n",
      "[CV 4/5] END C=10, epsilon=0.2, gamma=0.01, kernel=linear;, score=-7.347 total time=   0.0s\n",
      "[CV 5/5] END C=10, epsilon=0.2, gamma=0.01, kernel=linear;, score=-10.330 total time=   0.0s\n",
      "[CV 1/5] END C=10, epsilon=0.2, gamma=0.001, kernel=linear;, score=-9.514 total time=   0.0s\n",
      "[CV 2/5] END C=10, epsilon=0.2, gamma=0.001, kernel=linear;, score=-11.078 total time=   0.0s\n",
      "[CV 3/5] END C=10, epsilon=0.2, gamma=0.001, kernel=linear;, score=-10.020 total time=   0.0s\n",
      "[CV 4/5] END C=10, epsilon=0.2, gamma=0.001, kernel=linear;, score=-7.347 total time=   0.0s\n",
      "[CV 5/5] END C=10, epsilon=0.2, gamma=0.001, kernel=linear;, score=-10.330 total time=   0.0s\n",
      "[CV 1/5] END C=10, epsilon=0.2, gamma=0.0001, kernel=linear;, score=-9.514 total time=   0.0s\n",
      "[CV 2/5] END C=10, epsilon=0.2, gamma=0.0001, kernel=linear;, score=-11.078 total time=   0.0s\n",
      "[CV 3/5] END C=10, epsilon=0.2, gamma=0.0001, kernel=linear;, score=-10.020 total time=   0.0s\n",
      "[CV 4/5] END C=10, epsilon=0.2, gamma=0.0001, kernel=linear;, score=-7.347 total time=   0.0s\n",
      "[CV 5/5] END C=10, epsilon=0.2, gamma=0.0001, kernel=linear;, score=-10.330 total time=   0.0s\n",
      "[CV 1/5] END C=10, epsilon=0.3, gamma=1, kernel=linear;, score=-9.494 total time=   0.0s\n",
      "[CV 2/5] END C=10, epsilon=0.3, gamma=1, kernel=linear;, score=-11.124 total time=   0.0s\n",
      "[CV 3/5] END C=10, epsilon=0.3, gamma=1, kernel=linear;, score=-10.027 total time=   0.0s\n",
      "[CV 4/5] END C=10, epsilon=0.3, gamma=1, kernel=linear;, score=-7.355 total time=   0.0s\n",
      "[CV 5/5] END C=10, epsilon=0.3, gamma=1, kernel=linear;, score=-10.303 total time=   0.0s\n",
      "[CV 1/5] END C=10, epsilon=0.3, gamma=0.1, kernel=linear;, score=-9.494 total time=   0.0s\n",
      "[CV 2/5] END C=10, epsilon=0.3, gamma=0.1, kernel=linear;, score=-11.124 total time=   0.0s\n",
      "[CV 3/5] END C=10, epsilon=0.3, gamma=0.1, kernel=linear;, score=-10.027 total time=   0.0s\n",
      "[CV 4/5] END C=10, epsilon=0.3, gamma=0.1, kernel=linear;, score=-7.355 total time=   0.0s\n",
      "[CV 5/5] END C=10, epsilon=0.3, gamma=0.1, kernel=linear;, score=-10.303 total time=   0.0s\n",
      "[CV 1/5] END C=10, epsilon=0.3, gamma=0.01, kernel=linear;, score=-9.494 total time=   0.0s\n",
      "[CV 2/5] END C=10, epsilon=0.3, gamma=0.01, kernel=linear;, score=-11.124 total time=   0.0s\n",
      "[CV 3/5] END C=10, epsilon=0.3, gamma=0.01, kernel=linear;, score=-10.027 total time=   0.0s\n",
      "[CV 4/5] END C=10, epsilon=0.3, gamma=0.01, kernel=linear;, score=-7.355 total time=   0.0s\n",
      "[CV 5/5] END C=10, epsilon=0.3, gamma=0.01, kernel=linear;, score=-10.303 total time=   0.0s\n",
      "[CV 1/5] END C=10, epsilon=0.3, gamma=0.001, kernel=linear;, score=-9.494 total time=   0.0s\n",
      "[CV 2/5] END C=10, epsilon=0.3, gamma=0.001, kernel=linear;, score=-11.124 total time=   0.0s\n",
      "[CV 3/5] END C=10, epsilon=0.3, gamma=0.001, kernel=linear;, score=-10.027 total time=   0.0s\n",
      "[CV 4/5] END C=10, epsilon=0.3, gamma=0.001, kernel=linear;, score=-7.355 total time=   0.0s\n",
      "[CV 5/5] END C=10, epsilon=0.3, gamma=0.001, kernel=linear;, score=-10.303 total time=   0.0s\n",
      "[CV 1/5] END C=10, epsilon=0.3, gamma=0.0001, kernel=linear;, score=-9.494 total time=   0.0s\n",
      "[CV 2/5] END C=10, epsilon=0.3, gamma=0.0001, kernel=linear;, score=-11.124 total time=   0.0s\n",
      "[CV 3/5] END C=10, epsilon=0.3, gamma=0.0001, kernel=linear;, score=-10.027 total time=   0.0s\n",
      "[CV 4/5] END C=10, epsilon=0.3, gamma=0.0001, kernel=linear;, score=-7.355 total time=   0.0s\n",
      "[CV 5/5] END C=10, epsilon=0.3, gamma=0.0001, kernel=linear;, score=-10.303 total time=   0.0s\n",
      "[CV 1/5] END C=100, epsilon=0.1, gamma=1, kernel=linear;, score=-9.469 total time=   0.1s\n",
      "[CV 2/5] END C=100, epsilon=0.1, gamma=1, kernel=linear;, score=-11.150 total time=   0.1s\n",
      "[CV 3/5] END C=100, epsilon=0.1, gamma=1, kernel=linear;, score=-10.000 total time=   0.2s\n",
      "[CV 4/5] END C=100, epsilon=0.1, gamma=1, kernel=linear;, score=-7.334 total time=   0.1s\n",
      "[CV 5/5] END C=100, epsilon=0.1, gamma=1, kernel=linear;, score=-10.236 total time=   0.1s\n",
      "[CV 1/5] END C=100, epsilon=0.1, gamma=0.1, kernel=linear;, score=-9.469 total time=   0.1s\n",
      "[CV 2/5] END C=100, epsilon=0.1, gamma=0.1, kernel=linear;, score=-11.150 total time=   0.1s\n",
      "[CV 3/5] END C=100, epsilon=0.1, gamma=0.1, kernel=linear;, score=-10.000 total time=   0.2s\n",
      "[CV 4/5] END C=100, epsilon=0.1, gamma=0.1, kernel=linear;, score=-7.334 total time=   0.1s\n",
      "[CV 5/5] END C=100, epsilon=0.1, gamma=0.1, kernel=linear;, score=-10.236 total time=   0.1s\n",
      "[CV 1/5] END C=100, epsilon=0.1, gamma=0.01, kernel=linear;, score=-9.469 total time=   0.1s\n",
      "[CV 2/5] END C=100, epsilon=0.1, gamma=0.01, kernel=linear;, score=-11.150 total time=   0.1s\n",
      "[CV 3/5] END C=100, epsilon=0.1, gamma=0.01, kernel=linear;, score=-10.000 total time=   0.2s\n",
      "[CV 4/5] END C=100, epsilon=0.1, gamma=0.01, kernel=linear;, score=-7.334 total time=   0.1s\n",
      "[CV 5/5] END C=100, epsilon=0.1, gamma=0.01, kernel=linear;, score=-10.236 total time=   0.1s\n",
      "[CV 1/5] END C=100, epsilon=0.1, gamma=0.001, kernel=linear;, score=-9.469 total time=   0.1s\n",
      "[CV 2/5] END C=100, epsilon=0.1, gamma=0.001, kernel=linear;, score=-11.150 total time=   0.1s\n",
      "[CV 3/5] END C=100, epsilon=0.1, gamma=0.001, kernel=linear;, score=-10.000 total time=   0.2s\n",
      "[CV 4/5] END C=100, epsilon=0.1, gamma=0.001, kernel=linear;, score=-7.334 total time=   0.1s\n",
      "[CV 5/5] END C=100, epsilon=0.1, gamma=0.001, kernel=linear;, score=-10.236 total time=   0.1s\n",
      "[CV 1/5] END C=100, epsilon=0.1, gamma=0.0001, kernel=linear;, score=-9.469 total time=   0.1s\n",
      "[CV 2/5] END C=100, epsilon=0.1, gamma=0.0001, kernel=linear;, score=-11.150 total time=   0.1s\n",
      "[CV 3/5] END C=100, epsilon=0.1, gamma=0.0001, kernel=linear;, score=-10.000 total time=   0.2s\n",
      "[CV 4/5] END C=100, epsilon=0.1, gamma=0.0001, kernel=linear;, score=-7.334 total time=   0.1s\n",
      "[CV 5/5] END C=100, epsilon=0.1, gamma=0.0001, kernel=linear;, score=-10.236 total time=   0.1s\n",
      "[CV 1/5] END C=100, epsilon=0.2, gamma=1, kernel=linear;, score=-9.476 total time=   0.1s\n",
      "[CV 2/5] END C=100, epsilon=0.2, gamma=1, kernel=linear;, score=-11.180 total time=   0.1s\n",
      "[CV 3/5] END C=100, epsilon=0.2, gamma=1, kernel=linear;, score=-10.005 total time=   0.1s\n",
      "[CV 4/5] END C=100, epsilon=0.2, gamma=1, kernel=linear;, score=-7.348 total time=   0.1s\n",
      "[CV 5/5] END C=100, epsilon=0.2, gamma=1, kernel=linear;, score=-10.247 total time=   0.1s\n",
      "[CV 1/5] END C=100, epsilon=0.2, gamma=0.1, kernel=linear;, score=-9.476 total time=   0.2s\n",
      "[CV 2/5] END C=100, epsilon=0.2, gamma=0.1, kernel=linear;, score=-11.180 total time=   0.1s\n",
      "[CV 3/5] END C=100, epsilon=0.2, gamma=0.1, kernel=linear;, score=-10.005 total time=   0.2s\n",
      "[CV 4/5] END C=100, epsilon=0.2, gamma=0.1, kernel=linear;, score=-7.348 total time=   0.1s\n",
      "[CV 5/5] END C=100, epsilon=0.2, gamma=0.1, kernel=linear;, score=-10.247 total time=   0.1s\n",
      "[CV 1/5] END C=100, epsilon=0.2, gamma=0.01, kernel=linear;, score=-9.476 total time=   0.1s\n",
      "[CV 2/5] END C=100, epsilon=0.2, gamma=0.01, kernel=linear;, score=-11.180 total time=   0.1s\n",
      "[CV 3/5] END C=100, epsilon=0.2, gamma=0.01, kernel=linear;, score=-10.005 total time=   0.1s\n",
      "[CV 4/5] END C=100, epsilon=0.2, gamma=0.01, kernel=linear;, score=-7.348 total time=   0.2s\n",
      "[CV 5/5] END C=100, epsilon=0.2, gamma=0.01, kernel=linear;, score=-10.247 total time=   0.1s\n",
      "[CV 1/5] END C=100, epsilon=0.2, gamma=0.001, kernel=linear;, score=-9.476 total time=   0.1s\n",
      "[CV 2/5] END C=100, epsilon=0.2, gamma=0.001, kernel=linear;, score=-11.180 total time=   0.1s\n",
      "[CV 3/5] END C=100, epsilon=0.2, gamma=0.001, kernel=linear;, score=-10.005 total time=   0.2s\n",
      "[CV 4/5] END C=100, epsilon=0.2, gamma=0.001, kernel=linear;, score=-7.348 total time=   0.1s\n",
      "[CV 5/5] END C=100, epsilon=0.2, gamma=0.001, kernel=linear;, score=-10.247 total time=   0.1s\n",
      "[CV 1/5] END C=100, epsilon=0.2, gamma=0.0001, kernel=linear;, score=-9.476 total time=   0.1s\n",
      "[CV 2/5] END C=100, epsilon=0.2, gamma=0.0001, kernel=linear;, score=-11.180 total time=   0.1s\n",
      "[CV 3/5] END C=100, epsilon=0.2, gamma=0.0001, kernel=linear;, score=-10.005 total time=   0.2s\n",
      "[CV 4/5] END C=100, epsilon=0.2, gamma=0.0001, kernel=linear;, score=-7.348 total time=   0.1s\n",
      "[CV 5/5] END C=100, epsilon=0.2, gamma=0.0001, kernel=linear;, score=-10.247 total time=   0.1s\n",
      "[CV 1/5] END C=100, epsilon=0.3, gamma=1, kernel=linear;, score=-9.467 total time=   0.1s\n",
      "[CV 2/5] END C=100, epsilon=0.3, gamma=1, kernel=linear;, score=-11.196 total time=   0.1s\n",
      "[CV 3/5] END C=100, epsilon=0.3, gamma=1, kernel=linear;, score=-10.007 total time=   0.1s\n",
      "[CV 4/5] END C=100, epsilon=0.3, gamma=1, kernel=linear;, score=-7.351 total time=   0.1s\n",
      "[CV 5/5] END C=100, epsilon=0.3, gamma=1, kernel=linear;, score=-10.285 total time=   0.1s\n",
      "[CV 1/5] END C=100, epsilon=0.3, gamma=0.1, kernel=linear;, score=-9.467 total time=   0.1s\n",
      "[CV 2/5] END C=100, epsilon=0.3, gamma=0.1, kernel=linear;, score=-11.196 total time=   0.1s\n",
      "[CV 3/5] END C=100, epsilon=0.3, gamma=0.1, kernel=linear;, score=-10.007 total time=   0.1s\n",
      "[CV 4/5] END C=100, epsilon=0.3, gamma=0.1, kernel=linear;, score=-7.351 total time=   0.1s\n",
      "[CV 5/5] END C=100, epsilon=0.3, gamma=0.1, kernel=linear;, score=-10.285 total time=   0.1s\n",
      "[CV 1/5] END C=100, epsilon=0.3, gamma=0.01, kernel=linear;, score=-9.467 total time=   0.1s\n",
      "[CV 2/5] END C=100, epsilon=0.3, gamma=0.01, kernel=linear;, score=-11.196 total time=   0.1s\n",
      "[CV 3/5] END C=100, epsilon=0.3, gamma=0.01, kernel=linear;, score=-10.007 total time=   0.1s\n",
      "[CV 4/5] END C=100, epsilon=0.3, gamma=0.01, kernel=linear;, score=-7.351 total time=   0.1s\n",
      "[CV 5/5] END C=100, epsilon=0.3, gamma=0.01, kernel=linear;, score=-10.285 total time=   0.1s\n",
      "[CV 1/5] END C=100, epsilon=0.3, gamma=0.001, kernel=linear;, score=-9.467 total time=   0.1s\n",
      "[CV 2/5] END C=100, epsilon=0.3, gamma=0.001, kernel=linear;, score=-11.196 total time=   0.1s\n",
      "[CV 3/5] END C=100, epsilon=0.3, gamma=0.001, kernel=linear;, score=-10.007 total time=   0.1s\n",
      "[CV 4/5] END C=100, epsilon=0.3, gamma=0.001, kernel=linear;, score=-7.351 total time=   0.1s\n",
      "[CV 5/5] END C=100, epsilon=0.3, gamma=0.001, kernel=linear;, score=-10.285 total time=   0.1s\n",
      "[CV 1/5] END C=100, epsilon=0.3, gamma=0.0001, kernel=linear;, score=-9.467 total time=   0.1s\n",
      "[CV 2/5] END C=100, epsilon=0.3, gamma=0.0001, kernel=linear;, score=-11.196 total time=   0.1s\n",
      "[CV 3/5] END C=100, epsilon=0.3, gamma=0.0001, kernel=linear;, score=-10.007 total time=   0.1s\n",
      "[CV 4/5] END C=100, epsilon=0.3, gamma=0.0001, kernel=linear;, score=-7.351 total time=   0.1s\n",
      "[CV 5/5] END C=100, epsilon=0.3, gamma=0.0001, kernel=linear;, score=-10.285 total time=   0.1s\n",
      "[CV 1/5] END C=1000, epsilon=0.1, gamma=1, kernel=linear;, score=-9.474 total time=   1.1s\n",
      "[CV 2/5] END C=1000, epsilon=0.1, gamma=1, kernel=linear;, score=-11.156 total time=   1.2s\n",
      "[CV 3/5] END C=1000, epsilon=0.1, gamma=1, kernel=linear;, score=-9.994 total time=   1.2s\n",
      "[CV 4/5] END C=1000, epsilon=0.1, gamma=1, kernel=linear;, score=-7.334 total time=   1.0s\n",
      "[CV 5/5] END C=1000, epsilon=0.1, gamma=1, kernel=linear;, score=-10.237 total time=   1.1s\n",
      "[CV 1/5] END C=1000, epsilon=0.1, gamma=0.1, kernel=linear;, score=-9.474 total time=   1.1s\n",
      "[CV 2/5] END C=1000, epsilon=0.1, gamma=0.1, kernel=linear;, score=-11.156 total time=   1.1s\n",
      "[CV 3/5] END C=1000, epsilon=0.1, gamma=0.1, kernel=linear;, score=-9.994 total time=   1.2s\n",
      "[CV 4/5] END C=1000, epsilon=0.1, gamma=0.1, kernel=linear;, score=-7.334 total time=   1.0s\n",
      "[CV 5/5] END C=1000, epsilon=0.1, gamma=0.1, kernel=linear;, score=-10.237 total time=   1.1s\n",
      "[CV 1/5] END C=1000, epsilon=0.1, gamma=0.01, kernel=linear;, score=-9.474 total time=   1.1s\n",
      "[CV 2/5] END C=1000, epsilon=0.1, gamma=0.01, kernel=linear;, score=-11.156 total time=   1.1s\n",
      "[CV 3/5] END C=1000, epsilon=0.1, gamma=0.01, kernel=linear;, score=-9.994 total time=   1.2s\n",
      "[CV 4/5] END C=1000, epsilon=0.1, gamma=0.01, kernel=linear;, score=-7.334 total time=   1.0s\n",
      "[CV 5/5] END C=1000, epsilon=0.1, gamma=0.01, kernel=linear;, score=-10.237 total time=   1.2s\n",
      "[CV 1/5] END C=1000, epsilon=0.1, gamma=0.001, kernel=linear;, score=-9.474 total time=   1.2s\n",
      "[CV 2/5] END C=1000, epsilon=0.1, gamma=0.001, kernel=linear;, score=-11.156 total time=   1.3s\n",
      "[CV 3/5] END C=1000, epsilon=0.1, gamma=0.001, kernel=linear;, score=-9.994 total time=   1.3s\n",
      "[CV 4/5] END C=1000, epsilon=0.1, gamma=0.001, kernel=linear;, score=-7.334 total time=   1.0s\n",
      "[CV 5/5] END C=1000, epsilon=0.1, gamma=0.001, kernel=linear;, score=-10.237 total time=   1.1s\n",
      "[CV 1/5] END C=1000, epsilon=0.1, gamma=0.0001, kernel=linear;, score=-9.474 total time=   1.1s\n",
      "[CV 2/5] END C=1000, epsilon=0.1, gamma=0.0001, kernel=linear;, score=-11.156 total time=   1.1s\n",
      "[CV 3/5] END C=1000, epsilon=0.1, gamma=0.0001, kernel=linear;, score=-9.994 total time=   1.2s\n",
      "[CV 4/5] END C=1000, epsilon=0.1, gamma=0.0001, kernel=linear;, score=-7.334 total time=   1.0s\n",
      "[CV 5/5] END C=1000, epsilon=0.1, gamma=0.0001, kernel=linear;, score=-10.237 total time=   1.1s\n",
      "[CV 1/5] END C=1000, epsilon=0.2, gamma=1, kernel=linear;, score=-9.472 total time=   1.0s\n",
      "[CV 2/5] END C=1000, epsilon=0.2, gamma=1, kernel=linear;, score=-11.185 total time=   1.1s\n",
      "[CV 3/5] END C=1000, epsilon=0.2, gamma=1, kernel=linear;, score=-10.005 total time=   1.2s\n",
      "[CV 4/5] END C=1000, epsilon=0.2, gamma=1, kernel=linear;, score=-7.352 total time=   1.0s\n",
      "[CV 5/5] END C=1000, epsilon=0.2, gamma=1, kernel=linear;, score=-10.246 total time=   1.2s\n",
      "[CV 1/5] END C=1000, epsilon=0.2, gamma=0.1, kernel=linear;, score=-9.472 total time=   1.0s\n",
      "[CV 2/5] END C=1000, epsilon=0.2, gamma=0.1, kernel=linear;, score=-11.185 total time=   1.1s\n",
      "[CV 3/5] END C=1000, epsilon=0.2, gamma=0.1, kernel=linear;, score=-10.005 total time=   1.2s\n",
      "[CV 4/5] END C=1000, epsilon=0.2, gamma=0.1, kernel=linear;, score=-7.352 total time=   1.0s\n",
      "[CV 5/5] END C=1000, epsilon=0.2, gamma=0.1, kernel=linear;, score=-10.246 total time=   1.2s\n",
      "[CV 1/5] END C=1000, epsilon=0.2, gamma=0.01, kernel=linear;, score=-9.472 total time=   1.0s\n",
      "[CV 2/5] END C=1000, epsilon=0.2, gamma=0.01, kernel=linear;, score=-11.185 total time=   1.1s\n",
      "[CV 3/5] END C=1000, epsilon=0.2, gamma=0.01, kernel=linear;, score=-10.005 total time=   1.2s\n",
      "[CV 4/5] END C=1000, epsilon=0.2, gamma=0.01, kernel=linear;, score=-7.352 total time=   1.0s\n",
      "[CV 5/5] END C=1000, epsilon=0.2, gamma=0.01, kernel=linear;, score=-10.246 total time=   1.2s\n",
      "[CV 1/5] END C=1000, epsilon=0.2, gamma=0.001, kernel=linear;, score=-9.472 total time=   1.0s\n",
      "[CV 2/5] END C=1000, epsilon=0.2, gamma=0.001, kernel=linear;, score=-11.185 total time=   1.1s\n",
      "[CV 3/5] END C=1000, epsilon=0.2, gamma=0.001, kernel=linear;, score=-10.005 total time=   1.2s\n",
      "[CV 4/5] END C=1000, epsilon=0.2, gamma=0.001, kernel=linear;, score=-7.352 total time=   1.0s\n",
      "[CV 5/5] END C=1000, epsilon=0.2, gamma=0.001, kernel=linear;, score=-10.246 total time=   1.2s\n",
      "[CV 1/5] END C=1000, epsilon=0.2, gamma=0.0001, kernel=linear;, score=-9.472 total time=   1.0s\n",
      "[CV 2/5] END C=1000, epsilon=0.2, gamma=0.0001, kernel=linear;, score=-11.185 total time=   1.1s\n",
      "[CV 3/5] END C=1000, epsilon=0.2, gamma=0.0001, kernel=linear;, score=-10.005 total time=   1.2s\n",
      "[CV 4/5] END C=1000, epsilon=0.2, gamma=0.0001, kernel=linear;, score=-7.352 total time=   1.0s\n",
      "[CV 5/5] END C=1000, epsilon=0.2, gamma=0.0001, kernel=linear;, score=-10.246 total time=   1.2s\n",
      "[CV 1/5] END C=1000, epsilon=0.3, gamma=1, kernel=linear;, score=-9.466 total time=   1.2s\n",
      "[CV 2/5] END C=1000, epsilon=0.3, gamma=1, kernel=linear;, score=-11.224 total time=   1.0s\n",
      "[CV 3/5] END C=1000, epsilon=0.3, gamma=1, kernel=linear;, score=-10.017 total time=   1.0s\n",
      "[CV 4/5] END C=1000, epsilon=0.3, gamma=1, kernel=linear;, score=-7.351 total time=   1.2s\n",
      "[CV 5/5] END C=1000, epsilon=0.3, gamma=1, kernel=linear;, score=-10.280 total time=   1.3s\n",
      "[CV 1/5] END C=1000, epsilon=0.3, gamma=0.1, kernel=linear;, score=-9.466 total time=   1.3s\n",
      "[CV 2/5] END C=1000, epsilon=0.3, gamma=0.1, kernel=linear;, score=-11.224 total time=   0.9s\n",
      "[CV 3/5] END C=1000, epsilon=0.3, gamma=0.1, kernel=linear;, score=-10.017 total time=   1.0s\n",
      "[CV 4/5] END C=1000, epsilon=0.3, gamma=0.1, kernel=linear;, score=-7.351 total time=   1.2s\n",
      "[CV 5/5] END C=1000, epsilon=0.3, gamma=0.1, kernel=linear;, score=-10.280 total time=   1.3s\n",
      "[CV 1/5] END C=1000, epsilon=0.3, gamma=0.01, kernel=linear;, score=-9.466 total time=   1.2s\n",
      "[CV 2/5] END C=1000, epsilon=0.3, gamma=0.01, kernel=linear;, score=-11.224 total time=   0.9s\n",
      "[CV 3/5] END C=1000, epsilon=0.3, gamma=0.01, kernel=linear;, score=-10.017 total time=   1.0s\n",
      "[CV 4/5] END C=1000, epsilon=0.3, gamma=0.01, kernel=linear;, score=-7.351 total time=   1.2s\n",
      "[CV 5/5] END C=1000, epsilon=0.3, gamma=0.01, kernel=linear;, score=-10.280 total time=   1.3s\n",
      "[CV 1/5] END C=1000, epsilon=0.3, gamma=0.001, kernel=linear;, score=-9.466 total time=   1.2s\n",
      "[CV 2/5] END C=1000, epsilon=0.3, gamma=0.001, kernel=linear;, score=-11.224 total time=   0.9s\n",
      "[CV 3/5] END C=1000, epsilon=0.3, gamma=0.001, kernel=linear;, score=-10.017 total time=   1.0s\n",
      "[CV 4/5] END C=1000, epsilon=0.3, gamma=0.001, kernel=linear;, score=-7.351 total time=   1.3s\n",
      "[CV 5/5] END C=1000, epsilon=0.3, gamma=0.001, kernel=linear;, score=-10.280 total time=   1.5s\n",
      "[CV 1/5] END C=1000, epsilon=0.3, gamma=0.0001, kernel=linear;, score=-9.466 total time=   1.3s\n",
      "[CV 2/5] END C=1000, epsilon=0.3, gamma=0.0001, kernel=linear;, score=-11.224 total time=   1.0s\n",
      "[CV 3/5] END C=1000, epsilon=0.3, gamma=0.0001, kernel=linear;, score=-10.017 total time=   1.0s\n",
      "[CV 4/5] END C=1000, epsilon=0.3, gamma=0.0001, kernel=linear;, score=-7.351 total time=   1.2s\n",
      "[CV 5/5] END C=1000, epsilon=0.3, gamma=0.0001, kernel=linear;, score=-10.280 total time=   1.3s\n"
     ]
    },
    {
     "data": {
      "text/plain": [
       "GridSearchCV(cv=5, estimator=SVR(kernel='linear'),\n",
       "             param_grid={'C': [0.1, 1, 10, 100, 1000],\n",
       "                         'epsilon': [0.1, 0.2, 0.3],\n",
       "                         'gamma': [1, 0.1, 0.01, 0.001, 0.0001],\n",
       "                         'kernel': ['linear']},\n",
       "             scoring='neg_mean_squared_error', verbose=3)"
      ]
     },
     "execution_count": 92,
     "metadata": {},
     "output_type": "execute_result"
    }
   ],
   "source": [
    "grid.fit(X_train,y_train)"
   ]
  },
  {
   "cell_type": "code",
   "execution_count": 93,
   "id": "af493487",
   "metadata": {},
   "outputs": [
    {
     "data": {
      "text/plain": [
       "{'C': 100, 'epsilon': 0.1, 'gamma': 1, 'kernel': 'linear'}"
      ]
     },
     "execution_count": 93,
     "metadata": {},
     "output_type": "execute_result"
    }
   ],
   "source": [
    "grid.best_params_"
   ]
  },
  {
   "cell_type": "code",
   "execution_count": 94,
   "id": "fdb3a882",
   "metadata": {},
   "outputs": [
    {
     "data": {
      "text/plain": [
       "array([-225.45923501,   31.34952628,  181.85662818,  -77.10421571,\n",
       "       -263.98387927,   92.94449686,   13.5517454 ,   47.94173397,\n",
       "         74.6688784 ,  160.37774733, -175.0947288 ,  208.88786194,\n",
       "       -177.40080096, -101.48779692,   -7.60970068,   16.32605186,\n",
       "       -131.73571706,  -26.10901857,   91.97029343,  166.39104952,\n",
       "        -89.36677087,    4.98035095, -122.3363978 ,  -63.56660998,\n",
       "         47.55879402,  105.85886043,  -96.50931046, -232.80992483,\n",
       "        180.80189201,   -9.52816982,  -91.63576918,  -80.28484319,\n",
       "         89.1879372 ,  -64.40156091,   14.27094914, -125.80687689,\n",
       "       -191.00135658,   68.03953544,   25.9020614 , -163.02079244,\n",
       "        -21.21166592,  -93.26268682,   81.65830762,  176.21978571,\n",
       "         98.60529585,   90.21767103,  148.14539422,  -41.38038535,\n",
       "       -107.92393806,  -89.75880964,  146.37755734,   76.8997537 ,\n",
       "        -58.91947457, -134.57077027,   89.41695789,   33.03542413,\n",
       "         43.25213481,  142.95956847,   94.64966818, -186.69465041,\n",
       "         14.43507255,  -22.89858391,   71.8880287 ,  169.25788541,\n",
       "       -181.51235013,  160.489973  ,   33.01560735,   13.70954271,\n",
       "         34.05353005,  148.62355496,  -51.17737847, -123.60114116,\n",
       "       -136.26628932,   99.04968633,   17.96207108,    5.12431479,\n",
       "         15.86105467,   90.42849575, -251.5338861 ,   95.67882335,\n",
       "         57.39011874,  196.55586719, -154.20623324,  164.36508284,\n",
       "       -156.80265571, -180.33325282, -111.71078448, -200.0766406 ,\n",
       "       -124.87017224, -114.52725485, -120.76763408,  -20.58982595,\n",
       "       -185.47974224,  -98.60950668,   30.2797194 ,  -82.23982183,\n",
       "        120.68891955, -164.27878   , -262.62493622,  -53.62033002,\n",
       "        163.77839168,   91.45549268,   -1.21966015,  -18.29706614,\n",
       "       -115.47491154,   97.36660519, -133.31595256,  -49.71125221,\n",
       "       -138.72218909, -165.66877998, -145.18115236,   15.16884663,\n",
       "        127.32534126,    9.37844643,  -17.71867531, -186.39014018,\n",
       "         -6.40510976,   78.85506355,  -77.0362157 ,  151.7665971 ,\n",
       "       -101.38483308, -112.54693732,   -9.26804306,  147.55263707,\n",
       "         36.04204266, -123.37116406,  -52.53894523,   70.57741093,\n",
       "        -41.13699663,   97.71591889,  -89.81493021,   38.56259637,\n",
       "       -158.35194538,  -21.31129321,  -40.30669645, -104.40791149,\n",
       "       -105.99387938, -134.25255892,   84.71558574, -157.0301616 ,\n",
       "          3.54244226, -108.76493489,  -59.44719075,   86.71856544,\n",
       "        103.23546675, -152.82376148,   -2.56003389,  258.10514048,\n",
       "        103.32079498,   90.23249537, -200.07953168,   13.40885666,\n",
       "         50.98123935, -202.33368464,  133.02362188,  -59.88212337,\n",
       "         56.03060866, -145.34738632,  -30.05166296,    6.62823606,\n",
       "         43.9887864 ,  -51.17923478,   20.80610661,  166.19224932,\n",
       "        -32.21427103,  143.9236952 ,   30.96918804, -197.0412833 ,\n",
       "        125.29966664, -190.31274947, -161.72625001,    2.32482259,\n",
       "         24.1185005 ,  -20.15732393,   22.79933367,  -22.83935786,\n",
       "        -72.80757856,  -70.5577871 , -205.23850967,  -56.34859624,\n",
       "       -102.72673847,   56.56053416,  263.98621681,  145.26946514,\n",
       "        103.51951566,   57.47885948,  -82.58827022,  100.38088863,\n",
       "         67.74908997,  -97.63994547,   78.98700904,  235.69648094,\n",
       "       -120.74851211,   46.13211425,  148.37852182,  168.68755251,\n",
       "        -37.95381765,   87.17910642,   65.6436239 ,  -95.55284255,\n",
       "       -134.02739972,  211.18300614,  -93.00187262,   76.78670557,\n",
       "        -90.53173977,  -20.42991293,   65.20587196,    8.36224034,\n",
       "        -56.22793   ,  115.09897069,  -69.80740256,  125.96652647,\n",
       "        146.85157677,  103.9873965 ,  275.39715781,  -38.6177568 ,\n",
       "         71.96440993,  144.15680801,  156.94391154,  -60.18347265,\n",
       "         37.0072349 , -167.70624771,   75.04790986,   68.87741704,\n",
       "       -113.79618798, -127.69530937, -110.06625924,  -35.30494565,\n",
       "         18.90913974,   71.53890346,  104.41203971,   90.82430225,\n",
       "        -18.04912317,   21.33761671,  151.33810827,  181.31747151,\n",
       "        140.98160224,  145.52537337,   81.67890346, -130.15251186,\n",
       "       -133.56067334,   95.48873913,   52.58722891,  124.18690545,\n",
       "        -68.32322799,  -79.13654541,   44.40921155,  206.53397235,\n",
       "        167.03779804,   88.57644523])"
      ]
     },
     "execution_count": 94,
     "metadata": {},
     "output_type": "execute_result"
    }
   ],
   "source": [
    "# Prediction\n",
    "y_pred1=grid.predict(X_test)\n",
    "y_pred1"
   ]
  },
  {
   "cell_type": "code",
   "execution_count": 95,
   "id": "04f40331",
   "metadata": {},
   "outputs": [
    {
     "name": "stdout",
     "output_type": "stream",
     "text": [
      "0.9993808036848937\n"
     ]
    }
   ],
   "source": [
    "print(r2_score(y_test,y_pred1))"
   ]
  },
  {
   "cell_type": "markdown",
   "id": "3afe935a",
   "metadata": {},
   "source": [
    "# SVM Kernel Practical Implementation"
   ]
  },
  {
   "cell_type": "code",
   "execution_count": 96,
   "id": "003e7c81",
   "metadata": {},
   "outputs": [],
   "source": [
    "x=np.linspace(-5.0, 5.0, 100)\n",
    "y=np.sqrt(10**2 - x**2)\n",
    "y=np.hstack([y,-y])\n",
    "#hstack: horizontal stack, to know more about this just presss shift+tab\n",
    "x=np.hstack([x,-x])"
   ]
  },
  {
   "cell_type": "code",
   "execution_count": 97,
   "id": "6ba215c7",
   "metadata": {},
   "outputs": [],
   "source": [
    "x1=np.linspace(-5.0, 5.0, 100)\n",
    "y1=np.sqrt(5**2 - x1**2)\n",
    "y1=np.hstack([y1,-y1])\n",
    "x1=np.hstack([x1,-x1])"
   ]
  },
  {
   "cell_type": "code",
   "execution_count": 98,
   "id": "29456e46",
   "metadata": {},
   "outputs": [
    {
     "data": {
      "text/plain": [
       "<matplotlib.collections.PathCollection at 0x1e4d4a69340>"
      ]
     },
     "execution_count": 98,
     "metadata": {},
     "output_type": "execute_result"
    },
    {
     "data": {
      "image/png": "[encoded data removed]",
      "text/plain": [
       "<Figure size 640x480 with 1 Axes>"
      ]
     },
     "metadata": {},
     "output_type": "display_data"
    }
   ],
   "source": [
    "plt.scatter(y,x)\n",
    "plt.scatter(y1,x1)"
   ]
  },
  {
   "cell_type": "code",
   "execution_count": 100,
   "id": "b7d2afc2",
   "metadata": {},
   "outputs": [
    {
     "data": {
      "text/html": [
       "<div>\n",
       "<style scoped>\n",
       "    .dataframe tbody tr th:only-of-type {\n",
       "        vertical-align: middle;\n",
       "    }\n",
       "\n",
       "    .dataframe tbody tr th {\n",
       "        vertical-align: top;\n",
       "    }\n",
       "\n",
       "    .dataframe thead th {\n",
       "        text-align: right;\n",
       "    }\n",
       "</style>\n",
       "<table border=\"1\" class=\"dataframe\">\n",
       "  <thead>\n",
       "    <tr style=\"text-align: right;\">\n",
       "      <th></th>\n",
       "      <th>X1</th>\n",
       "      <th>X2</th>\n",
       "      <th>Y</th>\n",
       "    </tr>\n",
       "  </thead>\n",
       "  <tbody>\n",
       "    <tr>\n",
       "      <th>0</th>\n",
       "      <td>8.660254</td>\n",
       "      <td>-5.00000</td>\n",
       "      <td>0</td>\n",
       "    </tr>\n",
       "    <tr>\n",
       "      <th>1</th>\n",
       "      <td>8.717792</td>\n",
       "      <td>-4.89899</td>\n",
       "      <td>0</td>\n",
       "    </tr>\n",
       "    <tr>\n",
       "      <th>2</th>\n",
       "      <td>8.773790</td>\n",
       "      <td>-4.79798</td>\n",
       "      <td>0</td>\n",
       "    </tr>\n",
       "    <tr>\n",
       "      <th>3</th>\n",
       "      <td>8.828277</td>\n",
       "      <td>-4.69697</td>\n",
       "      <td>0</td>\n",
       "    </tr>\n",
       "    <tr>\n",
       "      <th>4</th>\n",
       "      <td>8.881281</td>\n",
       "      <td>-4.59596</td>\n",
       "      <td>0</td>\n",
       "    </tr>\n",
       "  </tbody>\n",
       "</table>\n",
       "</div>"
      ],
      "text/plain": [
       "         X1       X2  Y\n",
       "0  8.660254 -5.00000  0\n",
       "1  8.717792 -4.89899  0\n",
       "2  8.773790 -4.79798  0\n",
       "3  8.828277 -4.69697  0\n",
       "4  8.881281 -4.59596  0"
      ]
     },
     "execution_count": 100,
     "metadata": {},
     "output_type": "execute_result"
    }
   ],
   "source": [
    "df1=pd.DataFrame(np.vstack([y,x]).T,columns=['X1','X2'])\n",
    "df1['Y']=0\n",
    "df2=pd.DataFrame(np.vstack([y,x]).T,columns=['X1','X2'])\n",
    "df2['Y']=1\n",
    "df=df1.append(df2)\n",
    "df.head(5)"
   ]
  },
  {
   "cell_type": "code",
   "execution_count": 101,
   "id": "7e9c0c31",
   "metadata": {},
   "outputs": [
    {
     "data": {
      "text/html": [
       "<div>\n",
       "<style scoped>\n",
       "    .dataframe tbody tr th:only-of-type {\n",
       "        vertical-align: middle;\n",
       "    }\n",
       "\n",
       "    .dataframe tbody tr th {\n",
       "        vertical-align: top;\n",
       "    }\n",
       "\n",
       "    .dataframe thead th {\n",
       "        text-align: right;\n",
       "    }\n",
       "</style>\n",
       "<table border=\"1\" class=\"dataframe\">\n",
       "  <thead>\n",
       "    <tr style=\"text-align: right;\">\n",
       "      <th></th>\n",
       "      <th>X1</th>\n",
       "      <th>X2</th>\n",
       "      <th>Y</th>\n",
       "    </tr>\n",
       "  </thead>\n",
       "  <tbody>\n",
       "    <tr>\n",
       "      <th>195</th>\n",
       "      <td>-8.881281</td>\n",
       "      <td>-4.59596</td>\n",
       "      <td>1</td>\n",
       "    </tr>\n",
       "    <tr>\n",
       "      <th>196</th>\n",
       "      <td>-8.828277</td>\n",
       "      <td>-4.69697</td>\n",
       "      <td>1</td>\n",
       "    </tr>\n",
       "    <tr>\n",
       "      <th>197</th>\n",
       "      <td>-8.773790</td>\n",
       "      <td>-4.79798</td>\n",
       "      <td>1</td>\n",
       "    </tr>\n",
       "    <tr>\n",
       "      <th>198</th>\n",
       "      <td>-8.717792</td>\n",
       "      <td>-4.89899</td>\n",
       "      <td>1</td>\n",
       "    </tr>\n",
       "    <tr>\n",
       "      <th>199</th>\n",
       "      <td>-8.660254</td>\n",
       "      <td>-5.00000</td>\n",
       "      <td>1</td>\n",
       "    </tr>\n",
       "  </tbody>\n",
       "</table>\n",
       "</div>"
      ],
      "text/plain": [
       "           X1       X2  Y\n",
       "195 -8.881281 -4.59596  1\n",
       "196 -8.828277 -4.69697  1\n",
       "197 -8.773790 -4.79798  1\n",
       "198 -8.717792 -4.89899  1\n",
       "199 -8.660254 -5.00000  1"
      ]
     },
     "execution_count": 101,
     "metadata": {},
     "output_type": "execute_result"
    }
   ],
   "source": [
    "df.tail()"
   ]
  },
  {
   "cell_type": "markdown",
   "id": "2bbaac78",
   "metadata": {},
   "source": [
    "# Polynomial Kernel"
   ]
  },
  {
   "cell_type": "markdown",
   "id": "8f225c35",
   "metadata": {},
   "source": [
    "# Based on the formula find the componenents for the polynomial kernel"
   ]
  },
  {
   "cell_type": "code",
   "execution_count": 131,
   "id": "a911437a",
   "metadata": {},
   "outputs": [
    {
     "data": {
      "text/html": [
       "<div>\n",
       "<style scoped>\n",
       "    .dataframe tbody tr th:only-of-type {\n",
       "        vertical-align: middle;\n",
       "    }\n",
       "\n",
       "    .dataframe tbody tr th {\n",
       "        vertical-align: top;\n",
       "    }\n",
       "\n",
       "    .dataframe thead th {\n",
       "        text-align: right;\n",
       "    }\n",
       "</style>\n",
       "<table border=\"1\" class=\"dataframe\">\n",
       "  <thead>\n",
       "    <tr style=\"text-align: right;\">\n",
       "      <th></th>\n",
       "      <th>X1</th>\n",
       "      <th>X2</th>\n",
       "      <th>Y</th>\n",
       "      <th>X1_Square</th>\n",
       "      <th>X2_Square</th>\n",
       "      <th>X1*X2</th>\n",
       "    </tr>\n",
       "  </thead>\n",
       "  <tbody>\n",
       "    <tr>\n",
       "      <th>195</th>\n",
       "      <td>-8.881281</td>\n",
       "      <td>-4.59596</td>\n",
       "      <td>1</td>\n",
       "      <td>78.877155</td>\n",
       "      <td>21.122845</td>\n",
       "      <td>40.818009</td>\n",
       "    </tr>\n",
       "    <tr>\n",
       "      <th>196</th>\n",
       "      <td>-8.828277</td>\n",
       "      <td>-4.69697</td>\n",
       "      <td>1</td>\n",
       "      <td>77.938476</td>\n",
       "      <td>22.061524</td>\n",
       "      <td>41.466150</td>\n",
       "    </tr>\n",
       "    <tr>\n",
       "      <th>197</th>\n",
       "      <td>-8.773790</td>\n",
       "      <td>-4.79798</td>\n",
       "      <td>1</td>\n",
       "      <td>76.979390</td>\n",
       "      <td>23.020610</td>\n",
       "      <td>42.096467</td>\n",
       "    </tr>\n",
       "    <tr>\n",
       "      <th>198</th>\n",
       "      <td>-8.717792</td>\n",
       "      <td>-4.89899</td>\n",
       "      <td>1</td>\n",
       "      <td>75.999898</td>\n",
       "      <td>24.000102</td>\n",
       "      <td>42.708375</td>\n",
       "    </tr>\n",
       "    <tr>\n",
       "      <th>199</th>\n",
       "      <td>-8.660254</td>\n",
       "      <td>-5.00000</td>\n",
       "      <td>1</td>\n",
       "      <td>75.000000</td>\n",
       "      <td>25.000000</td>\n",
       "      <td>43.301270</td>\n",
       "    </tr>\n",
       "  </tbody>\n",
       "</table>\n",
       "</div>"
      ],
      "text/plain": [
       "           X1       X2  Y  X1_Square  X2_Square      X1*X2\n",
       "195 -8.881281 -4.59596  1  78.877155  21.122845  40.818009\n",
       "196 -8.828277 -4.69697  1  77.938476  22.061524  41.466150\n",
       "197 -8.773790 -4.79798  1  76.979390  23.020610  42.096467\n",
       "198 -8.717792 -4.89899  1  75.999898  24.000102  42.708375\n",
       "199 -8.660254 -5.00000  1  75.000000  25.000000  43.301270"
      ]
     },
     "execution_count": 131,
     "metadata": {},
     "output_type": "execute_result"
    }
   ],
   "source": [
    "df['X1_Square']=df['X1']**2\n",
    "df['X2_Square']=df['X2']**2\n",
    "df['X1*X2']=df['X1']*df['X2']\n",
    "df.tail()"
   ]
  },
  {
   "cell_type": "code",
   "execution_count": 126,
   "id": "77c88e78",
   "metadata": {},
   "outputs": [],
   "source": [
    "# Independent and Depedent Features\n",
    "X=df[['X1_Square','X2_Square','X1*X2']]\n",
    "y=df['Y']"
   ]
  },
  {
   "cell_type": "code",
   "execution_count": 127,
   "id": "a88b9023",
   "metadata": {},
   "outputs": [],
   "source": [
    "# Train Test split\n",
    "from sklearn.model_selection import train_test_split\n",
    "X_train,X_test,y_train,y_test=train_test_split(X,y,\n",
    "                                               test_size=0.25,\n",
    "                                               random_state=0)"
   ]
  },
  {
   "cell_type": "code",
   "execution_count": 128,
   "id": "dcc75433",
   "metadata": {},
   "outputs": [
    {
     "data": {
      "text/html": [
       "<div>\n",
       "<style scoped>\n",
       "    .dataframe tbody tr th:only-of-type {\n",
       "        vertical-align: middle;\n",
       "    }\n",
       "\n",
       "    .dataframe tbody tr th {\n",
       "        vertical-align: top;\n",
       "    }\n",
       "\n",
       "    .dataframe thead th {\n",
       "        text-align: right;\n",
       "    }\n",
       "</style>\n",
       "<table border=\"1\" class=\"dataframe\">\n",
       "  <thead>\n",
       "    <tr style=\"text-align: right;\">\n",
       "      <th></th>\n",
       "      <th>X1_Square</th>\n",
       "      <th>X2_Square</th>\n",
       "      <th>X1*X2</th>\n",
       "    </tr>\n",
       "  </thead>\n",
       "  <tbody>\n",
       "    <tr>\n",
       "      <th>50</th>\n",
       "      <td>99.997449</td>\n",
       "      <td>0.002551</td>\n",
       "      <td>0.505044</td>\n",
       "    </tr>\n",
       "    <tr>\n",
       "      <th>63</th>\n",
       "      <td>98.140496</td>\n",
       "      <td>1.859504</td>\n",
       "      <td>13.508984</td>\n",
       "    </tr>\n",
       "    <tr>\n",
       "      <th>112</th>\n",
       "      <td>85.651974</td>\n",
       "      <td>14.348026</td>\n",
       "      <td>-35.056194</td>\n",
       "    </tr>\n",
       "    <tr>\n",
       "      <th>159</th>\n",
       "      <td>99.079176</td>\n",
       "      <td>0.920824</td>\n",
       "      <td>9.551676</td>\n",
       "    </tr>\n",
       "    <tr>\n",
       "      <th>83</th>\n",
       "      <td>88.549638</td>\n",
       "      <td>11.450362</td>\n",
       "      <td>31.842196</td>\n",
       "    </tr>\n",
       "  </tbody>\n",
       "</table>\n",
       "</div>"
      ],
      "text/plain": [
       "     X1_Square  X2_Square      X1*X2\n",
       "50   99.997449   0.002551   0.505044\n",
       "63   98.140496   1.859504  13.508984\n",
       "112  85.651974  14.348026 -35.056194\n",
       "159  99.079176   0.920824   9.551676\n",
       "83   88.549638  11.450362  31.842196"
      ]
     },
     "execution_count": 128,
     "metadata": {},
     "output_type": "execute_result"
    }
   ],
   "source": [
    "X_train.head()"
   ]
  },
  {
   "cell_type": "code",
   "execution_count": 130,
   "id": "65207236",
   "metadata": {},
   "outputs": [
    {
     "data": {
      "application/vnd.plotly.v1+json": {
       "config": {
        "plotlyServerURL": "https://plot.ly"
       },
       "data": [
        {
         "hovertemplate": "X1_Square=%{x}<br>X2_Square=%{y}<br>X1*X2=%{z}<br>Y=%{marker.color}<extra></extra>",
         "legendgroup": "",
         "marker": {
          "color": [
           0,
           0,
           0,
           0,
           0,
           0,
           0,
           0,
           0,
           0,
           0,
           0,
           0,
           0,
           0,
           0,
           0,
           0,
           0,
           0,
           0,
           0,
           0,
           0,
           0,
           0,
           0,
           0,
           0,
           0,
           0,
           0,
           0,
           0,
           0,
           0,
           0,
           0,
           0,
           0,
           0,
           0,
           0,
           0,
           0,
           0,
           0,
           0,
           0,
           0,
           0,
           0,
           0,
           0,
           0,
           0,
           0,
           0,
           0,
           0,
           0,
           0,
           0,
           0,
           0,
           0,
           0,
           0,
           0,
           0,
           0,
           0,
           0,
           0,
           0,
           0,
           0,
           0,
           0,
           0,
           0,
           0,
           0,
           0,
           0,
           0,
           0,
           0,
           0,
           0,
           0,
           0,
           0,
           0,
           0,
           0,
           0,
           0,
           0,
           0,
           0,
           0,
           0,
           0,
           0,
           0,
           0,
           0,
           0,
           0,
           0,
           0,
           0,
           0,
           0,
           0,
           0,
           0,
           0,
           0,
           0,
           0,
           0,
           0,
           0,
           0,
           0,
           0,
           0,
           0,
           0,
           0,
           0,
           0,
           0,
           0,
           0,
           0,
           0,
           0,
           0,
           0,
           0,
           0,
           0,
           0,
           0,
           0,
           0,
           0,
           0,
           0,
           0,
           0,
           0,
           0,
           0,
           0,
           0,
           0,
           0,
           0,
           0,
           0,
           0,
           0,
           0,
           0,
           0,
           0,
           0,
           0,
           0,
           0,
           0,
           0,
           0,
           0,
           0,
           0,
           0,
           0,
           0,
           0,
           0,
           0,
           0,
           0,
           0,
           0,
           0,
           0,
           0,
           0,
           0,
           0,
           0,
           0,
           0,
           0,
           1,
           1,
           1,
           1,
           1,
           1,
           1,
           1,
           1,
           1,
           1,
           1,
           1,
           1,
           1,
           1,
           1,
           1,
           1,
           1,
           1,
           1,
           1,
           1,
           1,
           1,
           1,
           1,
           1,
           1,
           1,
           1,
           1,
           1,
           1,
           1,
           1,
           1,
           1,
           1,
           1,
           1,
           1,
           1,
           1,
           1,
           1,
           1,
           1,
           1,
           1,
           1,
           1,
           1,
           1,
           1,
           1,
           1,
           1,
           1,
           1,
           1,
           1,
           1,
           1,
           1,
           1,
           1,
           1,
           1,
           1,
           1,
           1,
           1,
           1,
           1,
           1,
           1,
           1,
           1,
           1,
           1,
           1,
           1,
           1,
           1,
           1,
           1,
           1,
           1,
           1,
           1,
           1,
           1,
           1,
           1,
           1,
           1,
           1,
           1,
           1,
           1,
           1,
           1,
           1,
           1,
           1,
           1,
           1,
           1,
           1,
           1,
           1,
           1,
           1,
           1,
           1,
           1,
           1,
           1,
           1,
           1,
           1,
           1,
           1,
           1,
           1,
           1,
           1,
           1,
           1,
           1,
           1,
           1,
           1,
           1,
           1,
           1,
           1,
           1,
           1,
           1,
           1,
           1,
           1,
           1,
           1,
           1,
           1,
           1,
           1,
           1,
           1,
           1,
           1,
           1,
           1,
           1,
           1,
           1,
           1,
           1,
           1,
           1,
           1,
           1,
           1,
           1,
           1,
           1,
           1,
           1,
           1,
           1,
           1,
           1,
           1,
           1,
           1,
           1,
           1,
           1,
           1,
           1,
           1,
           1,
           1,
           1,
           1,
           1,
           1,
           1,
           1,
           1,
           1,
           1,
           1,
           1,
           1,
           1
          ],
          "coloraxis": "coloraxis",
          "symbol": "circle"
         },
         "mode": "markers",
         "name": "",
         "scene": "scene",
         "showlegend": false,
         "type": "scatter3d",
         "x": [
          75.00000000000001,
          75.99989796959494,
          76.97938985817774,
          77.93847566574841,
          78.87715539230689,
          79.79542903785328,
          80.69329660238752,
          81.57075808590962,
          82.42781348841956,
          83.26446280991735,
          84.08070605040302,
          84.87654320987653,
          85.65197428833793,
          86.40699928578718,
          87.14161820222425,
          87.85583103764922,
          88.54963779206203,
          89.2230384654627,
          89.87603305785123,
          90.50862156922764,
          91.12080399959189,
          91.71258034894397,
          92.28395061728395,
          92.83491480461178,
          93.36547291092745,
          93.87562493623098,
          94.36537088052238,
          94.83471074380165,
          95.28364452606877,
          95.71217222732375,
          96.12029384756657,
          96.50800938679727,
          96.87531884501581,
          97.22222222222224,
          97.54871951841648,
          97.8548107335986,
          98.14049586776859,
          98.40577492092645,
          98.65064789307212,
          98.87511478420569,
          99.0791755943271,
          99.2628303234364,
          99.42607897153351,
          99.5689215386185,
          99.69135802469137,
          99.79338842975206,
          99.87501275380063,
          99.93623099683704,
          99.97704315886133,
          99.99744923987349,
          99.99744923987349,
          99.97704315886133,
          99.93623099683704,
          99.87501275380063,
          99.79338842975206,
          99.69135802469137,
          99.5689215386185,
          99.42607897153351,
          99.2628303234364,
          99.0791755943271,
          98.87511478420569,
          98.65064789307212,
          98.40577492092645,
          98.14049586776859,
          97.8548107335986,
          97.54871951841648,
          97.22222222222224,
          96.87531884501581,
          96.50800938679727,
          96.12029384756657,
          95.71217222732375,
          95.28364452606877,
          94.83471074380165,
          94.36537088052238,
          93.87562493623098,
          93.36547291092748,
          92.83491480461178,
          92.28395061728395,
          91.71258034894397,
          91.12080399959189,
          90.50862156922764,
          89.87603305785123,
          89.2230384654627,
          88.54963779206203,
          87.85583103764922,
          87.14161820222425,
          86.40699928578718,
          85.65197428833793,
          84.87654320987653,
          84.08070605040302,
          83.26446280991735,
          82.42781348841956,
          81.57075808590962,
          80.69329660238752,
          79.79542903785328,
          78.87715539230693,
          77.93847566574841,
          76.97938985817774,
          75.99989796959494,
          75.00000000000001,
          75.00000000000001,
          75.99989796959494,
          76.97938985817774,
          77.93847566574841,
          78.87715539230689,
          79.79542903785328,
          80.69329660238752,
          81.57075808590962,
          82.42781348841956,
          83.26446280991735,
          84.08070605040302,
          84.87654320987653,
          85.65197428833793,
          86.40699928578718,
          87.14161820222425,
          87.85583103764922,
          88.54963779206203,
          89.2230384654627,
          89.87603305785123,
          90.50862156922764,
          91.12080399959189,
          91.71258034894397,
          92.28395061728395,
          92.83491480461178,
          93.36547291092745,
          93.87562493623098,
          94.36537088052238,
          94.83471074380165,
          95.28364452606877,
          95.71217222732375,
          96.12029384756657,
          96.50800938679727,
          96.87531884501581,
          97.22222222222224,
          97.54871951841648,
          97.8548107335986,
          98.14049586776859,
          98.40577492092645,
          98.65064789307212,
          98.87511478420569,
          99.0791755943271,
          99.2628303234364,
          99.42607897153351,
          99.5689215386185,
          99.69135802469137,
          99.79338842975206,
          99.87501275380063,
          99.93623099683704,
          99.97704315886133,
          99.99744923987349,
          99.99744923987349,
          99.97704315886133,
          99.93623099683704,
          99.87501275380063,
          99.79338842975206,
          99.69135802469137,
          99.5689215386185,
          99.42607897153351,
          99.2628303234364,
          99.0791755943271,
          98.87511478420569,
          98.65064789307212,
          98.40577492092645,
          98.14049586776859,
          97.8548107335986,
          97.54871951841648,
          97.22222222222224,
          96.87531884501581,
          96.50800938679727,
          96.12029384756657,
          95.71217222732375,
          95.28364452606877,
          94.83471074380165,
          94.36537088052238,
          93.87562493623098,
          93.36547291092748,
          92.83491480461178,
          92.28395061728395,
          91.71258034894397,
          91.12080399959189,
          90.50862156922764,
          89.87603305785123,
          89.2230384654627,
          88.54963779206203,
          87.85583103764922,
          87.14161820222425,
          86.40699928578718,
          85.65197428833793,
          84.87654320987653,
          84.08070605040302,
          83.26446280991735,
          82.42781348841956,
          81.57075808590962,
          80.69329660238752,
          79.79542903785328,
          78.87715539230693,
          77.93847566574841,
          76.97938985817774,
          75.99989796959494,
          75.00000000000001,
          75.00000000000001,
          75.99989796959494,
          76.97938985817774,
          77.93847566574841,
          78.87715539230689,
          79.79542903785328,
          80.69329660238752,
          81.57075808590962,
          82.42781348841956,
          83.26446280991735,
          84.08070605040302,
          84.87654320987653,
          85.65197428833793,
          86.40699928578718,
          87.14161820222425,
          87.85583103764922,
          88.54963779206203,
          89.2230384654627,
          89.87603305785123,
          90.50862156922764,
          91.12080399959189,
          91.71258034894397,
          92.28395061728395,
          92.83491480461178,
          93.36547291092745,
          93.87562493623098,
          94.36537088052238,
          94.83471074380165,
          95.28364452606877,
          95.71217222732375,
          96.12029384756657,
          96.50800938679727,
          96.87531884501581,
          97.22222222222224,
          97.54871951841648,
          97.8548107335986,
          98.14049586776859,
          98.40577492092645,
          98.65064789307212,
          98.87511478420569,
          99.0791755943271,
          99.2628303234364,
          99.42607897153351,
          99.5689215386185,
          99.69135802469137,
          99.79338842975206,
          99.87501275380063,
          99.93623099683704,
          99.97704315886133,
          99.99744923987349,
          99.99744923987349,
          99.97704315886133,
          99.93623099683704,
          99.87501275380063,
          99.79338842975206,
          99.69135802469137,
          99.5689215386185,
          99.42607897153351,
          99.2628303234364,
          99.0791755943271,
          98.87511478420569,
          98.65064789307212,
          98.40577492092645,
          98.14049586776859,
          97.8548107335986,
          97.54871951841648,
          97.22222222222224,
          96.87531884501581,
          96.50800938679727,
          96.12029384756657,
          95.71217222732375,
          95.28364452606877,
          94.83471074380165,
          94.36537088052238,
          93.87562493623098,
          93.36547291092748,
          92.83491480461178,
          92.28395061728395,
          91.71258034894397,
          91.12080399959189,
          90.50862156922764,
          89.87603305785123,
          89.2230384654627,
          88.54963779206203,
          87.85583103764922,
          87.14161820222425,
          86.40699928578718,
          85.65197428833793,
          84.87654320987653,
          84.08070605040302,
          83.26446280991735,
          82.42781348841956,
          81.57075808590962,
          80.69329660238752,
          79.79542903785328,
          78.87715539230693,
          77.93847566574841,
          76.97938985817774,
          75.99989796959494,
          75.00000000000001,
          75.00000000000001,
          75.99989796959494,
          76.97938985817774,
          77.93847566574841,
          78.87715539230689,
          79.79542903785328,
          80.69329660238752,
          81.57075808590962,
          82.42781348841956,
          83.26446280991735,
          84.08070605040302,
          84.87654320987653,
          85.65197428833793,
          86.40699928578718,
          87.14161820222425,
          87.85583103764922,
          88.54963779206203,
          89.2230384654627,
          89.87603305785123,
          90.50862156922764,
          91.12080399959189,
          91.71258034894397,
          92.28395061728395,
          92.83491480461178,
          93.36547291092745,
          93.87562493623098,
          94.36537088052238,
          94.83471074380165,
          95.28364452606877,
          95.71217222732375,
          96.12029384756657,
          96.50800938679727,
          96.87531884501581,
          97.22222222222224,
          97.54871951841648,
          97.8548107335986,
          98.14049586776859,
          98.40577492092645,
          98.65064789307212,
          98.87511478420569,
          99.0791755943271,
          99.2628303234364,
          99.42607897153351,
          99.5689215386185,
          99.69135802469137,
          99.79338842975206,
          99.87501275380063,
          99.93623099683704,
          99.97704315886133,
          99.99744923987349,
          99.99744923987349,
          99.97704315886133,
          99.93623099683704,
          99.87501275380063,
          99.79338842975206,
          99.69135802469137,
          99.5689215386185,
          99.42607897153351,
          99.2628303234364,
          99.0791755943271,
          98.87511478420569,
          98.65064789307212,
          98.40577492092645,
          98.14049586776859,
          97.8548107335986,
          97.54871951841648,
          97.22222222222224,
          96.87531884501581,
          96.50800938679727,
          96.12029384756657,
          95.71217222732375,
          95.28364452606877,
          94.83471074380165,
          94.36537088052238,
          93.87562493623098,
          93.36547291092748,
          92.83491480461178,
          92.28395061728395,
          91.71258034894397,
          91.12080399959189,
          90.50862156922764,
          89.87603305785123,
          89.2230384654627,
          88.54963779206203,
          87.85583103764922,
          87.14161820222425,
          86.40699928578718,
          85.65197428833793,
          84.87654320987653,
          84.08070605040302,
          83.26446280991735,
          82.42781348841956,
          81.57075808590962,
          80.69329660238752,
          79.79542903785328,
          78.87715539230693,
          77.93847566574841,
          76.97938985817774,
          75.99989796959494,
          75.00000000000001
         ],
         "y": [
          25,
          24.00010203040506,
          23.02061014182226,
          22.061524334251608,
          21.122844607693093,
          20.204570962146718,
          19.306703397612484,
          18.4292419140904,
          17.57218651158045,
          16.735537190082646,
          15.919293949596977,
          15.123456790123456,
          14.348025711662077,
          13.593000714212835,
          12.858381797775735,
          12.144168962350781,
          11.450362207937967,
          10.776961534537293,
          10.12396694214876,
          9.49137843077237,
          8.87919600040812,
          8.287419651056016,
          7.716049382716049,
          7.165085195388227,
          6.634527089072543,
          6.124375063769004,
          5.634629119477604,
          5.165289256198348,
          4.716355473931231,
          4.287827772676258,
          3.879706152433425,
          3.491990613202735,
          3.1246811549841853,
          2.7777777777777772,
          2.4512804815835123,
          2.1451892664013874,
          1.8595041322314052,
          1.5942250790735637,
          1.349352106927865,
          1.1248852157943066,
          0.92082440567289,
          0.7371696765636166,
          0.5739210284664833,
          0.4310784613814917,
          0.30864197530864174,
          0.20661157024793433,
          0.1249872461993676,
          0.0637690031629426,
          0.02295684113865928,
          0.002550760126517668,
          0.002550760126517668,
          0.02295684113865928,
          0.0637690031629426,
          0.1249872461993676,
          0.20661157024793353,
          0.30864197530864174,
          0.4310784613814917,
          0.5739210284664833,
          0.7371696765636152,
          0.92082440567289,
          1.1248852157943066,
          1.349352106927865,
          1.5942250790735626,
          1.859504132231404,
          2.1451892664013874,
          2.4512804815835123,
          2.7777777777777786,
          3.124681154984184,
          3.491990613202734,
          3.879706152433425,
          4.287827772676258,
          4.7163554739312294,
          5.165289256198346,
          5.634629119477604,
          6.124375063769004,
          6.634527089072541,
          7.165085195388224,
          7.716049382716049,
          8.287419651056016,
          8.879196000408118,
          9.491378430772373,
          10.12396694214876,
          10.776961534537287,
          11.450362207937967,
          12.144168962350777,
          12.858381797775742,
          13.593000714212835,
          14.34802571166207,
          15.12345679012346,
          15.919293949596977,
          16.73553719008264,
          17.57218651158045,
          18.429241914090394,
          19.306703397612495,
          20.204570962146718,
          21.122844607693086,
          22.061524334251608,
          23.02061014182226,
          24.000102030405067,
          25,
          25,
          24.00010203040506,
          23.02061014182226,
          22.061524334251608,
          21.122844607693093,
          20.204570962146718,
          19.306703397612484,
          18.4292419140904,
          17.57218651158045,
          16.735537190082646,
          15.919293949596977,
          15.123456790123456,
          14.348025711662077,
          13.593000714212835,
          12.858381797775735,
          12.144168962350781,
          11.450362207937967,
          10.776961534537293,
          10.12396694214876,
          9.49137843077237,
          8.87919600040812,
          8.287419651056016,
          7.716049382716049,
          7.165085195388227,
          6.634527089072543,
          6.124375063769004,
          5.634629119477604,
          5.165289256198348,
          4.716355473931231,
          4.287827772676258,
          3.879706152433425,
          3.491990613202735,
          3.1246811549841853,
          2.7777777777777772,
          2.4512804815835123,
          2.1451892664013874,
          1.8595041322314052,
          1.5942250790735637,
          1.349352106927865,
          1.1248852157943066,
          0.92082440567289,
          0.7371696765636166,
          0.5739210284664833,
          0.4310784613814917,
          0.30864197530864174,
          0.20661157024793433,
          0.1249872461993676,
          0.0637690031629426,
          0.02295684113865928,
          0.002550760126517668,
          0.002550760126517668,
          0.02295684113865928,
          0.0637690031629426,
          0.1249872461993676,
          0.20661157024793353,
          0.30864197530864174,
          0.4310784613814917,
          0.5739210284664833,
          0.7371696765636152,
          0.92082440567289,
          1.1248852157943066,
          1.349352106927865,
          1.5942250790735626,
          1.859504132231404,
          2.1451892664013874,
          2.4512804815835123,
          2.7777777777777786,
          3.124681154984184,
          3.491990613202734,
          3.879706152433425,
          4.287827772676258,
          4.7163554739312294,
          5.165289256198346,
          5.634629119477604,
          6.124375063769004,
          6.634527089072541,
          7.165085195388224,
          7.716049382716049,
          8.287419651056016,
          8.879196000408118,
          9.491378430772373,
          10.12396694214876,
          10.776961534537287,
          11.450362207937967,
          12.144168962350777,
          12.858381797775742,
          13.593000714212835,
          14.34802571166207,
          15.12345679012346,
          15.919293949596977,
          16.73553719008264,
          17.57218651158045,
          18.429241914090394,
          19.306703397612495,
          20.204570962146718,
          21.122844607693086,
          22.061524334251608,
          23.02061014182226,
          24.000102030405067,
          25,
          25,
          24.00010203040506,
          23.02061014182226,
          22.061524334251608,
          21.122844607693093,
          20.204570962146718,
          19.306703397612484,
          18.4292419140904,
          17.57218651158045,
          16.735537190082646,
          15.919293949596977,
          15.123456790123456,
          14.348025711662077,
          13.593000714212835,
          12.858381797775735,
          12.144168962350781,
          11.450362207937967,
          10.776961534537293,
          10.12396694214876,
          9.49137843077237,
          8.87919600040812,
          8.287419651056016,
          7.716049382716049,
          7.165085195388227,
          6.634527089072543,
          6.124375063769004,
          5.634629119477604,
          5.165289256198348,
          4.716355473931231,
          4.287827772676258,
          3.879706152433425,
          3.491990613202735,
          3.1246811549841853,
          2.7777777777777772,
          2.4512804815835123,
          2.1451892664013874,
          1.8595041322314052,
          1.5942250790735637,
          1.349352106927865,
          1.1248852157943066,
          0.92082440567289,
          0.7371696765636166,
          0.5739210284664833,
          0.4310784613814917,
          0.30864197530864174,
          0.20661157024793433,
          0.1249872461993676,
          0.0637690031629426,
          0.02295684113865928,
          0.002550760126517668,
          0.002550760126517668,
          0.02295684113865928,
          0.0637690031629426,
          0.1249872461993676,
          0.20661157024793353,
          0.30864197530864174,
          0.4310784613814917,
          0.5739210284664833,
          0.7371696765636152,
          0.92082440567289,
          1.1248852157943066,
          1.349352106927865,
          1.5942250790735626,
          1.859504132231404,
          2.1451892664013874,
          2.4512804815835123,
          2.7777777777777786,
          3.124681154984184,
          3.491990613202734,
          3.879706152433425,
          4.287827772676258,
          4.7163554739312294,
          5.165289256198346,
          5.634629119477604,
          6.124375063769004,
          6.634527089072541,
          7.165085195388224,
          7.716049382716049,
          8.287419651056016,
          8.879196000408118,
          9.491378430772373,
          10.12396694214876,
          10.776961534537287,
          11.450362207937967,
          12.144168962350777,
          12.858381797775742,
          13.593000714212835,
          14.34802571166207,
          15.12345679012346,
          15.919293949596977,
          16.73553719008264,
          17.57218651158045,
          18.429241914090394,
          19.306703397612495,
          20.204570962146718,
          21.122844607693086,
          22.061524334251608,
          23.02061014182226,
          24.000102030405067,
          25,
          25,
          24.00010203040506,
          23.02061014182226,
          22.061524334251608,
          21.122844607693093,
          20.204570962146718,
          19.306703397612484,
          18.4292419140904,
          17.57218651158045,
          16.735537190082646,
          15.919293949596977,
          15.123456790123456,
          14.348025711662077,
          13.593000714212835,
          12.858381797775735,
          12.144168962350781,
          11.450362207937967,
          10.776961534537293,
          10.12396694214876,
          9.49137843077237,
          8.87919600040812,
          8.287419651056016,
          7.716049382716049,
          7.165085195388227,
          6.634527089072543,
          6.124375063769004,
          5.634629119477604,
          5.165289256198348,
          4.716355473931231,
          4.287827772676258,
          3.879706152433425,
          3.491990613202735,
          3.1246811549841853,
          2.7777777777777772,
          2.4512804815835123,
          2.1451892664013874,
          1.8595041322314052,
          1.5942250790735637,
          1.349352106927865,
          1.1248852157943066,
          0.92082440567289,
          0.7371696765636166,
          0.5739210284664833,
          0.4310784613814917,
          0.30864197530864174,
          0.20661157024793433,
          0.1249872461993676,
          0.0637690031629426,
          0.02295684113865928,
          0.002550760126517668,
          0.002550760126517668,
          0.02295684113865928,
          0.0637690031629426,
          0.1249872461993676,
          0.20661157024793353,
          0.30864197530864174,
          0.4310784613814917,
          0.5739210284664833,
          0.7371696765636152,
          0.92082440567289,
          1.1248852157943066,
          1.349352106927865,
          1.5942250790735626,
          1.859504132231404,
          2.1451892664013874,
          2.4512804815835123,
          2.7777777777777786,
          3.124681154984184,
          3.491990613202734,
          3.879706152433425,
          4.287827772676258,
          4.7163554739312294,
          5.165289256198346,
          5.634629119477604,
          6.124375063769004,
          6.634527089072541,
          7.165085195388224,
          7.716049382716049,
          8.287419651056016,
          8.879196000408118,
          9.491378430772373,
          10.12396694214876,
          10.776961534537287,
          11.450362207937967,
          12.144168962350777,
          12.858381797775742,
          13.593000714212835,
          14.34802571166207,
          15.12345679012346,
          15.919293949596977,
          16.73553719008264,
          17.57218651158045,
          18.429241914090394,
          19.306703397612495,
          20.204570962146718,
          21.122844607693086,
          22.061524334251608,
          23.02061014182226,
          24.000102030405067,
          25
         ],
         "z": [
          -43.30127018922194,
          -42.708375122107526,
          -42.09646686932831,
          -41.466149778757924,
          -40.81800946210581,
          -40.15261396783838,
          -39.47051486461593,
          -38.77224824382736,
          -38.05833564884669,
          -37.329284937802186,
          -36.585591085918274,
          -35.827736932851536,
          -35.056193879879366,
          -34.271422541305355,
          -33.47387335400854,
          -32.66398714867727,
          -31.84219568592629,
          -31.00892216019178,
          -30.164581674028813,
          -29.309581685194797,
          -28.444322428687745,
          -27.569197315716178,
          -26.68459331140522,
          -25.79089129288965,
          -24.88846638930605,
          -23.97768830507196,
          -23.058921627727855,
          -22.1325261215171,
          -21.198857007787993,
          -20.258265233220044,
          -19.311097726802398,
          -18.35769764642553,
          -17.39840461588663,
          -16.43355495305449,
          -15.463481889890094,
          -14.48851578497449,
          -13.50898432915498,
          -12.525212744884188,
          -11.537523979793749,
          -10.546238895014566,
          -9.5516764487291,
          -8.554153875417297,
          -7.55398686123641,
          -6.551489715956374,
          -5.546975541855377,
          -4.540756399966102,
          -3.533143474050305,
          -2.5244472326689387,
          -1.5149775897058222,
          -0.5050440636959747,
          0.5050440636959747,
          1.5149775897058222,
          2.5244472326689387,
          3.533143474050305,
          4.540756399966093,
          5.546975541855377,
          6.551489715956374,
          7.55398686123641,
          8.554153875417288,
          9.5516764487291,
          10.546238895014566,
          11.537523979793749,
          12.525212744884183,
          13.508984329154977,
          14.48851578497449,
          15.463481889890094,
          16.433554953054493,
          17.398404615886626,
          18.357697646425528,
          19.311097726802398,
          20.258265233220044,
          21.198857007787986,
          22.132526121517095,
          23.058921627727855,
          23.97768830507196,
          24.88846638930605,
          25.790891292889647,
          26.68459331140522,
          27.569197315716178,
          28.444322428687737,
          29.3095816851948,
          30.164581674028813,
          31.00892216019177,
          31.84219568592629,
          32.66398714867727,
          33.47387335400855,
          34.271422541305355,
          35.05619387987936,
          35.82773693285154,
          36.585591085918274,
          37.32928493780218,
          38.05833564884669,
          38.772248243827356,
          39.470514864615936,
          40.15261396783838,
          40.81800946210581,
          41.466149778757924,
          42.09646686932831,
          42.70837512210753,
          43.30127018922194,
          -43.30127018922194,
          -42.708375122107526,
          -42.09646686932831,
          -41.466149778757924,
          -40.81800946210581,
          -40.15261396783838,
          -39.47051486461593,
          -38.77224824382736,
          -38.05833564884669,
          -37.329284937802186,
          -36.585591085918274,
          -35.827736932851536,
          -35.056193879879366,
          -34.271422541305355,
          -33.47387335400854,
          -32.66398714867727,
          -31.84219568592629,
          -31.00892216019178,
          -30.164581674028813,
          -29.309581685194797,
          -28.444322428687745,
          -27.569197315716178,
          -26.68459331140522,
          -25.79089129288965,
          -24.88846638930605,
          -23.97768830507196,
          -23.058921627727855,
          -22.1325261215171,
          -21.198857007787993,
          -20.258265233220044,
          -19.311097726802398,
          -18.35769764642553,
          -17.39840461588663,
          -16.43355495305449,
          -15.463481889890094,
          -14.48851578497449,
          -13.50898432915498,
          -12.525212744884188,
          -11.537523979793749,
          -10.546238895014566,
          -9.5516764487291,
          -8.554153875417297,
          -7.55398686123641,
          -6.551489715956374,
          -5.546975541855377,
          -4.540756399966102,
          -3.533143474050305,
          -2.5244472326689387,
          -1.5149775897058222,
          -0.5050440636959747,
          0.5050440636959747,
          1.5149775897058222,
          2.5244472326689387,
          3.533143474050305,
          4.540756399966093,
          5.546975541855377,
          6.551489715956374,
          7.55398686123641,
          8.554153875417288,
          9.5516764487291,
          10.546238895014566,
          11.537523979793749,
          12.525212744884183,
          13.508984329154977,
          14.48851578497449,
          15.463481889890094,
          16.433554953054493,
          17.398404615886626,
          18.357697646425528,
          19.311097726802398,
          20.258265233220044,
          21.198857007787986,
          22.132526121517095,
          23.058921627727855,
          23.97768830507196,
          24.88846638930605,
          25.790891292889647,
          26.68459331140522,
          27.569197315716178,
          28.444322428687737,
          29.3095816851948,
          30.164581674028813,
          31.00892216019177,
          31.84219568592629,
          32.66398714867727,
          33.47387335400855,
          34.271422541305355,
          35.05619387987936,
          35.82773693285154,
          36.585591085918274,
          37.32928493780218,
          38.05833564884669,
          38.772248243827356,
          39.470514864615936,
          40.15261396783838,
          40.81800946210581,
          41.466149778757924,
          42.09646686932831,
          42.70837512210753,
          43.30127018922194,
          -43.30127018922194,
          -42.708375122107526,
          -42.09646686932831,
          -41.466149778757924,
          -40.81800946210581,
          -40.15261396783838,
          -39.47051486461593,
          -38.77224824382736,
          -38.05833564884669,
          -37.329284937802186,
          -36.585591085918274,
          -35.827736932851536,
          -35.056193879879366,
          -34.271422541305355,
          -33.47387335400854,
          -32.66398714867727,
          -31.84219568592629,
          -31.00892216019178,
          -30.164581674028813,
          -29.309581685194797,
          -28.444322428687745,
          -27.569197315716178,
          -26.68459331140522,
          -25.79089129288965,
          -24.88846638930605,
          -23.97768830507196,
          -23.058921627727855,
          -22.1325261215171,
          -21.198857007787993,
          -20.258265233220044,
          -19.311097726802398,
          -18.35769764642553,
          -17.39840461588663,
          -16.43355495305449,
          -15.463481889890094,
          -14.48851578497449,
          -13.50898432915498,
          -12.525212744884188,
          -11.537523979793749,
          -10.546238895014566,
          -9.5516764487291,
          -8.554153875417297,
          -7.55398686123641,
          -6.551489715956374,
          -5.546975541855377,
          -4.540756399966102,
          -3.533143474050305,
          -2.5244472326689387,
          -1.5149775897058222,
          -0.5050440636959747,
          0.5050440636959747,
          1.5149775897058222,
          2.5244472326689387,
          3.533143474050305,
          4.540756399966093,
          5.546975541855377,
          6.551489715956374,
          7.55398686123641,
          8.554153875417288,
          9.5516764487291,
          10.546238895014566,
          11.537523979793749,
          12.525212744884183,
          13.508984329154977,
          14.48851578497449,
          15.463481889890094,
          16.433554953054493,
          17.398404615886626,
          18.357697646425528,
          19.311097726802398,
          20.258265233220044,
          21.198857007787986,
          22.132526121517095,
          23.058921627727855,
          23.97768830507196,
          24.88846638930605,
          25.790891292889647,
          26.68459331140522,
          27.569197315716178,
          28.444322428687737,
          29.3095816851948,
          30.164581674028813,
          31.00892216019177,
          31.84219568592629,
          32.66398714867727,
          33.47387335400855,
          34.271422541305355,
          35.05619387987936,
          35.82773693285154,
          36.585591085918274,
          37.32928493780218,
          38.05833564884669,
          38.772248243827356,
          39.470514864615936,
          40.15261396783838,
          40.81800946210581,
          41.466149778757924,
          42.09646686932831,
          42.70837512210753,
          43.30127018922194,
          -43.30127018922194,
          -42.708375122107526,
          -42.09646686932831,
          -41.466149778757924,
          -40.81800946210581,
          -40.15261396783838,
          -39.47051486461593,
          -38.77224824382736,
          -38.05833564884669,
          -37.329284937802186,
          -36.585591085918274,
          -35.827736932851536,
          -35.056193879879366,
          -34.271422541305355,
          -33.47387335400854,
          -32.66398714867727,
          -31.84219568592629,
          -31.00892216019178,
          -30.164581674028813,
          -29.309581685194797,
          -28.444322428687745,
          -27.569197315716178,
          -26.68459331140522,
          -25.79089129288965,
          -24.88846638930605,
          -23.97768830507196,
          -23.058921627727855,
          -22.1325261215171,
          -21.198857007787993,
          -20.258265233220044,
          -19.311097726802398,
          -18.35769764642553,
          -17.39840461588663,
          -16.43355495305449,
          -15.463481889890094,
          -14.48851578497449,
          -13.50898432915498,
          -12.525212744884188,
          -11.537523979793749,
          -10.546238895014566,
          -9.5516764487291,
          -8.554153875417297,
          -7.55398686123641,
          -6.551489715956374,
          -5.546975541855377,
          -4.540756399966102,
          -3.533143474050305,
          -2.5244472326689387,
          -1.5149775897058222,
          -0.5050440636959747,
          0.5050440636959747,
          1.5149775897058222,
          2.5244472326689387,
          3.533143474050305,
          4.540756399966093,
          5.546975541855377,
          6.551489715956374,
          7.55398686123641,
          8.554153875417288,
          9.5516764487291,
          10.546238895014566,
          11.537523979793749,
          12.525212744884183,
          13.508984329154977,
          14.48851578497449,
          15.463481889890094,
          16.433554953054493,
          17.398404615886626,
          18.357697646425528,
          19.311097726802398,
          20.258265233220044,
          21.198857007787986,
          22.132526121517095,
          23.058921627727855,
          23.97768830507196,
          24.88846638930605,
          25.790891292889647,
          26.68459331140522,
          27.569197315716178,
          28.444322428687737,
          29.3095816851948,
          30.164581674028813,
          31.00892216019177,
          31.84219568592629,
          32.66398714867727,
          33.47387335400855,
          34.271422541305355,
          35.05619387987936,
          35.82773693285154,
          36.585591085918274,
          37.32928493780218,
          38.05833564884669,
          38.772248243827356,
          39.470514864615936,
          40.15261396783838,
          40.81800946210581,
          41.466149778757924,
          42.09646686932831,
          42.70837512210753,
          43.30127018922194
         ]
        }
       ],
       "layout": {
        "coloraxis": {
         "colorbar": {
          "title": {
           "text": "Y"
          }
         },
         "colorscale": [
          [
           0,
           "#0d0887"
          ],
          [
           0.1111111111111111,
           "#46039f"
          ],
          [
           0.2222222222222222,
           "#7201a8"
          ],
          [
           0.3333333333333333,
           "#9c179e"
          ],
          [
           0.4444444444444444,
           "#bd3786"
          ],
          [
           0.5555555555555556,
           "#d8576b"
          ],
          [
           0.6666666666666666,
           "#ed7953"
          ],
          [
           0.7777777777777778,
           "#fb9f3a"
          ],
          [
           0.8888888888888888,
           "#fdca26"
          ],
          [
           1,
           "#f0f921"
          ]
         ]
        },
        "legend": {
         "tracegroupgap": 0
        },
        "margin": {
         "t": 60
        },
        "scene": {
         "domain": {
          "x": [
           0,
           1
          ],
          "y": [
           0,
           1
          ]
         },
         "xaxis": {
          "title": {
           "text": "X1_Square"
          }
         },
         "yaxis": {
          "title": {
           "text": "X2_Square"
          }
         },
         "zaxis": {
          "title": {
           "text": "X1*X2"
          }
         }
        },
        "template": {
         "data": {
          "bar": [
           {
            "error_x": {
             "color": "#2a3f5f"
            },
            "error_y": {
             "color": "#2a3f5f"
            },
            "marker": {
             "line": {
              "color": "#E5ECF6",
              "width": 0.5
             },
             "pattern": {
              "fillmode": "overlay",
              "size": 10,
              "solidity": 0.2
             }
            },
            "type": "bar"
           }
          ],
          "barpolar": [
           {
            "marker": {
             "line": {
              "color": "#E5ECF6",
              "width": 0.5
             },
             "pattern": {
              "fillmode": "overlay",
              "size": 10,
              "solidity": 0.2
             }
            },
            "type": "barpolar"
           }
          ],
          "carpet": [
           {
            "aaxis": {
             "endlinecolor": "#2a3f5f",
             "gridcolor": "white",
             "linecolor": "white",
             "minorgridcolor": "white",
             "startlinecolor": "#2a3f5f"
            },
            "baxis": {
             "endlinecolor": "#2a3f5f",
             "gridcolor": "white",
             "linecolor": "white",
             "minorgridcolor": "white",
             "startlinecolor": "#2a3f5f"
            },
            "type": "carpet"
           }
          ],
          "choropleth": [
           {
            "colorbar": {
             "outlinewidth": 0,
             "ticks": ""
            },
            "type": "choropleth"
           }
          ],
          "contour": [
           {
            "colorbar": {
             "outlinewidth": 0,
             "ticks": ""
            },
            "colorscale": [
             [
              0,
              "#0d0887"
             ],
             [
              0.1111111111111111,
              "#46039f"
             ],
             [
              0.2222222222222222,
              "#7201a8"
             ],
             [
              0.3333333333333333,
              "#9c179e"
             ],
             [
              0.4444444444444444,
              "#bd3786"
             ],
             [
              0.5555555555555556,
              "#d8576b"
             ],
             [
              0.6666666666666666,
              "#ed7953"
             ],
             [
              0.7777777777777778,
              "#fb9f3a"
             ],
             [
              0.8888888888888888,
              "#fdca26"
             ],
             [
              1,
              "#f0f921"
             ]
            ],
            "type": "contour"
           }
          ],
          "contourcarpet": [
           {
            "colorbar": {
             "outlinewidth": 0,
             "ticks": ""
            },
            "type": "contourcarpet"
           }
          ],
          "heatmap": [
           {
            "colorbar": {
             "outlinewidth": 0,
             "ticks": ""
            },
            "colorscale": [
             [
              0,
              "#0d0887"
             ],
             [
              0.1111111111111111,
              "#46039f"
             ],
             [
              0.2222222222222222,
              "#7201a8"
             ],
             [
              0.3333333333333333,
              "#9c179e"
             ],
             [
              0.4444444444444444,
              "#bd3786"
             ],
             [
              0.5555555555555556,
              "#d8576b"
             ],
             [
              0.6666666666666666,
              "#ed7953"
             ],
             [
              0.7777777777777778,
              "#fb9f3a"
             ],
             [
              0.8888888888888888,
              "#fdca26"
             ],
             [
              1,
              "#f0f921"
             ]
            ],
            "type": "heatmap"
           }
          ],
          "heatmapgl": [
           {
            "colorbar": {
             "outlinewidth": 0,
             "ticks": ""
            },
            "colorscale": [
             [
              0,
              "#0d0887"
             ],
             [
              0.1111111111111111,
              "#46039f"
             ],
             [
              0.2222222222222222,
              "#7201a8"
             ],
             [
              0.3333333333333333,
              "#9c179e"
             ],
             [
              0.4444444444444444,
              "#bd3786"
             ],
             [
              0.5555555555555556,
              "#d8576b"
             ],
             [
              0.6666666666666666,
              "#ed7953"
             ],
             [
              0.7777777777777778,
              "#fb9f3a"
             ],
             [
              0.8888888888888888,
              "#fdca26"
             ],
             [
              1,
              "#f0f921"
             ]
            ],
            "type": "heatmapgl"
           }
          ],
          "histogram": [
           {
            "marker": {
             "pattern": {
              "fillmode": "overlay",
              "size": 10,
              "solidity": 0.2
             }
            },
            "type": "histogram"
           }
          ],
          "histogram2d": [
           {
            "colorbar": {
             "outlinewidth": 0,
             "ticks": ""
            },
            "colorscale": [
             [
              0,
              "#0d0887"
             ],
             [
              0.1111111111111111,
              "#46039f"
             ],
             [
              0.2222222222222222,
              "#7201a8"
             ],
             [
              0.3333333333333333,
              "#9c179e"
             ],
             [
              0.4444444444444444,
              "#bd3786"
             ],
             [
              0.5555555555555556,
              "#d8576b"
             ],
             [
              0.6666666666666666,
              "#ed7953"
             ],
             [
              0.7777777777777778,
              "#fb9f3a"
             ],
             [
              0.8888888888888888,
              "#fdca26"
             ],
             [
              1,
              "#f0f921"
             ]
            ],
            "type": "histogram2d"
           }
          ],
          "histogram2dcontour": [
           {
            "colorbar": {
             "outlinewidth": 0,
             "ticks": ""
            },
            "colorscale": [
             [
              0,
              "#0d0887"
             ],
             [
              0.1111111111111111,
              "#46039f"
             ],
             [
              0.2222222222222222,
              "#7201a8"
             ],
             [
              0.3333333333333333,
              "#9c179e"
             ],
             [
              0.4444444444444444,
              "#bd3786"
             ],
             [
              0.5555555555555556,
              "#d8576b"
             ],
             [
              0.6666666666666666,
              "#ed7953"
             ],
             [
              0.7777777777777778,
              "#fb9f3a"
             ],
             [
              0.8888888888888888,
              "#fdca26"
             ],
             [
              1,
              "#f0f921"
             ]
            ],
            "type": "histogram2dcontour"
           }
          ],
          "mesh3d": [
           {
            "colorbar": {
             "outlinewidth": 0,
             "ticks": ""
            },
            "type": "mesh3d"
           }
          ],
          "parcoords": [
           {
            "line": {
             "colorbar": {
              "outlinewidth": 0,
              "ticks": ""
             }
            },
            "type": "parcoords"
           }
          ],
          "pie": [
           {
            "automargin": true,
            "type": "pie"
           }
          ],
          "scatter": [
           {
            "fillpattern": {
             "fillmode": "overlay",
             "size": 10,
             "solidity": 0.2
            },
            "type": "scatter"
           }
          ],
          "scatter3d": [
           {
            "line": {
             "colorbar": {
              "outlinewidth": 0,
              "ticks": ""
             }
            },
            "marker": {
             "colorbar": {
              "outlinewidth": 0,
              "ticks": ""
             }
            },
            "type": "scatter3d"
           }
          ],
          "scattercarpet": [
           {
            "marker": {
             "colorbar": {
              "outlinewidth": 0,
              "ticks": ""
             }
            },
            "type": "scattercarpet"
           }
          ],
          "scattergeo": [
           {
            "marker": {
             "colorbar": {
              "outlinewidth": 0,
              "ticks": ""
             }
            },
            "type": "scattergeo"
           }
          ],
          "scattergl": [
           {
            "marker": {
             "colorbar": {
              "outlinewidth": 0,
              "ticks": ""
             }
            },
            "type": "scattergl"
           }
          ],
          "scattermapbox": [
           {
            "marker": {
             "colorbar": {
              "outlinewidth": 0,
              "ticks": ""
             }
            },
            "type": "scattermapbox"
           }
          ],
          "scatterpolar": [
           {
            "marker": {
             "colorbar": {
              "outlinewidth": 0,
              "ticks": ""
             }
            },
            "type": "scatterpolar"
           }
          ],
          "scatterpolargl": [
           {
            "marker": {
             "colorbar": {
              "outlinewidth": 0,
              "ticks": ""
             }
            },
            "type": "scatterpolargl"
           }
          ],
          "scatterternary": [
           {
            "marker": {
             "colorbar": {
              "outlinewidth": 0,
              "ticks": ""
             }
            },
            "type": "scatterternary"
           }
          ],
          "surface": [
           {
            "colorbar": {
             "outlinewidth": 0,
             "ticks": ""
            },
            "colorscale": [
             [
              0,
              "#0d0887"
             ],
             [
              0.1111111111111111,
              "#46039f"
             ],
             [
              0.2222222222222222,
              "#7201a8"
             ],
             [
              0.3333333333333333,
              "#9c179e"
             ],
             [
              0.4444444444444444,
              "#bd3786"
             ],
             [
              0.5555555555555556,
              "#d8576b"
             ],
             [
              0.6666666666666666,
              "#ed7953"
             ],
             [
              0.7777777777777778,
              "#fb9f3a"
             ],
             [
              0.8888888888888888,
              "#fdca26"
             ],
             [
              1,
              "#f0f921"
             ]
            ],
            "type": "surface"
           }
          ],
          "table": [
           {
            "cells": {
             "fill": {
              "color": "#EBF0F8"
             },
             "line": {
              "color": "white"
             }
            },
            "header": {
             "fill": {
              "color": "#C8D4E3"
             },
             "line": {
              "color": "white"
             }
            },
            "type": "table"
           }
          ]
         },
         "layout": {
          "annotationdefaults": {
           "arrowcolor": "#2a3f5f",
           "arrowhead": 0,
           "arrowwidth": 1
          },
          "autotypenumbers": "strict",
          "coloraxis": {
           "colorbar": {
            "outlinewidth": 0,
            "ticks": ""
           }
          },
          "colorscale": {
           "diverging": [
            [
             0,
             "#8e0152"
            ],
            [
             0.1,
             "#c51b7d"
            ],
            [
             0.2,
             "#de77ae"
            ],
            [
             0.3,
             "#f1b6da"
            ],
            [
             0.4,
             "#fde0ef"
            ],
            [
             0.5,
             "#f7f7f7"
            ],
            [
             0.6,
             "#e6f5d0"
            ],
            [
             0.7,
             "#b8e186"
            ],
            [
             0.8,
             "#7fbc41"
            ],
            [
             0.9,
             "#4d9221"
            ],
            [
             1,
             "#276419"
            ]
           ],
           "sequential": [
            [
             0,
             "#0d0887"
            ],
            [
             0.1111111111111111,
             "#46039f"
            ],
            [
             0.2222222222222222,
             "#7201a8"
            ],
            [
             0.3333333333333333,
             "#9c179e"
            ],
            [
             0.4444444444444444,
             "#bd3786"
            ],
            [
             0.5555555555555556,
             "#d8576b"
            ],
            [
             0.6666666666666666,
             "#ed7953"
            ],
            [
             0.7777777777777778,
             "#fb9f3a"
            ],
            [
             0.8888888888888888,
             "#fdca26"
            ],
            [
             1,
             "#f0f921"
            ]
           ],
           "sequentialminus": [
            [
             0,
             "#0d0887"
            ],
            [
             0.1111111111111111,
             "#46039f"
            ],
            [
             0.2222222222222222,
             "#7201a8"
            ],
            [
             0.3333333333333333,
             "#9c179e"
            ],
            [
             0.4444444444444444,
             "#bd3786"
            ],
            [
             0.5555555555555556,
             "#d8576b"
            ],
            [
             0.6666666666666666,
             "#ed7953"
            ],
            [
             0.7777777777777778,
             "#fb9f3a"
            ],
            [
             0.8888888888888888,
             "#fdca26"
            ],
            [
             1,
             "#f0f921"
            ]
           ]
          },
          "colorway": [
           "#636efa",
           "#EF553B",
           "#00cc96",
           "#ab63fa",
           "#FFA15A",
           "#19d3f3",
           "#FF6692",
           "#B6E880",
           "#FF97FF",
           "#FECB52"
          ],
          "font": {
           "color": "#2a3f5f"
          },
          "geo": {
           "bgcolor": "white",
           "lakecolor": "white",
           "landcolor": "#E5ECF6",
           "showlakes": true,
           "showland": true,
           "subunitcolor": "white"
          },
          "hoverlabel": {
           "align": "left"
          },
          "hovermode": "closest",
          "mapbox": {
           "style": "light"
          },
          "paper_bgcolor": "white",
          "plot_bgcolor": "#E5ECF6",
          "polar": {
           "angularaxis": {
            "gridcolor": "white",
            "linecolor": "white",
            "ticks": ""
           },
           "bgcolor": "#E5ECF6",
           "radialaxis": {
            "gridcolor": "white",
            "linecolor": "white",
            "ticks": ""
           }
          },
          "scene": {
           "xaxis": {
            "backgroundcolor": "#E5ECF6",
            "gridcolor": "white",
            "gridwidth": 2,
            "linecolor": "white",
            "showbackground": true,
            "ticks": "",
            "zerolinecolor": "white"
           },
           "yaxis": {
            "backgroundcolor": "#E5ECF6",
            "gridcolor": "white",
            "gridwidth": 2,
            "linecolor": "white",
            "showbackground": true,
            "ticks": "",
            "zerolinecolor": "white"
           },
           "zaxis": {
            "backgroundcolor": "#E5ECF6",
            "gridcolor": "white",
            "gridwidth": 2,
            "linecolor": "white",
            "showbackground": true,
            "ticks": "",
            "zerolinecolor": "white"
           }
          },
          "shapedefaults": {
           "line": {
            "color": "#2a3f5f"
           }
          },
          "ternary": {
           "aaxis": {
            "gridcolor": "white",
            "linecolor": "white",
            "ticks": ""
           },
           "baxis": {
            "gridcolor": "white",
            "linecolor": "white",
            "ticks": ""
           },
           "bgcolor": "#E5ECF6",
           "caxis": {
            "gridcolor": "white",
            "linecolor": "white",
            "ticks": ""
           }
          },
          "title": {
           "x": 0.05
          },
          "xaxis": {
           "automargin": true,
           "gridcolor": "white",
           "linecolor": "white",
           "ticks": "",
           "title": {
            "standoff": 15
           },
           "zerolinecolor": "white",
           "zerolinewidth": 2
          },
          "yaxis": {
           "automargin": true,
           "gridcolor": "white",
           "linecolor": "white",
           "ticks": "",
           "title": {
            "standoff": 15
           },
           "zerolinecolor": "white",
           "zerolinewidth": 2
          }
         }
        }
       }
      },
      "text/html": [
       "<div>                            <div id=\"b25d085e-553d-4759-b8e1-8c8fcc7e60dc\" class=\"plotly-graph-div\" style=\"height:525px; width:100%;\"></div>            <script type=\"text/javascript\">                require([\"plotly\"], function(Plotly) {                    window.PLOTLYENV=window.PLOTLYENV || {};                                    if (document.getElementById(\"b25d085e-553d-4759-b8e1-8c8fcc7e60dc\")) {                    Plotly.newPlot(                        \"b25d085e-553d-4759-b8e1-8c8fcc7e60dc\",                        [{\"hovertemplate\":\"X1_Square=%{x}<br>X2_Square=%{y}<br>X1*X2=%{z}<br>Y=%{marker.color}<extra></extra>\",\"legendgroup\":\"\",\"marker\":{\"color\":[0,0,0,0,0,0,0,0,0,0,0,0,0,0,0,0,0,0,0,0,0,0,0,0,0,0,0,0,0,0,0,0,0,0,0,0,0,0,0,0,0,0,0,0,0,0,0,0,0,0,0,0,0,0,0,0,0,0,0,0,0,0,0,0,0,0,0,0,0,0,0,0,0,0,0,0,0,0,0,0,0,0,0,0,0,0,0,0,0,0,0,0,0,0,0,0,0,0,0,0,0,0,0,0,0,0,0,0,0,0,0,0,0,0,0,0,0,0,0,0,0,0,0,0,0,0,0,0,0,0,0,0,0,0,0,0,0,0,0,0,0,0,0,0,0,0,0,0,0,0,0,0,0,0,0,0,0,0,0,0,0,0,0,0,0,0,0,0,0,0,0,0,0,0,0,0,0,0,0,0,0,0,0,0,0,0,0,0,0,0,0,0,0,0,0,0,0,0,0,0,1,1,1,1,1,1,1,1,1,1,1,1,1,1,1,1,1,1,1,1,1,1,1,1,1,1,1,1,1,1,1,1,1,1,1,1,1,1,1,1,1,1,1,1,1,1,1,1,1,1,1,1,1,1,1,1,1,1,1,1,1,1,1,1,1,1,1,1,1,1,1,1,1,1,1,1,1,1,1,1,1,1,1,1,1,1,1,1,1,1,1,1,1,1,1,1,1,1,1,1,1,1,1,1,1,1,1,1,1,1,1,1,1,1,1,1,1,1,1,1,1,1,1,1,1,1,1,1,1,1,1,1,1,1,1,1,1,1,1,1,1,1,1,1,1,1,1,1,1,1,1,1,1,1,1,1,1,1,1,1,1,1,1,1,1,1,1,1,1,1,1,1,1,1,1,1,1,1,1,1,1,1,1,1,1,1,1,1,1,1,1,1,1,1,1,1,1,1,1,1],\"coloraxis\":\"coloraxis\",\"symbol\":\"circle\"},\"mode\":\"markers\",\"name\":\"\",\"scene\":\"scene\",\"showlegend\":false,\"x\":[75.00000000000001,75.99989796959494,76.97938985817774,77.93847566574841,78.87715539230689,79.79542903785328,80.69329660238752,81.57075808590962,82.42781348841956,83.26446280991735,84.08070605040302,84.87654320987653,85.65197428833793,86.40699928578718,87.14161820222425,87.85583103764922,88.54963779206203,89.2230384654627,89.87603305785123,90.50862156922764,91.12080399959189,91.71258034894397,92.28395061728395,92.83491480461178,93.36547291092745,93.87562493623098,94.36537088052238,94.83471074380165,95.28364452606877,95.71217222732375,96.12029384756657,96.50800938679727,96.87531884501581,97.22222222222224,97.54871951841648,97.8548107335986,98.14049586776859,98.40577492092645,98.65064789307212,98.87511478420569,99.0791755943271,99.2628303234364,99.42607897153351,99.5689215386185,99.69135802469137,99.79338842975206,99.87501275380063,99.93623099683704,99.97704315886133,99.99744923987349,99.99744923987349,99.97704315886133,99.93623099683704,99.87501275380063,99.79338842975206,99.69135802469137,99.5689215386185,99.42607897153351,99.2628303234364,99.0791755943271,98.87511478420569,98.65064789307212,98.40577492092645,98.14049586776859,97.8548107335986,97.54871951841648,97.22222222222224,96.87531884501581,96.50800938679727,96.12029384756657,95.71217222732375,95.28364452606877,94.83471074380165,94.36537088052238,93.87562493623098,93.36547291092748,92.83491480461178,92.28395061728395,91.71258034894397,91.12080399959189,90.50862156922764,89.87603305785123,89.2230384654627,88.54963779206203,87.85583103764922,87.14161820222425,86.40699928578718,85.65197428833793,84.87654320987653,84.08070605040302,83.26446280991735,82.42781348841956,81.57075808590962,80.69329660238752,79.79542903785328,78.87715539230693,77.93847566574841,76.97938985817774,75.99989796959494,75.00000000000001,75.00000000000001,75.99989796959494,76.97938985817774,77.93847566574841,78.87715539230689,79.79542903785328,80.69329660238752,81.57075808590962,82.42781348841956,83.26446280991735,84.08070605040302,84.87654320987653,85.65197428833793,86.40699928578718,87.14161820222425,87.85583103764922,88.54963779206203,89.2230384654627,89.87603305785123,90.50862156922764,91.12080399959189,91.71258034894397,92.28395061728395,92.83491480461178,93.36547291092745,93.87562493623098,94.36537088052238,94.83471074380165,95.28364452606877,95.71217222732375,96.12029384756657,96.50800938679727,96.87531884501581,97.22222222222224,97.54871951841648,97.8548107335986,98.14049586776859,98.40577492092645,98.65064789307212,98.87511478420569,99.0791755943271,99.2628303234364,99.42607897153351,99.5689215386185,99.69135802469137,99.79338842975206,99.87501275380063,99.93623099683704,99.97704315886133,99.99744923987349,99.99744923987349,99.97704315886133,99.93623099683704,99.87501275380063,99.79338842975206,99.69135802469137,99.5689215386185,99.42607897153351,99.2628303234364,99.0791755943271,98.87511478420569,98.65064789307212,98.40577492092645,98.14049586776859,97.8548107335986,97.54871951841648,97.22222222222224,96.87531884501581,96.50800938679727,96.12029384756657,95.71217222732375,95.28364452606877,94.83471074380165,94.36537088052238,93.87562493623098,93.36547291092748,92.83491480461178,92.28395061728395,91.71258034894397,91.12080399959189,90.50862156922764,89.87603305785123,89.2230384654627,88.54963779206203,87.85583103764922,87.14161820222425,86.40699928578718,85.65197428833793,84.87654320987653,84.08070605040302,83.26446280991735,82.42781348841956,81.57075808590962,80.69329660238752,79.79542903785328,78.87715539230693,77.93847566574841,76.97938985817774,75.99989796959494,75.00000000000001,75.00000000000001,75.99989796959494,76.97938985817774,77.93847566574841,78.87715539230689,79.79542903785328,80.69329660238752,81.57075808590962,82.42781348841956,83.26446280991735,84.08070605040302,84.87654320987653,85.65197428833793,86.40699928578718,87.14161820222425,87.85583103764922,88.54963779206203,89.2230384654627,89.87603305785123,90.50862156922764,91.12080399959189,91.71258034894397,92.28395061728395,92.83491480461178,93.36547291092745,93.87562493623098,94.36537088052238,94.83471074380165,95.28364452606877,95.71217222732375,96.12029384756657,96.50800938679727,96.87531884501581,97.22222222222224,97.54871951841648,97.8548107335986,98.14049586776859,98.40577492092645,98.65064789307212,98.87511478420569,99.0791755943271,99.2628303234364,99.42607897153351,99.5689215386185,99.69135802469137,99.79338842975206,99.87501275380063,99.93623099683704,99.97704315886133,99.99744923987349,99.99744923987349,99.97704315886133,99.93623099683704,99.87501275380063,99.79338842975206,99.69135802469137,99.5689215386185,99.42607897153351,99.2628303234364,99.0791755943271,98.87511478420569,98.65064789307212,98.40577492092645,98.14049586776859,97.8548107335986,97.54871951841648,97.22222222222224,96.87531884501581,96.50800938679727,96.12029384756657,95.71217222732375,95.28364452606877,94.83471074380165,94.36537088052238,93.87562493623098,93.36547291092748,92.83491480461178,92.28395061728395,91.71258034894397,91.12080399959189,90.50862156922764,89.87603305785123,89.2230384654627,88.54963779206203,87.85583103764922,87.14161820222425,86.40699928578718,85.65197428833793,84.87654320987653,84.08070605040302,83.26446280991735,82.42781348841956,81.57075808590962,80.69329660238752,79.79542903785328,78.87715539230693,77.93847566574841,76.97938985817774,75.99989796959494,75.00000000000001,75.00000000000001,75.99989796959494,76.97938985817774,77.93847566574841,78.87715539230689,79.79542903785328,80.69329660238752,81.57075808590962,82.42781348841956,83.26446280991735,84.08070605040302,84.87654320987653,85.65197428833793,86.40699928578718,87.14161820222425,87.85583103764922,88.54963779206203,89.2230384654627,89.87603305785123,90.50862156922764,91.12080399959189,91.71258034894397,92.28395061728395,92.83491480461178,93.36547291092745,93.87562493623098,94.36537088052238,94.83471074380165,95.28364452606877,95.71217222732375,96.12029384756657,96.50800938679727,96.87531884501581,97.22222222222224,97.54871951841648,97.8548107335986,98.14049586776859,98.40577492092645,98.65064789307212,98.87511478420569,99.0791755943271,99.2628303234364,99.42607897153351,99.5689215386185,99.69135802469137,99.79338842975206,99.87501275380063,99.93623099683704,99.97704315886133,99.99744923987349,99.99744923987349,99.97704315886133,99.93623099683704,99.87501275380063,99.79338842975206,99.69135802469137,99.5689215386185,99.42607897153351,99.2628303234364,99.0791755943271,98.87511478420569,98.65064789307212,98.40577492092645,98.14049586776859,97.8548107335986,97.54871951841648,97.22222222222224,96.87531884501581,96.50800938679727,96.12029384756657,95.71217222732375,95.28364452606877,94.83471074380165,94.36537088052238,93.87562493623098,93.36547291092748,92.83491480461178,92.28395061728395,91.71258034894397,91.12080399959189,90.50862156922764,89.87603305785123,89.2230384654627,88.54963779206203,87.85583103764922,87.14161820222425,86.40699928578718,85.65197428833793,84.87654320987653,84.08070605040302,83.26446280991735,82.42781348841956,81.57075808590962,80.69329660238752,79.79542903785328,78.87715539230693,77.93847566574841,76.97938985817774,75.99989796959494,75.00000000000001],\"y\":[25.0,24.00010203040506,23.02061014182226,22.061524334251608,21.122844607693093,20.204570962146718,19.306703397612484,18.4292419140904,17.57218651158045,16.735537190082646,15.919293949596977,15.123456790123456,14.348025711662077,13.593000714212835,12.858381797775735,12.144168962350781,11.450362207937967,10.776961534537293,10.12396694214876,9.49137843077237,8.87919600040812,8.287419651056016,7.716049382716049,7.165085195388227,6.634527089072543,6.124375063769004,5.634629119477604,5.165289256198348,4.716355473931231,4.287827772676258,3.879706152433425,3.491990613202735,3.1246811549841853,2.7777777777777772,2.4512804815835123,2.1451892664013874,1.8595041322314052,1.5942250790735637,1.349352106927865,1.1248852157943066,0.92082440567289,0.7371696765636166,0.5739210284664833,0.4310784613814917,0.30864197530864174,0.20661157024793433,0.1249872461993676,0.0637690031629426,0.02295684113865928,0.002550760126517668,0.002550760126517668,0.02295684113865928,0.0637690031629426,0.1249872461993676,0.20661157024793353,0.30864197530864174,0.4310784613814917,0.5739210284664833,0.7371696765636152,0.92082440567289,1.1248852157943066,1.349352106927865,1.5942250790735626,1.859504132231404,2.1451892664013874,2.4512804815835123,2.7777777777777786,3.124681154984184,3.491990613202734,3.879706152433425,4.287827772676258,4.7163554739312294,5.165289256198346,5.634629119477604,6.124375063769004,6.634527089072541,7.165085195388224,7.716049382716049,8.287419651056016,8.879196000408118,9.491378430772373,10.12396694214876,10.776961534537287,11.450362207937967,12.144168962350777,12.858381797775742,13.593000714212835,14.34802571166207,15.12345679012346,15.919293949596977,16.73553719008264,17.57218651158045,18.429241914090394,19.306703397612495,20.204570962146718,21.122844607693086,22.061524334251608,23.02061014182226,24.000102030405067,25.0,25.0,24.00010203040506,23.02061014182226,22.061524334251608,21.122844607693093,20.204570962146718,19.306703397612484,18.4292419140904,17.57218651158045,16.735537190082646,15.919293949596977,15.123456790123456,14.348025711662077,13.593000714212835,12.858381797775735,12.144168962350781,11.450362207937967,10.776961534537293,10.12396694214876,9.49137843077237,8.87919600040812,8.287419651056016,7.716049382716049,7.165085195388227,6.634527089072543,6.124375063769004,5.634629119477604,5.165289256198348,4.716355473931231,4.287827772676258,3.879706152433425,3.491990613202735,3.1246811549841853,2.7777777777777772,2.4512804815835123,2.1451892664013874,1.8595041322314052,1.5942250790735637,1.349352106927865,1.1248852157943066,0.92082440567289,0.7371696765636166,0.5739210284664833,0.4310784613814917,0.30864197530864174,0.20661157024793433,0.1249872461993676,0.0637690031629426,0.02295684113865928,0.002550760126517668,0.002550760126517668,0.02295684113865928,0.0637690031629426,0.1249872461993676,0.20661157024793353,0.30864197530864174,0.4310784613814917,0.5739210284664833,0.7371696765636152,0.92082440567289,1.1248852157943066,1.349352106927865,1.5942250790735626,1.859504132231404,2.1451892664013874,2.4512804815835123,2.7777777777777786,3.124681154984184,3.491990613202734,3.879706152433425,4.287827772676258,4.7163554739312294,5.165289256198346,5.634629119477604,6.124375063769004,6.634527089072541,7.165085195388224,7.716049382716049,8.287419651056016,8.879196000408118,9.491378430772373,10.12396694214876,10.776961534537287,11.450362207937967,12.144168962350777,12.858381797775742,13.593000714212835,14.34802571166207,15.12345679012346,15.919293949596977,16.73553719008264,17.57218651158045,18.429241914090394,19.306703397612495,20.204570962146718,21.122844607693086,22.061524334251608,23.02061014182226,24.000102030405067,25.0,25.0,24.00010203040506,23.02061014182226,22.061524334251608,21.122844607693093,20.204570962146718,19.306703397612484,18.4292419140904,17.57218651158045,16.735537190082646,15.919293949596977,15.123456790123456,14.348025711662077,13.593000714212835,12.858381797775735,12.144168962350781,11.450362207937967,10.776961534537293,10.12396694214876,9.49137843077237,8.87919600040812,8.287419651056016,7.716049382716049,7.165085195388227,6.634527089072543,6.124375063769004,5.634629119477604,5.165289256198348,4.716355473931231,4.287827772676258,3.879706152433425,3.491990613202735,3.1246811549841853,2.7777777777777772,2.4512804815835123,2.1451892664013874,1.8595041322314052,1.5942250790735637,1.349352106927865,1.1248852157943066,0.92082440567289,0.7371696765636166,0.5739210284664833,0.4310784613814917,0.30864197530864174,0.20661157024793433,0.1249872461993676,0.0637690031629426,0.02295684113865928,0.002550760126517668,0.002550760126517668,0.02295684113865928,0.0637690031629426,0.1249872461993676,0.20661157024793353,0.30864197530864174,0.4310784613814917,0.5739210284664833,0.7371696765636152,0.92082440567289,1.1248852157943066,1.349352106927865,1.5942250790735626,1.859504132231404,2.1451892664013874,2.4512804815835123,2.7777777777777786,3.124681154984184,3.491990613202734,3.879706152433425,4.287827772676258,4.7163554739312294,5.165289256198346,5.634629119477604,6.124375063769004,6.634527089072541,7.165085195388224,7.716049382716049,8.287419651056016,8.879196000408118,9.491378430772373,10.12396694214876,10.776961534537287,11.450362207937967,12.144168962350777,12.858381797775742,13.593000714212835,14.34802571166207,15.12345679012346,15.919293949596977,16.73553719008264,17.57218651158045,18.429241914090394,19.306703397612495,20.204570962146718,21.122844607693086,22.061524334251608,23.02061014182226,24.000102030405067,25.0,25.0,24.00010203040506,23.02061014182226,22.061524334251608,21.122844607693093,20.204570962146718,19.306703397612484,18.4292419140904,17.57218651158045,16.735537190082646,15.919293949596977,15.123456790123456,14.348025711662077,13.593000714212835,12.858381797775735,12.144168962350781,11.450362207937967,10.776961534537293,10.12396694214876,9.49137843077237,8.87919600040812,8.287419651056016,7.716049382716049,7.165085195388227,6.634527089072543,6.124375063769004,5.634629119477604,5.165289256198348,4.716355473931231,4.287827772676258,3.879706152433425,3.491990613202735,3.1246811549841853,2.7777777777777772,2.4512804815835123,2.1451892664013874,1.8595041322314052,1.5942250790735637,1.349352106927865,1.1248852157943066,0.92082440567289,0.7371696765636166,0.5739210284664833,0.4310784613814917,0.30864197530864174,0.20661157024793433,0.1249872461993676,0.0637690031629426,0.02295684113865928,0.002550760126517668,0.002550760126517668,0.02295684113865928,0.0637690031629426,0.1249872461993676,0.20661157024793353,0.30864197530864174,0.4310784613814917,0.5739210284664833,0.7371696765636152,0.92082440567289,1.1248852157943066,1.349352106927865,1.5942250790735626,1.859504132231404,2.1451892664013874,2.4512804815835123,2.7777777777777786,3.124681154984184,3.491990613202734,3.879706152433425,4.287827772676258,4.7163554739312294,5.165289256198346,5.634629119477604,6.124375063769004,6.634527089072541,7.165085195388224,7.716049382716049,8.287419651056016,8.879196000408118,9.491378430772373,10.12396694214876,10.776961534537287,11.450362207937967,12.144168962350777,12.858381797775742,13.593000714212835,14.34802571166207,15.12345679012346,15.919293949596977,16.73553719008264,17.57218651158045,18.429241914090394,19.306703397612495,20.204570962146718,21.122844607693086,22.061524334251608,23.02061014182226,24.000102030405067,25.0],\"z\":[-43.30127018922194,-42.708375122107526,-42.09646686932831,-41.466149778757924,-40.81800946210581,-40.15261396783838,-39.47051486461593,-38.77224824382736,-38.05833564884669,-37.329284937802186,-36.585591085918274,-35.827736932851536,-35.056193879879366,-34.271422541305355,-33.47387335400854,-32.66398714867727,-31.84219568592629,-31.00892216019178,-30.164581674028813,-29.309581685194797,-28.444322428687745,-27.569197315716178,-26.68459331140522,-25.79089129288965,-24.88846638930605,-23.97768830507196,-23.058921627727855,-22.1325261215171,-21.198857007787993,-20.258265233220044,-19.311097726802398,-18.35769764642553,-17.39840461588663,-16.43355495305449,-15.463481889890094,-14.48851578497449,-13.50898432915498,-12.525212744884188,-11.537523979793749,-10.546238895014566,-9.5516764487291,-8.554153875417297,-7.55398686123641,-6.551489715956374,-5.546975541855377,-4.540756399966102,-3.533143474050305,-2.5244472326689387,-1.5149775897058222,-0.5050440636959747,0.5050440636959747,1.5149775897058222,2.5244472326689387,3.533143474050305,4.540756399966093,5.546975541855377,6.551489715956374,7.55398686123641,8.554153875417288,9.5516764487291,10.546238895014566,11.537523979793749,12.525212744884183,13.508984329154977,14.48851578497449,15.463481889890094,16.433554953054493,17.398404615886626,18.357697646425528,19.311097726802398,20.258265233220044,21.198857007787986,22.132526121517095,23.058921627727855,23.97768830507196,24.88846638930605,25.790891292889647,26.68459331140522,27.569197315716178,28.444322428687737,29.3095816851948,30.164581674028813,31.00892216019177,31.84219568592629,32.66398714867727,33.47387335400855,34.271422541305355,35.05619387987936,35.82773693285154,36.585591085918274,37.32928493780218,38.05833564884669,38.772248243827356,39.470514864615936,40.15261396783838,40.81800946210581,41.466149778757924,42.09646686932831,42.70837512210753,43.30127018922194,-43.30127018922194,-42.708375122107526,-42.09646686932831,-41.466149778757924,-40.81800946210581,-40.15261396783838,-39.47051486461593,-38.77224824382736,-38.05833564884669,-37.329284937802186,-36.585591085918274,-35.827736932851536,-35.056193879879366,-34.271422541305355,-33.47387335400854,-32.66398714867727,-31.84219568592629,-31.00892216019178,-30.164581674028813,-29.309581685194797,-28.444322428687745,-27.569197315716178,-26.68459331140522,-25.79089129288965,-24.88846638930605,-23.97768830507196,-23.058921627727855,-22.1325261215171,-21.198857007787993,-20.258265233220044,-19.311097726802398,-18.35769764642553,-17.39840461588663,-16.43355495305449,-15.463481889890094,-14.48851578497449,-13.50898432915498,-12.525212744884188,-11.537523979793749,-10.546238895014566,-9.5516764487291,-8.554153875417297,-7.55398686123641,-6.551489715956374,-5.546975541855377,-4.540756399966102,-3.533143474050305,-2.5244472326689387,-1.5149775897058222,-0.5050440636959747,0.5050440636959747,1.5149775897058222,2.5244472326689387,3.533143474050305,4.540756399966093,5.546975541855377,6.551489715956374,7.55398686123641,8.554153875417288,9.5516764487291,10.546238895014566,11.537523979793749,12.525212744884183,13.508984329154977,14.48851578497449,15.463481889890094,16.433554953054493,17.398404615886626,18.357697646425528,19.311097726802398,20.258265233220044,21.198857007787986,22.132526121517095,23.058921627727855,23.97768830507196,24.88846638930605,25.790891292889647,26.68459331140522,27.569197315716178,28.444322428687737,29.3095816851948,30.164581674028813,31.00892216019177,31.84219568592629,32.66398714867727,33.47387335400855,34.271422541305355,35.05619387987936,35.82773693285154,36.585591085918274,37.32928493780218,38.05833564884669,38.772248243827356,39.470514864615936,40.15261396783838,40.81800946210581,41.466149778757924,42.09646686932831,42.70837512210753,43.30127018922194,-43.30127018922194,-42.708375122107526,-42.09646686932831,-41.466149778757924,-40.81800946210581,-40.15261396783838,-39.47051486461593,-38.77224824382736,-38.05833564884669,-37.329284937802186,-36.585591085918274,-35.827736932851536,-35.056193879879366,-34.271422541305355,-33.47387335400854,-32.66398714867727,-31.84219568592629,-31.00892216019178,-30.164581674028813,-29.309581685194797,-28.444322428687745,-27.569197315716178,-26.68459331140522,-25.79089129288965,-24.88846638930605,-23.97768830507196,-23.058921627727855,-22.1325261215171,-21.198857007787993,-20.258265233220044,-19.311097726802398,-18.35769764642553,-17.39840461588663,-16.43355495305449,-15.463481889890094,-14.48851578497449,-13.50898432915498,-12.525212744884188,-11.537523979793749,-10.546238895014566,-9.5516764487291,-8.554153875417297,-7.55398686123641,-6.551489715956374,-5.546975541855377,-4.540756399966102,-3.533143474050305,-2.5244472326689387,-1.5149775897058222,-0.5050440636959747,0.5050440636959747,1.5149775897058222,2.5244472326689387,3.533143474050305,4.540756399966093,5.546975541855377,6.551489715956374,7.55398686123641,8.554153875417288,9.5516764487291,10.546238895014566,11.537523979793749,12.525212744884183,13.508984329154977,14.48851578497449,15.463481889890094,16.433554953054493,17.398404615886626,18.357697646425528,19.311097726802398,20.258265233220044,21.198857007787986,22.132526121517095,23.058921627727855,23.97768830507196,24.88846638930605,25.790891292889647,26.68459331140522,27.569197315716178,28.444322428687737,29.3095816851948,30.164581674028813,31.00892216019177,31.84219568592629,32.66398714867727,33.47387335400855,34.271422541305355,35.05619387987936,35.82773693285154,36.585591085918274,37.32928493780218,38.05833564884669,38.772248243827356,39.470514864615936,40.15261396783838,40.81800946210581,41.466149778757924,42.09646686932831,42.70837512210753,43.30127018922194,-43.30127018922194,-42.708375122107526,-42.09646686932831,-41.466149778757924,-40.81800946210581,-40.15261396783838,-39.47051486461593,-38.77224824382736,-38.05833564884669,-37.329284937802186,-36.585591085918274,-35.827736932851536,-35.056193879879366,-34.271422541305355,-33.47387335400854,-32.66398714867727,-31.84219568592629,-31.00892216019178,-30.164581674028813,-29.309581685194797,-28.444322428687745,-27.569197315716178,-26.68459331140522,-25.79089129288965,-24.88846638930605,-23.97768830507196,-23.058921627727855,-22.1325261215171,-21.198857007787993,-20.258265233220044,-19.311097726802398,-18.35769764642553,-17.39840461588663,-16.43355495305449,-15.463481889890094,-14.48851578497449,-13.50898432915498,-12.525212744884188,-11.537523979793749,-10.546238895014566,-9.5516764487291,-8.554153875417297,-7.55398686123641,-6.551489715956374,-5.546975541855377,-4.540756399966102,-3.533143474050305,-2.5244472326689387,-1.5149775897058222,-0.5050440636959747,0.5050440636959747,1.5149775897058222,2.5244472326689387,3.533143474050305,4.540756399966093,5.546975541855377,6.551489715956374,7.55398686123641,8.554153875417288,9.5516764487291,10.546238895014566,11.537523979793749,12.525212744884183,13.508984329154977,14.48851578497449,15.463481889890094,16.433554953054493,17.398404615886626,18.357697646425528,19.311097726802398,20.258265233220044,21.198857007787986,22.132526121517095,23.058921627727855,23.97768830507196,24.88846638930605,25.790891292889647,26.68459331140522,27.569197315716178,28.444322428687737,29.3095816851948,30.164581674028813,31.00892216019177,31.84219568592629,32.66398714867727,33.47387335400855,34.271422541305355,35.05619387987936,35.82773693285154,36.585591085918274,37.32928493780218,38.05833564884669,38.772248243827356,39.470514864615936,40.15261396783838,40.81800946210581,41.466149778757924,42.09646686932831,42.70837512210753,43.30127018922194],\"type\":\"scatter3d\"}],                        {\"template\":{\"data\":{\"histogram2dcontour\":[{\"type\":\"histogram2dcontour\",\"colorbar\":{\"outlinewidth\":0,\"ticks\":\"\"},\"colorscale\":[[0.0,\"#0d0887\"],[0.1111111111111111,\"#46039f\"],[0.2222222222222222,\"#7201a8\"],[0.3333333333333333,\"#9c179e\"],[0.4444444444444444,\"#bd3786\"],[0.5555555555555556,\"#d8576b\"],[0.6666666666666666,\"#ed7953\"],[0.7777777777777778,\"#fb9f3a\"],[0.8888888888888888,\"#fdca26\"],[1.0,\"#f0f921\"]]}],\"choropleth\":[{\"type\":\"choropleth\",\"colorbar\":{\"outlinewidth\":0,\"ticks\":\"\"}}],\"histogram2d\":[{\"type\":\"histogram2d\",\"colorbar\":{\"outlinewidth\":0,\"ticks\":\"\"},\"colorscale\":[[0.0,\"#0d0887\"],[0.1111111111111111,\"#46039f\"],[0.2222222222222222,\"#7201a8\"],[0.3333333333333333,\"#9c179e\"],[0.4444444444444444,\"#bd3786\"],[0.5555555555555556,\"#d8576b\"],[0.6666666666666666,\"#ed7953\"],[0.7777777777777778,\"#fb9f3a\"],[0.8888888888888888,\"#fdca26\"],[1.0,\"#f0f921\"]]}],\"heatmap\":[{\"type\":\"heatmap\",\"colorbar\":{\"outlinewidth\":0,\"ticks\":\"\"},\"colorscale\":[[0.0,\"#0d0887\"],[0.1111111111111111,\"#46039f\"],[0.2222222222222222,\"#7201a8\"],[0.3333333333333333,\"#9c179e\"],[0.4444444444444444,\"#bd3786\"],[0.5555555555555556,\"#d8576b\"],[0.6666666666666666,\"#ed7953\"],[0.7777777777777778,\"#fb9f3a\"],[0.8888888888888888,\"#fdca26\"],[1.0,\"#f0f921\"]]}],\"heatmapgl\":[{\"type\":\"heatmapgl\",\"colorbar\":{\"outlinewidth\":0,\"ticks\":\"\"},\"colorscale\":[[0.0,\"#0d0887\"],[0.1111111111111111,\"#46039f\"],[0.2222222222222222,\"#7201a8\"],[0.3333333333333333,\"#9c179e\"],[0.4444444444444444,\"#bd3786\"],[0.5555555555555556,\"#d8576b\"],[0.6666666666666666,\"#ed7953\"],[0.7777777777777778,\"#fb9f3a\"],[0.8888888888888888,\"#fdca26\"],[1.0,\"#f0f921\"]]}],\"contourcarpet\":[{\"type\":\"contourcarpet\",\"colorbar\":{\"outlinewidth\":0,\"ticks\":\"\"}}],\"contour\":[{\"type\":\"contour\",\"colorbar\":{\"outlinewidth\":0,\"ticks\":\"\"},\"colorscale\":[[0.0,\"#0d0887\"],[0.1111111111111111,\"#46039f\"],[0.2222222222222222,\"#7201a8\"],[0.3333333333333333,\"#9c179e\"],[0.4444444444444444,\"#bd3786\"],[0.5555555555555556,\"#d8576b\"],[0.6666666666666666,\"#ed7953\"],[0.7777777777777778,\"#fb9f3a\"],[0.8888888888888888,\"#fdca26\"],[1.0,\"#f0f921\"]]}],\"surface\":[{\"type\":\"surface\",\"colorbar\":{\"outlinewidth\":0,\"ticks\":\"\"},\"colorscale\":[[0.0,\"#0d0887\"],[0.1111111111111111,\"#46039f\"],[0.2222222222222222,\"#7201a8\"],[0.3333333333333333,\"#9c179e\"],[0.4444444444444444,\"#bd3786\"],[0.5555555555555556,\"#d8576b\"],[0.6666666666666666,\"#ed7953\"],[0.7777777777777778,\"#fb9f3a\"],[0.8888888888888888,\"#fdca26\"],[1.0,\"#f0f921\"]]}],\"mesh3d\":[{\"type\":\"mesh3d\",\"colorbar\":{\"outlinewidth\":0,\"ticks\":\"\"}}],\"scatter\":[{\"fillpattern\":{\"fillmode\":\"overlay\",\"size\":10,\"solidity\":0.2},\"type\":\"scatter\"}],\"parcoords\":[{\"type\":\"parcoords\",\"line\":{\"colorbar\":{\"outlinewidth\":0,\"ticks\":\"\"}}}],\"scatterpolargl\":[{\"type\":\"scatterpolargl\",\"marker\":{\"colorbar\":{\"outlinewidth\":0,\"ticks\":\"\"}}}],\"bar\":[{\"error_x\":{\"color\":\"#2a3f5f\"},\"error_y\":{\"color\":\"#2a3f5f\"},\"marker\":{\"line\":{\"color\":\"#E5ECF6\",\"width\":0.5},\"pattern\":{\"fillmode\":\"overlay\",\"size\":10,\"solidity\":0.2}},\"type\":\"bar\"}],\"scattergeo\":[{\"type\":\"scattergeo\",\"marker\":{\"colorbar\":{\"outlinewidth\":0,\"ticks\":\"\"}}}],\"scatterpolar\":[{\"type\":\"scatterpolar\",\"marker\":{\"colorbar\":{\"outlinewidth\":0,\"ticks\":\"\"}}}],\"histogram\":[{\"marker\":{\"pattern\":{\"fillmode\":\"overlay\",\"size\":10,\"solidity\":0.2}},\"type\":\"histogram\"}],\"scattergl\":[{\"type\":\"scattergl\",\"marker\":{\"colorbar\":{\"outlinewidth\":0,\"ticks\":\"\"}}}],\"scatter3d\":[{\"type\":\"scatter3d\",\"line\":{\"colorbar\":{\"outlinewidth\":0,\"ticks\":\"\"}},\"marker\":{\"colorbar\":{\"outlinewidth\":0,\"ticks\":\"\"}}}],\"scattermapbox\":[{\"type\":\"scattermapbox\",\"marker\":{\"colorbar\":{\"outlinewidth\":0,\"ticks\":\"\"}}}],\"scatterternary\":[{\"type\":\"scatterternary\",\"marker\":{\"colorbar\":{\"outlinewidth\":0,\"ticks\":\"\"}}}],\"scattercarpet\":[{\"type\":\"scattercarpet\",\"marker\":{\"colorbar\":{\"outlinewidth\":0,\"ticks\":\"\"}}}],\"carpet\":[{\"aaxis\":{\"endlinecolor\":\"#2a3f5f\",\"gridcolor\":\"white\",\"linecolor\":\"white\",\"minorgridcolor\":\"white\",\"startlinecolor\":\"#2a3f5f\"},\"baxis\":{\"endlinecolor\":\"#2a3f5f\",\"gridcolor\":\"white\",\"linecolor\":\"white\",\"minorgridcolor\":\"white\",\"startlinecolor\":\"#2a3f5f\"},\"type\":\"carpet\"}],\"table\":[{\"cells\":{\"fill\":{\"color\":\"#EBF0F8\"},\"line\":{\"color\":\"white\"}},\"header\":{\"fill\":{\"color\":\"#C8D4E3\"},\"line\":{\"color\":\"white\"}},\"type\":\"table\"}],\"barpolar\":[{\"marker\":{\"line\":{\"color\":\"#E5ECF6\",\"width\":0.5},\"pattern\":{\"fillmode\":\"overlay\",\"size\":10,\"solidity\":0.2}},\"type\":\"barpolar\"}],\"pie\":[{\"automargin\":true,\"type\":\"pie\"}]},\"layout\":{\"autotypenumbers\":\"strict\",\"colorway\":[\"#636efa\",\"#EF553B\",\"#00cc96\",\"#ab63fa\",\"#FFA15A\",\"#19d3f3\",\"#FF6692\",\"#B6E880\",\"#FF97FF\",\"#FECB52\"],\"font\":{\"color\":\"#2a3f5f\"},\"hovermode\":\"closest\",\"hoverlabel\":{\"align\":\"left\"},\"paper_bgcolor\":\"white\",\"plot_bgcolor\":\"#E5ECF6\",\"polar\":{\"bgcolor\":\"#E5ECF6\",\"angularaxis\":{\"gridcolor\":\"white\",\"linecolor\":\"white\",\"ticks\":\"\"},\"radialaxis\":{\"gridcolor\":\"white\",\"linecolor\":\"white\",\"ticks\":\"\"}},\"ternary\":{\"bgcolor\":\"#E5ECF6\",\"aaxis\":{\"gridcolor\":\"white\",\"linecolor\":\"white\",\"ticks\":\"\"},\"baxis\":{\"gridcolor\":\"white\",\"linecolor\":\"white\",\"ticks\":\"\"},\"caxis\":{\"gridcolor\":\"white\",\"linecolor\":\"white\",\"ticks\":\"\"}},\"coloraxis\":{\"colorbar\":{\"outlinewidth\":0,\"ticks\":\"\"}},\"colorscale\":{\"sequential\":[[0.0,\"#0d0887\"],[0.1111111111111111,\"#46039f\"],[0.2222222222222222,\"#7201a8\"],[0.3333333333333333,\"#9c179e\"],[0.4444444444444444,\"#bd3786\"],[0.5555555555555556,\"#d8576b\"],[0.6666666666666666,\"#ed7953\"],[0.7777777777777778,\"#fb9f3a\"],[0.8888888888888888,\"#fdca26\"],[1.0,\"#f0f921\"]],\"sequentialminus\":[[0.0,\"#0d0887\"],[0.1111111111111111,\"#46039f\"],[0.2222222222222222,\"#7201a8\"],[0.3333333333333333,\"#9c179e\"],[0.4444444444444444,\"#bd3786\"],[0.5555555555555556,\"#d8576b\"],[0.6666666666666666,\"#ed7953\"],[0.7777777777777778,\"#fb9f3a\"],[0.8888888888888888,\"#fdca26\"],[1.0,\"#f0f921\"]],\"diverging\":[[0,\"#8e0152\"],[0.1,\"#c51b7d\"],[0.2,\"#de77ae\"],[0.3,\"#f1b6da\"],[0.4,\"#fde0ef\"],[0.5,\"#f7f7f7\"],[0.6,\"#e6f5d0\"],[0.7,\"#b8e186\"],[0.8,\"#7fbc41\"],[0.9,\"#4d9221\"],[1,\"#276419\"]]},\"xaxis\":{\"gridcolor\":\"white\",\"linecolor\":\"white\",\"ticks\":\"\",\"title\":{\"standoff\":15},\"zerolinecolor\":\"white\",\"automargin\":true,\"zerolinewidth\":2},\"yaxis\":{\"gridcolor\":\"white\",\"linecolor\":\"white\",\"ticks\":\"\",\"title\":{\"standoff\":15},\"zerolinecolor\":\"white\",\"automargin\":true,\"zerolinewidth\":2},\"scene\":{\"xaxis\":{\"backgroundcolor\":\"#E5ECF6\",\"gridcolor\":\"white\",\"linecolor\":\"white\",\"showbackground\":true,\"ticks\":\"\",\"zerolinecolor\":\"white\",\"gridwidth\":2},\"yaxis\":{\"backgroundcolor\":\"#E5ECF6\",\"gridcolor\":\"white\",\"linecolor\":\"white\",\"showbackground\":true,\"ticks\":\"\",\"zerolinecolor\":\"white\",\"gridwidth\":2},\"zaxis\":{\"backgroundcolor\":\"#E5ECF6\",\"gridcolor\":\"white\",\"linecolor\":\"white\",\"showbackground\":true,\"ticks\":\"\",\"zerolinecolor\":\"white\",\"gridwidth\":2}},\"shapedefaults\":{\"line\":{\"color\":\"#2a3f5f\"}},\"annotationdefaults\":{\"arrowcolor\":\"#2a3f5f\",\"arrowhead\":0,\"arrowwidth\":1},\"geo\":{\"bgcolor\":\"white\",\"landcolor\":\"#E5ECF6\",\"subunitcolor\":\"white\",\"showland\":true,\"showlakes\":true,\"lakecolor\":\"white\"},\"title\":{\"x\":0.05},\"mapbox\":{\"style\":\"light\"}}},\"scene\":{\"domain\":{\"x\":[0.0,1.0],\"y\":[0.0,1.0]},\"xaxis\":{\"title\":{\"text\":\"X1_Square\"}},\"yaxis\":{\"title\":{\"text\":\"X2_Square\"}},\"zaxis\":{\"title\":{\"text\":\"X1*X2\"}}},\"coloraxis\":{\"colorbar\":{\"title\":{\"text\":\"Y\"}},\"colorscale\":[[0.0,\"#0d0887\"],[0.1111111111111111,\"#46039f\"],[0.2222222222222222,\"#7201a8\"],[0.3333333333333333,\"#9c179e\"],[0.4444444444444444,\"#bd3786\"],[0.5555555555555556,\"#d8576b\"],[0.6666666666666666,\"#ed7953\"],[0.7777777777777778,\"#fb9f3a\"],[0.8888888888888888,\"#fdca26\"],[1.0,\"#f0f921\"]]},\"legend\":{\"tracegroupgap\":0},\"margin\":{\"t\":60}},                        {\"responsive\": true}                    ).then(function(){\n",
       "                            \n",
       "var gd = document.getElementById('b25d085e-553d-4759-b8e1-8c8fcc7e60dc');\n",
       "var x = new MutationObserver(function (mutations, observer) {{\n",
       "        var display = window.getComputedStyle(gd).display;\n",
       "        if (!display || display === 'none') {{\n",
       "            console.log([gd, 'removed!']);\n",
       "            Plotly.purge(gd);\n",
       "            observer.disconnect();\n",
       "        }}\n",
       "}});\n",
       "\n",
       "// Listen for the removal of the full notebook cells\n",
       "var notebookContainer = gd.closest('#notebook-container');\n",
       "if (notebookContainer) {{\n",
       "    x.observe(notebookContainer, {childList: true});\n",
       "}}\n",
       "\n",
       "// Listen for the clearing of the current output cell\n",
       "var outputEl = gd.closest('.output');\n",
       "if (outputEl) {{\n",
       "    x.observe(outputEl, {childList: true});\n",
       "}}\n",
       "\n",
       "                        })                };                });            </script>        </div>"
      ]
     },
     "metadata": {},
     "output_type": "display_data"
    }
   ],
   "source": [
    "import plotly.express as px\n",
    "fig=px.scatter_3d(df, x='X1_Square', y='X2_Square', z='X1*X2', color='Y')\n",
    "fig.show()\n",
    "plt.show()"
   ]
  },
  {
   "cell_type": "code",
   "execution_count": 132,
   "id": "25496e71",
   "metadata": {},
   "outputs": [
    {
     "data": {
      "text/plain": [
       "0.45"
      ]
     },
     "execution_count": 132,
     "metadata": {},
     "output_type": "execute_result"
    }
   ],
   "source": [
    "classifier=SVC(kernel='linear')\n",
    "classifier.fit(X_train,y_train)\n",
    "y_pred=classifier.predict(X_test)\n",
    "accuracy_score(y_test, y_pred)"
   ]
  },
  {
   "cell_type": "markdown",
   "id": "083ee91e",
   "metadata": {},
   "source": [
    "# Radial Basis Function Kernel"
   ]
  },
  {
   "cell_type": "code",
   "execution_count": 133,
   "id": "baec2813",
   "metadata": {},
   "outputs": [
    {
     "data": {
      "text/html": [
       "<div>\n",
       "<style scoped>\n",
       "    .dataframe tbody tr th:only-of-type {\n",
       "        vertical-align: middle;\n",
       "    }\n",
       "\n",
       "    .dataframe tbody tr th {\n",
       "        vertical-align: top;\n",
       "    }\n",
       "\n",
       "    .dataframe thead th {\n",
       "        text-align: right;\n",
       "    }\n",
       "</style>\n",
       "<table border=\"1\" class=\"dataframe\">\n",
       "  <thead>\n",
       "    <tr style=\"text-align: right;\">\n",
       "      <th></th>\n",
       "      <th>X1</th>\n",
       "      <th>X2</th>\n",
       "      <th>Y</th>\n",
       "      <th>X1_Square</th>\n",
       "      <th>X2_Square</th>\n",
       "      <th>X1*X2</th>\n",
       "    </tr>\n",
       "  </thead>\n",
       "  <tbody>\n",
       "    <tr>\n",
       "      <th>0</th>\n",
       "      <td>8.660254</td>\n",
       "      <td>-5.00000</td>\n",
       "      <td>0</td>\n",
       "      <td>75.000000</td>\n",
       "      <td>25.000000</td>\n",
       "      <td>-43.301270</td>\n",
       "    </tr>\n",
       "    <tr>\n",
       "      <th>1</th>\n",
       "      <td>8.717792</td>\n",
       "      <td>-4.89899</td>\n",
       "      <td>0</td>\n",
       "      <td>75.999898</td>\n",
       "      <td>24.000102</td>\n",
       "      <td>-42.708375</td>\n",
       "    </tr>\n",
       "    <tr>\n",
       "      <th>2</th>\n",
       "      <td>8.773790</td>\n",
       "      <td>-4.79798</td>\n",
       "      <td>0</td>\n",
       "      <td>76.979390</td>\n",
       "      <td>23.020610</td>\n",
       "      <td>-42.096467</td>\n",
       "    </tr>\n",
       "    <tr>\n",
       "      <th>3</th>\n",
       "      <td>8.828277</td>\n",
       "      <td>-4.69697</td>\n",
       "      <td>0</td>\n",
       "      <td>77.938476</td>\n",
       "      <td>22.061524</td>\n",
       "      <td>-41.466150</td>\n",
       "    </tr>\n",
       "    <tr>\n",
       "      <th>4</th>\n",
       "      <td>8.881281</td>\n",
       "      <td>-4.59596</td>\n",
       "      <td>0</td>\n",
       "      <td>78.877155</td>\n",
       "      <td>21.122845</td>\n",
       "      <td>-40.818009</td>\n",
       "    </tr>\n",
       "  </tbody>\n",
       "</table>\n",
       "</div>"
      ],
      "text/plain": [
       "         X1       X2  Y  X1_Square  X2_Square      X1*X2\n",
       "0  8.660254 -5.00000  0  75.000000  25.000000 -43.301270\n",
       "1  8.717792 -4.89899  0  75.999898  24.000102 -42.708375\n",
       "2  8.773790 -4.79798  0  76.979390  23.020610 -42.096467\n",
       "3  8.828277 -4.69697  0  77.938476  22.061524 -41.466150\n",
       "4  8.881281 -4.59596  0  78.877155  21.122845 -40.818009"
      ]
     },
     "execution_count": 133,
     "metadata": {},
     "output_type": "execute_result"
    }
   ],
   "source": [
    "df.head()"
   ]
  },
  {
   "cell_type": "code",
   "execution_count": 134,
   "id": "d392ebb0",
   "metadata": {},
   "outputs": [],
   "source": [
    "## Independent Features\n",
    "X=df.iloc[:,0:2]\n",
    "y=df.Y"
   ]
  },
  {
   "cell_type": "code",
   "execution_count": 135,
   "id": "0df6108c",
   "metadata": {},
   "outputs": [
    {
     "data": {
      "text/html": [
       "<div>\n",
       "<style scoped>\n",
       "    .dataframe tbody tr th:only-of-type {\n",
       "        vertical-align: middle;\n",
       "    }\n",
       "\n",
       "    .dataframe tbody tr th {\n",
       "        vertical-align: top;\n",
       "    }\n",
       "\n",
       "    .dataframe thead th {\n",
       "        text-align: right;\n",
       "    }\n",
       "</style>\n",
       "<table border=\"1\" class=\"dataframe\">\n",
       "  <thead>\n",
       "    <tr style=\"text-align: right;\">\n",
       "      <th></th>\n",
       "      <th>X1</th>\n",
       "      <th>X2</th>\n",
       "    </tr>\n",
       "  </thead>\n",
       "  <tbody>\n",
       "    <tr>\n",
       "      <th>0</th>\n",
       "      <td>8.660254</td>\n",
       "      <td>-5.00000</td>\n",
       "    </tr>\n",
       "    <tr>\n",
       "      <th>1</th>\n",
       "      <td>8.717792</td>\n",
       "      <td>-4.89899</td>\n",
       "    </tr>\n",
       "    <tr>\n",
       "      <th>2</th>\n",
       "      <td>8.773790</td>\n",
       "      <td>-4.79798</td>\n",
       "    </tr>\n",
       "    <tr>\n",
       "      <th>3</th>\n",
       "      <td>8.828277</td>\n",
       "      <td>-4.69697</td>\n",
       "    </tr>\n",
       "    <tr>\n",
       "      <th>4</th>\n",
       "      <td>8.881281</td>\n",
       "      <td>-4.59596</td>\n",
       "    </tr>\n",
       "  </tbody>\n",
       "</table>\n",
       "</div>"
      ],
      "text/plain": [
       "         X1       X2\n",
       "0  8.660254 -5.00000\n",
       "1  8.717792 -4.89899\n",
       "2  8.773790 -4.79798\n",
       "3  8.828277 -4.69697\n",
       "4  8.881281 -4.59596"
      ]
     },
     "execution_count": 135,
     "metadata": {},
     "output_type": "execute_result"
    }
   ],
   "source": [
    "X.head()"
   ]
  },
  {
   "cell_type": "code",
   "execution_count": 136,
   "id": "b27f66ab",
   "metadata": {},
   "outputs": [],
   "source": [
    "# Train Test split\n",
    "from sklearn.model_selection import train_test_split\n",
    "X_train,X_test,y_train,y_test=train_test_split(X,y,\n",
    "                                               test_size=0.25,\n",
    "                                               random_state=42)"
   ]
  },
  {
   "cell_type": "code",
   "execution_count": 137,
   "id": "3a5b1d05",
   "metadata": {},
   "outputs": [
    {
     "data": {
      "text/plain": [
       "0.42"
      ]
     },
     "execution_count": 137,
     "metadata": {},
     "output_type": "execute_result"
    }
   ],
   "source": [
    "classifier=SVC(kernel='rbf')\n",
    "classifier.fit(X_train,y_train)\n",
    "y_pred=classifier.predict(X_test)\n",
    "accuracy_score(y_test, y_pred)"
   ]
  },
  {
   "cell_type": "markdown",
   "id": "376bb12f",
   "metadata": {},
   "source": [
    "# Sigmoid Function Kernel"
   ]
  },
  {
   "cell_type": "code",
   "execution_count": 138,
   "id": "5540d565",
   "metadata": {},
   "outputs": [
    {
     "data": {
      "text/plain": [
       "0.46"
      ]
     },
     "execution_count": 138,
     "metadata": {},
     "output_type": "execute_result"
    }
   ],
   "source": [
    "classifier=SVC(kernel='sigmoid')\n",
    "classifier.fit(X_train,y_train)\n",
    "y_pred=classifier.predict(X_test)\n",
    "accuracy_score(y_test, y_pred)"
   ]
  },
  {
   "cell_type": "code",
   "execution_count": null,
   "id": "60fc402c",
   "metadata": {},
   "outputs": [],
   "source": []
  },
  {
   "cell_type": "code",
   "execution_count": null,
   "id": "8a2ca3f3",
   "metadata": {},
   "outputs": [],
   "source": []
  }
 ],
 "metadata": {
  "kernelspec": {
   "display_name": "Python 3 (ipykernel)",
   "language": "python",
   "name": "python3"
  },
  "language_info": {
   "codemirror_mode": {
    "name": "ipython",
    "version": 3
   },
   "file_extension": ".py",
   "mimetype": "text/x-python",
   "name": "python",
   "nbconvert_exporter": "python",
   "pygments_lexer": "ipython3",
   "version": "3.9.13"
  }
 },
 "nbformat": 4,
 "nbformat_minor": 5
}
